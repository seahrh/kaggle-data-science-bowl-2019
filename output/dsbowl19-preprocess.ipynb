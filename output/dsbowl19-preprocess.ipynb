{
 "cells": [
  {
   "cell_type": "code",
   "execution_count": 1,
   "metadata": {
    "_cell_guid": "b1076dfc-b9ad-4769-8c92-a6c4dae69d19",
    "_uuid": "8f2839f25d086af736a60e9eeb907d3b93b6e0e5"
   },
   "outputs": [
    {
     "name": "stdout",
     "output_type": "stream",
     "text": [
      "\n",
      "INSTALLED VERSIONS\n",
      "------------------\n",
      "commit           : None\n",
      "python           : 3.7.1.final.0\n",
      "python-bits      : 64\n",
      "OS               : Windows\n",
      "OS-release       : 7\n",
      "machine          : AMD64\n",
      "processor        : Intel64 Family 6 Model 58 Stepping 9, GenuineIntel\n",
      "byteorder        : little\n",
      "LC_ALL           : None\n",
      "LANG             : None\n",
      "LOCALE           : None.None\n",
      "\n",
      "pandas           : 0.25.3\n",
      "numpy            : 1.17.4\n",
      "pytz             : 2019.3\n",
      "dateutil         : 2.8.1\n",
      "pip              : 19.3.1\n",
      "setuptools       : 39.0.1\n",
      "Cython           : None\n",
      "pytest           : None\n",
      "hypothesis       : None\n",
      "sphinx           : None\n",
      "blosc            : None\n",
      "feather          : None\n",
      "xlsxwriter       : None\n",
      "lxml.etree       : None\n",
      "html5lib         : None\n",
      "pymysql          : None\n",
      "psycopg2         : None\n",
      "jinja2           : 2.10.3\n",
      "IPython          : 7.10.2\n",
      "pandas_datareader: None\n",
      "bs4              : None\n",
      "bottleneck       : None\n",
      "fastparquet      : None\n",
      "gcsfs            : None\n",
      "lxml.etree       : None\n",
      "matplotlib       : 3.1.2\n",
      "numexpr          : None\n",
      "odfpy            : None\n",
      "openpyxl         : None\n",
      "pandas_gbq       : None\n",
      "pyarrow          : 0.15.1\n",
      "pytables         : None\n",
      "s3fs             : None\n",
      "scipy            : 1.4.1\n",
      "sqlalchemy       : None\n",
      "tables           : None\n",
      "xarray           : None\n",
      "xlrd             : None\n",
      "xlwt             : None\n",
      "xlsxwriter       : None\n"
     ]
    }
   ],
   "source": [
    "import os\n",
    "import re\n",
    "import random\n",
    "from math import sqrt\n",
    "import json\n",
    "import numpy as np\n",
    "import pandas as pd\n",
    "import lightgbm as lgb\n",
    "import sklearn\n",
    "from sklearn.pipeline import Pipeline\n",
    "from sklearn.metrics import cohen_kappa_score, make_scorer, mean_squared_error\n",
    "from sklearn.model_selection import GridSearchCV\n",
    "import matplotlib.pyplot as plt\n",
    "import seaborn as sns\n",
    "from tqdm import tqdm\n",
    "from scipy.stats import ks_2samp\n",
    "\n",
    "pd.show_versions()"
   ]
  },
  {
   "cell_type": "code",
   "execution_count": 2,
   "metadata": {},
   "outputs": [],
   "source": [
    "def _log(str):\n",
    "    os.system(f'echo \\\"{str}\\\"')\n",
    "    print(str)"
   ]
  },
  {
   "cell_type": "code",
   "execution_count": 3,
   "metadata": {},
   "outputs": [],
   "source": [
    "NAN = '__NAN__'\n",
    "INPUT_ROOT = '../input/data-science-bowl-2019'\n",
    "JOIN_KEY = ['installation_id', 'game_session', 'title']\n",
    "TARGET = 'accuracy_group'\n",
    "FEATURES = {\n",
    "    'event_id', \n",
    "    'game_session', \n",
    "    'timestamp', \n",
    "    'installation_id', \n",
    "    'event_count',\n",
    "    'event_code', \n",
    "    'game_time', \n",
    "    'title', \n",
    "    'type', \n",
    "    'world',\n",
    "    'event_data'\n",
    "}\n",
    "EVENT_CODES = ['2000', '2010', '2020', '2025', '2030', '2035', '2040', '2050', '2060', '2070', '2075', '2080', '2081', '2083', '3010', '3020', '3021', '3110', '3120', '3121', '4010', '4020', '4021', '4022', '4025', '4030', '4031', '4035', '4040', '4045', '4050', '4070', '4080', '4090', '4095', '4100', '4110', '4220', '4230', '4235', '5000', '5010']\n",
    "SEED = 31\n",
    "FOLDS = 3\n",
    "ESTIMATORS = 1000"
   ]
  },
  {
   "cell_type": "code",
   "execution_count": 4,
   "metadata": {},
   "outputs": [],
   "source": [
    "def _init():\n",
    "    # Characters such as empty strings '' or numpy.inf are considered NA values\n",
    "    pd.set_option('use_inf_as_na', True)\n",
    "    pd.set_option('display.max_columns', 999)\n",
    "    pd.set_option('display.max_rows', 999)\n",
    "    \n",
    "    \n",
    "_init()"
   ]
  },
  {
   "cell_type": "code",
   "execution_count": 5,
   "metadata": {},
   "outputs": [],
   "source": [
    "def seed_everything(seed):\n",
    "    random.seed(seed)\n",
    "    os.environ['PYTHONHASHSEED'] = str(seed)\n",
    "    np.random.seed(seed)\n",
    "\n",
    "\n",
    "seed_everything(SEED)"
   ]
  },
  {
   "cell_type": "code",
   "execution_count": 6,
   "metadata": {},
   "outputs": [
    {
     "name": "stdout",
     "output_type": "stream",
     "text": [
      "../input/data-science-bowl-2019\\sample_submission.csv\n",
      "../input/data-science-bowl-2019\\test.csv\n",
      "../input/data-science-bowl-2019\\test.csv.zip\n",
      "../input/data-science-bowl-2019\\train.csv\n",
      "../input/data-science-bowl-2019\\train.csv.zip\n",
      "../input/data-science-bowl-2019\\train_labels.csv\n",
      "../input/data-science-bowl-2019\\train_labels.csv.zip\n"
     ]
    }
   ],
   "source": [
    "# Input data files are available in the \"../input/\" directory.\n",
    "# For example, running this (by clicking run or pressing Shift+Enter) will list all files under the input directory\n",
    "\n",
    "for dirname, _, filenames in os.walk(INPUT_ROOT):\n",
    "    for filename in filenames:\n",
    "        _log(os.path.join(dirname, filename))\n",
    "\n",
    "# Any results you write to the current directory are saved as output."
   ]
  },
  {
   "cell_type": "code",
   "execution_count": 7,
   "metadata": {
    "_cell_guid": "79c7e3d0-c299-4dcb-8224-4455121ee9b0",
    "_uuid": "d629ff2d2480ee46fbb7e2d37f6b5fab8052498a"
   },
   "outputs": [
    {
     "name": "stdout",
     "output_type": "stream",
     "text": [
      "<class 'pandas.core.frame.DataFrame'>\n",
      "RangeIndex: 17690 entries, 0 to 17689\n",
      "Data columns (total 4 columns):\n",
      "game_session       17690 non-null object\n",
      "installation_id    17690 non-null object\n",
      "title              17690 non-null object\n",
      "accuracy_group     17690 non-null int64\n",
      "dtypes: int64(1), object(3)\n",
      "memory usage: 552.9+ KB\n",
      "Wall time: 53.8 s\n"
     ]
    }
   ],
   "source": [
    "%%time\n",
    "train_raw = pd.read_csv(f'{INPUT_ROOT}/train.csv', usecols=FEATURES)\n",
    "train_labels = pd.read_csv(f'{INPUT_ROOT}/train_labels.csv', usecols=JOIN_KEY + [TARGET])\n",
    "test_raw = pd.read_csv(f'{INPUT_ROOT}/test.csv', usecols=FEATURES)\n",
    "train_labels.info()"
   ]
  },
  {
   "cell_type": "markdown",
   "metadata": {},
   "source": [
    "# Add labels to train data"
   ]
  },
  {
   "cell_type": "code",
   "execution_count": 8,
   "metadata": {},
   "outputs": [],
   "source": [
    "def _remove_unlabelled_data(train_raw, train_labels):\n",
    "    return train_raw[train_raw['installation_id'].isin(train_labels['installation_id'].unique())]\n",
    "\n",
    "\n",
    "train_raw = _remove_unlabelled_data(train_raw, train_labels)"
   ]
  },
  {
   "cell_type": "code",
   "execution_count": 9,
   "metadata": {},
   "outputs": [
    {
     "name": "stdout",
     "output_type": "stream",
     "text": [
      "Wall time: 4.53 s\n"
     ]
    }
   ],
   "source": [
    "%%time\n",
    "def _add_labels(train_raw, train_labels, on):\n",
    "    return pd.merge(train_raw, train_labels, on=on, how='left')\n",
    "\n",
    "\n",
    "train_raw = _add_labels(train_raw, train_labels, on=JOIN_KEY)\n",
    "del train_labels"
   ]
  },
  {
   "cell_type": "markdown",
   "metadata": {},
   "source": [
    "# Extract event data JSON"
   ]
  },
  {
   "cell_type": "code",
   "execution_count": 10,
   "metadata": {},
   "outputs": [
    {
     "name": "stderr",
     "output_type": "stream",
     "text": [
      "100%|████████████████████████████████████████████████████| 8/8 [10:45<00:00, 80.69s/it]\n",
      "100%|████████████████████████████████████████████████████| 2/2 [01:49<00:00, 54.92s/it]\n"
     ]
    }
   ],
   "source": [
    "def _concat_columns(df1, df2):\n",
    "    \"\"\"Concatenate the columns of two pandas dataframes in the order of the operands.\n",
    "    Both dataframes must have the same number of rows.\n",
    "    \"\"\"\n",
    "    assert len(df1) == len(df2)\n",
    "    res = pd.concat([df1, df2.reindex(df1.index)], axis=1, join='inner')\n",
    "    assert len(res) == len(df1)\n",
    "    return res\n",
    "    \n",
    "\n",
    "def _extract_event_data(df, keep_cols, chunk_size=1000000):\n",
    "    res = pd.DataFrame()\n",
    "    _len = len(df)\n",
    "    for i in tqdm(range(0, _len, chunk_size)):\n",
    "        if i + chunk_size < _len:\n",
    "            chunk = df[i:i + chunk_size].copy()\n",
    "        else:\n",
    "            chunk = df[i:].copy()\n",
    "        ed = pd.io.json.json_normalize(chunk['event_data'].apply(json.loads)).add_prefix('ed.')\n",
    "        ed = ed[keep_cols]\n",
    "        chunk = _concat_columns(chunk, ed)\n",
    "        res = pd.concat([res, chunk], ignore_index=True, sort=False)\n",
    "    assert len(df) == len(res)\n",
    "    return res\n",
    "\n",
    "\n",
    "keep_cols = ['ed.identifier', 'ed.duration', 'ed.level', 'ed.round', 'ed.correct', 'ed.misses',\n",
    "            'ed.weight', 'ed.total_duration', 'ed.source']\n",
    "train_raw = _extract_event_data(train_raw, keep_cols)\n",
    "test_raw = _extract_event_data(test_raw, keep_cols)"
   ]
  },
  {
   "cell_type": "code",
   "execution_count": 11,
   "metadata": {},
   "outputs": [
    {
     "name": "stdout",
     "output_type": "stream",
     "text": [
      "<class 'pandas.core.frame.DataFrame'>\n",
      "RangeIndex: 1156414 entries, 0 to 1156413\n",
      "Data columns (total 20 columns):\n",
      "event_id             1156414 non-null object\n",
      "game_session         1156414 non-null object\n",
      "timestamp            1156414 non-null object\n",
      "event_data           1156414 non-null object\n",
      "installation_id      1156414 non-null object\n",
      "event_count          1156414 non-null int64\n",
      "event_code           1156414 non-null int64\n",
      "game_time            1156414 non-null int64\n",
      "title                1156414 non-null object\n",
      "type                 1156414 non-null object\n",
      "world                1156414 non-null object\n",
      "ed.identifier        337810 non-null object\n",
      "ed.duration          336619 non-null float64\n",
      "ed.level             84208 non-null float64\n",
      "ed.round             598718 non-null float64\n",
      "ed.correct           69806 non-null object\n",
      "ed.misses            23658 non-null float64\n",
      "ed.weight            50353 non-null float64\n",
      "ed.total_duration    170228 non-null float64\n",
      "ed.source            144623 non-null object\n",
      "dtypes: float64(6), int64(3), object(11)\n",
      "memory usage: 176.5+ MB\n"
     ]
    }
   ],
   "source": [
    "test_raw.info(max_cols=999)"
   ]
  },
  {
   "cell_type": "code",
   "execution_count": 12,
   "metadata": {},
   "outputs": [
    {
     "name": "stdout",
     "output_type": "stream",
     "text": [
      "<class 'pandas.core.frame.DataFrame'>\n",
      "RangeIndex: 7734558 entries, 0 to 7734557\n",
      "Data columns (total 21 columns):\n",
      "event_id             object\n",
      "game_session         object\n",
      "timestamp            object\n",
      "event_data           object\n",
      "installation_id      object\n",
      "event_count          int64\n",
      "event_code           int64\n",
      "game_time            int64\n",
      "title                object\n",
      "type                 object\n",
      "world                object\n",
      "accuracy_group       float64\n",
      "ed.identifier        object\n",
      "ed.duration          float64\n",
      "ed.level             float64\n",
      "ed.round             float64\n",
      "ed.correct           object\n",
      "ed.misses            float64\n",
      "ed.weight            float64\n",
      "ed.total_duration    float64\n",
      "ed.source            object\n",
      "dtypes: float64(7), int64(3), object(11)\n",
      "memory usage: 1.2+ GB\n"
     ]
    }
   ],
   "source": [
    "train_raw.info(max_cols=999)"
   ]
  },
  {
   "cell_type": "code",
   "execution_count": 13,
   "metadata": {},
   "outputs": [
    {
     "name": "stdout",
     "output_type": "stream",
     "text": [
      "0 event_ids exist in test set but not train set.\n"
     ]
    }
   ],
   "source": [
    "# All event ids in test set also exist in train set\n",
    "test_set = set(test_raw['event_id'])\n",
    "train_set = set(train_raw['event_id'])\n",
    "vs = test_set - train_set\n",
    "_log(f'{len(vs)} event_ids exist in test set but not train set.')"
   ]
  },
  {
   "cell_type": "code",
   "execution_count": 14,
   "metadata": {},
   "outputs": [
    {
     "name": "stdout",
     "output_type": "stream",
     "text": [
      "365 EVENT_IDS=['0086365d', '00c73085', '022b4259', '02a42007', '0330ab6a', '0413e89d', '04df9b66', '05ad839b', '06372577', '070a5291', '08fd73f3', '08ff79ad', '0a08139c', '0d18d96c', '0d1da71f', '0db6d71d', '1325467d', '1340b8d7', '1375ccb7', '14de4c5d', '155f62a4', '1575e76c', '15a43e5b', '15ba1109', '15eb4a7d', '15f99afc', '160654fd', '16667cc5', '16dffff1', '17113b36', '19967db1', '1996c610', '1af8be29', '1bb5fbdb', '1beb320a', '1c178d24', '1cc7cfca', '1cf54632', '1f19558b', '222660ff', '2230fab4', '250513af', '25fa8af4', '262136f4', '26a5a3dd', '26fd2d99', '27253bdc', '28520915', '28a4eb9a', '28ed704e', '28f975ea', '29bdd9ba', '29f54413', '2a444e03', '2a512369', '2b058fe3', '2b9272f4', '2c4e6db0', '2dc29e21', '2dcad279', '2fb91ec1', '30614231', '30df3273', '31973d56', '3323d7e9', '33505eae', '3393b68b', '363c86c9', '363d3849', '36fa3ebe', '37937459', '37c53127', '37db1c2f', '37ee8496', '38074c54', '392e14df', '3a4be871', '3afb49e6', '3afde5dd', '3b2048ee', '3babcb9b', '3bb91ced', '3bb91dda', '3bf1cf26', '3bfd1a65', '3ccd3f02', '3d0b9317', '3d63345e', '3d8c61b0', '3dcdda7f', '3ddc79c3', '3dfd4aa4', '3edf6747', '3ee399c3', '44cb4907', '45d01abe', '461eace6', '46b50ba8', '46cd75b4', '47026d5f', '47efca07', '47f43a44', '48349b14', '4901243f', '499edb7c', '49ed92e9', '4a09ace1', '4a4c3d21', '4b5efe37', '4bb2f698', '4c2ec19f', '4d6737eb', '4d911100', '4e5fc6f5', '4ef8cdd3', '51102b85', '51311d7a', '5154fc30', '5290eab1', '532a2afb', '5348fd84', '53c6e11a', '55115cbd', '562cec5f', '565a3990', '56817e2b', '56bcd38d', '56cd3b43', '5859dfb6', '587b5989', '58a0de5c', '598f4598', '5a848010', '5b49460a', '5be391b5', '5c2f29ca', '5c3d2b2f', '5d042115', '5de79a6a', '5e109ec3', '5e3ea25a', '5e812b27', '5f0eb72c', '5f5b2617', '6043a2b4', '6077cc36', '6088b756', '63f13dd7', '65a38bf7', '65abac75', '67439901', '67aa2ada', '69fdac0a', '6aeafed4', '6bf9e3e1', '6c517a88', '6c930e6e', '6cf7d25c', '6d90d394', '6f445b57', '6f4adc4b', '6f4bd64e', '6f8106d9', '7040c096', '709b1251', '71e712d8', '71fe8f75', '731c0cbe', '736f9581', '7372e1a5', '73757a5e', '7423acbc', '74e5f8a7', '7525289a', '756e5507', '763fc34e', '76babcde', '77261ab5', '77c76bc5', '77ead60d', '792530f8', '795e4a37', '7961e599', '7ab78247', '7ad3efc6', '7cf1bc53', '7d093bf9', '7d5c30a2', '7da34a02', '7dfe6d8a', '7ec0c298', '7f0836bf', '804ee27f', '828e68f9', '832735e1', '83c6c409', '84538528', '84b0e0c8', '857f21c0', '85d1b0de', '85de926c', '86ba578b', '86c924c4', '87d743c1', '884228c8', '88d4a5be', '895865f3', '89aace00', '8ac7cce4', '8af75982', '8b757ab8', '8d748b58', '8d7e386c', '8d84fa81', '8f094001', '8fee50e2', '907a054b', '90d848e0', '90ea0bac', '90efca10', '91561152', '923afab1', '92687c59', '93b353f2', '93edfe2e', '9554a50b', '99abe2bb', '99ea62f3', '9b01374f', '9b23e8ee', '9b4001e4', '9c5ef70c', '9ce586dd', '9d29771f', '9d4e7b25', '9de5e594', '9e34ea74', '9e4c8c7b', '9e6b7fb5', '9ed8f6da', '9ee1c98c', 'a0faea5d', 'a1192f43', 'a16a373e', 'a1bbe385', 'a1e4395d', 'a29c5338', 'a2df0760', 'a44b10dc', 'a52b92d5', 'a592d54e', 'a5be6304', 'a5e9da97', 'a6d66e51', 'a76029ee', 'a7640a16', 'a8876db3', 'a8a78786', 'a8efe47b', 'ab3136ba', 'abc5811c', 'ac92046e', 'acf5c23f', 'ad148f58', 'ad2fc29c', 'b012cd7f', 'b120f2ac', 'b1d5101d', 'b2dba42b', 'b2e5b0f1', 'b5053438', 'b74258a0', 'b7530680', 'b7dc8128', 'b80e5e84', 'b88f38da', 'bb3e370b', 'bbfe0445', 'bc8f2793', 'bcceccc6', 'bd612267', 'bd701df8', 'bdf49a58', 'beb0a7b9', 'c0415e5c', 'c189aaf2', 'c1cac9a2', 'c277e121', 'c2baf0bd', 'c51d8688', 'c54cf6c5', 'c58186bf', 'c6971acf', 'c7128948', 'c74f40cd', 'c7f7f0e1', 'c7fe2a55', 'c952eb01', 'ca11f653', 'cb1178ad', 'cb6010f8', 'cc5087a3', 'cdd22e43', 'cf7638f3', 'cf82af56', 'cfbd47c8', 'd02b7a8e', 'd06f75b5', 'd122731b', 'd185d3ea', 'd2278a3b', 'd2659ab4', 'd2e9262e', 'd3268efa', 'd3640339', 'd38c2fd7', 'd3f1e122', 'd45ed6a1', 'd51b1749', 'd88ca108', 'd88e8f25', 'd9c005dd', 'daac11b0', 'db02c830', 'dcaede90', 'dcb55a27', 'de26c3a6', 'df4940d3', 'df4fe8b6', 'e04fb33d', 'e080a381', 'e37a2b78', 'e3ff61fb', 'e4f1efe6', 'e5734469', 'e57dd7af', 'e5c9df6f', 'e64e2cfd', 'e694a35b', 'e720d930', 'e7561dd2', 'e79f3763', 'e7e44842', 'e9c52111', 'ea296733', 'ea321fb1', 'eb2c19cd', 'ec138c1c', 'ecaab346', 'ecc36b7f', 'f28c589a', 'f32856e4', 'f3cd5473', 'f50fc6c1', 'f54238ee', 'f56e0afc', 'f5b8c21a', 'f6947f54', 'f71c4741', 'f7e47413', 'f806dc10', 'f93fc684', 'fbaf3456', 'fcfdffb6', 'fd20ea40']\n"
     ]
    }
   ],
   "source": [
    "EVENT_IDS = sorted(test_raw['event_id'].unique())\n",
    "_log(f'{len(EVENT_IDS)} EVENT_IDS={EVENT_IDS}')"
   ]
  },
  {
   "cell_type": "code",
   "execution_count": 15,
   "metadata": {},
   "outputs": [
    {
     "data": {
      "text/plain": [
       "Bottle Filler (Activity)         112223\n",
       "Scrub-A-Dub                       96619\n",
       "Chow Time                         93142\n",
       "Sandcastle Builder (Activity)     82132\n",
       "Fireworks (Activity)              61032\n",
       "Bug Measurer (Activity)           59886\n",
       "Bubble Bath                       55264\n",
       "Dino Drink                        53989\n",
       "Dino Dive                         49368\n",
       "Crystals Rule                     46867\n",
       "Chicken Balancer (Activity)       45874\n",
       "All Star Sorting                  45863\n",
       "Flower Waterer (Activity)         43819\n",
       "Happy Camel                       39806\n",
       "Pan Balance                       38649\n",
       "Watering Hole (Activity)          35367\n",
       "Air Show                          27119\n",
       "Egg Dropper (Activity)            25941\n",
       "Leaf Leader                       25574\n",
       "Cauldron Filler (Assessment)      23440\n",
       "Mushroom Sorter (Assessment)      21962\n",
       "Bird Measurer (Assessment)        20086\n",
       "Cart Balancer (Assessment)        19235\n",
       "Chest Sorter (Assessment)         17904\n",
       "Crystal Caves - Level 2            1450\n",
       "Welcome to Lost Lagoon!            1441\n",
       "Magma Peak - Level 2               1434\n",
       "Tree Top City - Level 2            1277\n",
       "Crystal Caves - Level 3            1101\n",
       "Crystal Caves - Level 1             925\n",
       "Magma Peak - Level 1                903\n",
       "Tree Top City - Level 1             901\n",
       "Tree Top City - Level 3             842\n",
       "Ordering Spheres                    783\n",
       "Slop Problem                        552\n",
       "Lifting Heavy Things                535\n",
       "Balancing Act                       528\n",
       "Pirate's Tale                       463\n",
       "Honey Cake                          442\n",
       "12 Monkeys                          430\n",
       "Costume Box                         422\n",
       "Rulers                              320\n",
       "Heavy, Heavier, Heaviest            281\n",
       "Treasure Map                        223\n",
       "Name: title, dtype: int64"
      ]
     },
     "execution_count": 15,
     "metadata": {},
     "output_type": "execute_result"
    }
   ],
   "source": [
    "TITLES = test_raw['title'].unique()\n",
    "test_raw['title'].value_counts()"
   ]
  },
  {
   "cell_type": "code",
   "execution_count": 16,
   "metadata": {},
   "outputs": [
    {
     "data": {
      "text/plain": [
       "Game          572260\n",
       "Activity      466274\n",
       "Assessment    102627\n",
       "Clip           15253\n",
       "Name: type, dtype: int64"
      ]
     },
     "execution_count": 16,
     "metadata": {},
     "output_type": "execute_result"
    }
   ],
   "source": [
    "TYPES = test_raw['type'].unique()\n",
    "test_raw['type'].value_counts()"
   ]
  },
  {
   "cell_type": "code",
   "execution_count": 17,
   "metadata": {},
   "outputs": [
    {
     "data": {
      "text/plain": [
       "MAGMAPEAK       511291\n",
       "TREETOPCITY     332295\n",
       "CRYSTALCAVES    311387\n",
       "NONE              1441\n",
       "Name: world, dtype: int64"
      ]
     },
     "execution_count": 17,
     "metadata": {},
     "output_type": "execute_result"
    }
   ],
   "source": [
    "WORLDS = test_raw['world'].unique()\n",
    "test_raw['world'].value_counts()"
   ]
  },
  {
   "cell_type": "code",
   "execution_count": 18,
   "metadata": {},
   "outputs": [
    {
     "data": {
      "text/plain": [
       "resources    64271\n",
       "scale         9336\n",
       "right         8586\n",
       "left          7890\n",
       "7             6791\n",
       "9             5974\n",
       "8             5581\n",
       "10            5106\n",
       "11            4514\n",
       "2             4124\n",
       "5             3457\n",
       "12            3376\n",
       "4             3186\n",
       "1             2816\n",
       "N/A           2770\n",
       "6             2045\n",
       "3             2045\n",
       "middle        1144\n",
       "Heaviest       641\n",
       "Heavy          552\n",
       "Lightest       418\n",
       "Name: ed.source, dtype: int64"
      ]
     },
     "execution_count": 18,
     "metadata": {},
     "output_type": "execute_result"
    }
   ],
   "source": [
    "test_raw['ed.source'].value_counts()"
   ]
  },
  {
   "cell_type": "code",
   "execution_count": 19,
   "metadata": {},
   "outputs": [
    {
     "data": {
      "text/plain": [
       "1438                                                                                                                                                                                                                                                                                        14812\n",
       "1437                                                                                                                                                                                                                                                                                         6738\n",
       "Dot_SoCool                                                                                                                                                                                                                                                                                   6594\n",
       "507                                                                                                                                                                                                                                                                                          6327\n",
       "Buddy_Incoming                                                                                                                                                                                                                                                                               5416\n",
       "Dot_AllDoneTapThis                                                                                                                                                                                                                                                                           5284\n",
       "sid_1                                                                                                                                                                                                                                                                                        5217\n",
       "sid_2                                                                                                                                                                                                                                                                                        5204\n",
       "1408                                                                                                                                                                                                                                                                                         5038\n",
       "count1                                                                                                                                                                                                                                                                                       4495\n",
       "count2                                                                                                                                                                                                                                                                                       4488\n",
       "sid_bugtank_line22                                                                                                                                                                                                                                                                           4007\n",
       "sid_3                                                                                                                                                                                                                                                                                        3804\n",
       "clip_307_touch                                                                                                                                                                                                                                                                               3570\n",
       "addToYourCollection                                                                                                                                                                                                                                                                          3566\n",
       "andItsFull                                                                                                                                                                                                                                                                                   3543\n",
       "count3                                                                                                                                                                                                                                                                                       3479\n",
       "1434                                                                                                                                                                                                                                                                                         3443\n",
       "Dot_FillItUp                                                                                                                                                                                                                                                                                 3435\n",
       "Dot_GreatJob                                                                                                                                                                                                                                                                                 3358\n",
       "sid_bugtank_line21                                                                                                                                                                                                                                                                           3265\n",
       "Buddy_EggsWentToOtherNest                                                                                                                                                                                                                                                                    3092\n",
       "Dot_SoHigh                                                                                                                                                                                                                                                                                   2759\n",
       "Buddy_NoWaterLeft,Buddy_FillClouds                                                                                                                                                                                                                                                           2619\n",
       "ohWow                                                                                                                                                                                                                                                                                        2526\n",
       "wowSoCool                                                                                                                                                                                                                                                                                    2490\n",
       "oohStripes                                                                                                                                                                                                                                                                                   2453\n",
       "Dot_CheckTapHere                                                                                                                                                                                                                                                                             2444\n",
       "sid_4                                                                                                                                                                                                                                                                                        2416\n",
       "thatLooksSoCool                                                                                                                                                                                                                                                                              2401\n",
       "Dot_GoLower                                                                                                                                                                                                                                                                                  2391\n",
       "niceJob                                                                                                                                                                                                                                                                                      2390\n",
       "Mom_ToPlayAgainTouch                                                                                                                                                                                                                                                                         2362\n",
       "NEXTSTONE                                                                                                                                                                                                                                                                                    2319\n",
       "Dot_TryWall                                                                                                                                                                                                                                                                                  2290\n",
       "Mom_HowManyAltogether,Mom_LetsEstimate                                                                                                                                                                                                                                                       2223\n",
       "clip_328                                                                                                                                                                                                                                                                                     2216\n",
       "1431,1401b                                                                                                                                                                                                                                                                                   2209\n",
       "tub_question                                                                                                                                                                                                                                                                                 2167\n",
       "Buddy_TryDifferentNest                                                                                                                                                                                                                                                                       2157\n",
       "Mom_ChooseTheContainer                                                                                                                                                                                                                                                                       2049\n",
       "Mom_TapTheContainer                                                                                                                                                                                                                                                                          2008\n",
       "intro_1331REVA                                                                                                                                                                                                                                                                               1985\n",
       "Cleo_WhichHasToys                                                                                                                                                                                                                                                                            1984\n",
       "Mom_ThatsHowMuchWater                                                                                                                                                                                                                                                                        1930\n",
       "count4                                                                                                                                                                                                                                                                                       1928\n",
       "dragAsc_3101                                                                                                                                                                                                                                                                                 1908\n",
       "Dot_TrySomethingNew                                                                                                                                                                                                                                                                          1899\n",
       "Mom_TapEachContainer,Mom_ThisOneThenLine                                                                                                                                                                                                                                                     1882\n",
       "tub_success                                                                                                                                                                                                                                                                                  1816\n",
       "water_question                                                                                                                                                                                                                                                                               1778\n",
       "sid_5                                                                                                                                                                                                                                                                                        1763\n",
       "dragDesc_3102                                                                                                                                                                                                                                                                                1752\n",
       "tallflower                                                                                                                                                                                                                                                                                   1729\n",
       "water_success                                                                                                                                                                                                                                                                                1726\n",
       "soap_question                                                                                                                                                                                                                                                                                1704\n",
       "sid_bugtank_line20                                                                                                                                                                                                                                                                           1700\n",
       "watchtheseesaw,idle                                                                                                                                                                                                                                                                          1681\n",
       "soap_success                                                                                                                                                                                                                                                                                 1651\n",
       "right1                                                                                                                                                                                                                                                                                       1590\n",
       "Dot_Amazing                                                                                                                                                                                                                                                                                  1576\n",
       "right2                                                                                                                                                                                                                                                                                       1518\n",
       "1434,1435REVA,3200                                                                                                                                                                                                                                                                           1486\n",
       "Dot_WhoaSoCool                                                                                                                                                                                                                                                                               1483\n",
       "Dot_LetsSandcastle,Dot_FillMold,Dot_MoldShape                                                                                                                                                                                                                                                1473\n",
       "Cleo_TipsHeavier,Cleo_ThinkWhich                                                                                                                                                                                                                                                             1465\n",
       "1409                                                                                                                                                                                                                                                                                         1458\n",
       "Cleo_SeePansMove,Cleo_PutBowlOtherPan                                                                                                                                                                                                                                                        1434\n",
       "Dot_Wow                                                                                                                                                                                                                                                                                      1409\n",
       "hello,takeTheSand,useAnyColors,dragABottle                                                                                                                                                                                                                                                   1329\n",
       "Dot_DragMoldPlace                                                                                                                                                                                                                                                                            1308\n",
       "lookAtItGo,idle                                                                                                                                                                                                                                                                              1306\n",
       "ifYouWantToTry                                                                                                                                                                                                                                                                               1303\n",
       "Cleo_BowlTooLight                                                                                                                                                                                                                                                                            1281\n",
       "plantastic                                                                                                                                                                                                                                                                                   1257\n",
       "leangreen                                                                                                                                                                                                                                                                                    1247\n",
       "Dot_LetsFireworks,Dot_DragAnyHeight                                                                                                                                                                                                                                                          1225\n",
       "Dot_GoHigher                                                                                                                                                                                                                                                                                 1202\n",
       "Buddy_BigCloud                                                                                                                                                                                                                                                                               1186\n",
       "greenthumb                                                                                                                                                                                                                                                                                   1184\n",
       "Dot_SoLow                                                                                                                                                                                                                                                                                    1163\n",
       "Dot_Uhoh,Dot_NeedTryAgain                                                                                                                                                                                                                                                                    1137\n",
       "hog_whichtub                                                                                                                                                                                                                                                                                 1122\n",
       "howMany_paperclip                                                                                                                                                                                                                                                                            1114\n",
       "clip_326                                                                                                                                                                                                                                                                                     1101\n",
       "chicken_whichtub                                                                                                                                                                                                                                                                             1075\n",
       "howMany_dice                                                                                                                                                                                                                                                                                 1066\n",
       "509                                                                                                                                                                                                                                                                                          1036\n",
       "pig,whathappens,idle                                                                                                                                                                                                                                                                         1012\n",
       "IncorrectTooHeavy_touch                                                                                                                                                                                                                                                                      1010\n",
       "Dot_DragShovel                                                                                                                                                                                                                                                                               1008\n",
       "Cleo_EpidermisToy,Cleo_PanBalance,Cleo_MoveBowlToPan                                                                                                                                                                                                                                         1005\n",
       "thatsIt_1303                                                                                                                                                                                                                                                                                  995\n",
       "pig_whichtub                                                                                                                                                                                                                                                                                  994\n",
       "Dot_PutRightBucket,Dot_MatchBucket                                                                                                                                                                                                                                                            993\n",
       "intro,wateringcan                                                                                                                                                                                                                                                                             992\n",
       "sheep_whichtub                                                                                                                                                                                                                                                                                979\n",
       "Dot_BalanceScale,Dot_FillTrays,Dot_UseFingerDragGems                                                                                                                                                                                                                                          973\n",
       "cow_whichtub                                                                                                                                                                                                                                                                                  959\n",
       "sid_6                                                                                                                                                                                                                                                                                         955\n",
       "sid_7                                                                                                                                                                                                                                                                                         949\n",
       "Buddy_DinosaursAwfullyThirsty,Buddy_FillClouds                                                                                                                                                                                                                                                949\n",
       "Dot_WhoopsTooShort                                                                                                                                                                                                                                                                            937\n",
       "Cleo_AweOfYourSkills                                                                                                                                                                                                                                                                          915\n",
       "pig_whichwater                                                                                                                                                                                                                                                                                885\n",
       "Dot_PullMushrooms                                                                                                                                                                                                                                                                             883\n",
       "Cleo_NowThreeBowls,Cleo_EpidermisToy,Cleo_WeighTwoBowls                                                                                                                                                                                                                                       877\n",
       "IncorrectTooLight                                                                                                                                                                                                                                                                             873\n",
       "Dot_MoldSmall                                                                                                                                                                                                                                                                                 873\n",
       "501                                                                                                                                                                                                                                                                                           849\n",
       "basket                                                                                                                                                                                                                                                                                        848\n",
       "cow_whichwater                                                                                                                                                                                                                                                                                842\n",
       "Buddy_TaptoStartShower                                                                                                                                                                                                                                                                        837\n",
       "clip_303_touch                                                                                                                                                                                                                                                                                828\n",
       "Dot_ThatsOne                                                                                                                                                                                                                                                                                  818\n",
       "youDidIt_1305                                                                                                                                                                                                                                                                                 815\n",
       "Dot_ThatsIt                                                                                                                                                                                                                                                                                   814\n",
       "Dot_Two                                                                                                                                                                                                                                                                                       808\n",
       "Mom_Count1                                                                                                                                                                                                                                                                                    800\n",
       "Dot_ShortHereTallHere                                                                                                                                                                                                                                                                         798\n",
       "Dot_AndThree                                                                                                                                                                                                                                                                                  798\n",
       "clip_312                                                                                                                                                                                                                                                                                      795\n",
       "Cleo_EpidermisSoHappy                                                                                                                                                                                                                                                                         794\n",
       "chicken_whichwater                                                                                                                                                                                                                                                                            792\n",
       "Dot_EachBucketRight                                                                                                                                                                                                                                                                           792\n",
       "512                                                                                                                                                                                                                                                                                           787\n",
       "clip_300                                                                                                                                                                                                                                                                                      774\n",
       "lookatem,dragchicks                                                                                                                                                                                                                                                                           774\n",
       "NOT_THAT_HEAVY                                                                                                                                                                                                                                                                                767\n",
       "cow_whichsoap                                                                                                                                                                                                                                                                                 766\n",
       "sheep_whichwater                                                                                                                                                                                                                                                                              765\n",
       "chicken_whichsoap                                                                                                                                                                                                                                                                             764\n",
       "pig_whichsoap                                                                                                                                                                                                                                                                                 761\n",
       "Cleo_NowFourBowls,Cleo_EpidermisToy                                                                                                                                                                                                                                                           759\n",
       "Mom_YouFound                                                                                                                                                                                                                                                                                  752\n",
       "wrong2                                                                                                                                                                                                                                                                                        742\n",
       "sheep_whichsoap                                                                                                                                                                                                                                                                               732\n",
       "Dot_YouDidIt,SFX_completedtask                                                                                                                                                                                                                                                                731\n",
       "walk_in,sid_bugtank_line1,sid_bugtank_line2,sid_bugtank_line3                                                                                                                                                                                                                                 730\n",
       "hog_whichwater                                                                                                                                                                                                                                                                                721\n",
       "Dot_UhOhTooTall                                                                                                                                                                                                                                                                               712\n",
       "sid_bugtank_line6,idle                                                                                                                                                                                                                                                                        710\n",
       "Cleo_AmazingPowers                                                                                                                                                                                                                                                                            697\n",
       "clip_327                                                                                                                                                                                                                                                                                      696\n",
       "RIGHTANSWER1                                                                                                                                                                                                                                                                                  692\n",
       "Dot_AlrightThisLittleThisBig                                                                                                                                                                                                                                                                  688\n",
       "hog_whichsoap                                                                                                                                                                                                                                                                                 688\n",
       "REMOVE_WEIGHT                                                                                                                                                                                                                                                                                 675\n",
       "clip_311                                                                                                                                                                                                                                                                                      669\n",
       "Dot_Awesome                                                                                                                                                                                                                                                                                   668\n",
       "morechicksheavier                                                                                                                                                                                                                                                                             667\n",
       "ADD_MORE_WEIGHT                                                                                                                                                                                                                                                                               652\n",
       "greatJob_1306                                                                                                                                                                                                                                                                                 647\n",
       "ThereGoesTheOther                                                                                                                                                                                                                                                                             639\n",
       "YouDidIt                                                                                                                                                                                                                                                                                      635\n",
       "clip_317                                                                                                                                                                                                                                                                                      632\n",
       "howMany_toothbrush                                                                                                                                                                                                                                                                            629\n",
       "1434a                                                                                                                                                                                                                                                                                         629\n",
       "sid_bugtank_line8_ALT                                                                                                                                                                                                                                                                         628\n",
       "Dot_OrderChests                                                                                                                                                                                                                                                                               622\n",
       "Dot_UseCaterpillars,Dot_PullCaterpillarsFinger                                                                                                                                                                                                                                                621\n",
       "515                                                                                                                                                                                                                                                                                           618\n",
       "RIGHTANSWER3                                                                                                                                                                                                                                                                                  615\n",
       "Mom_Count2                                                                                                                                                                                                                                                                                    612\n",
       "WeveGotToBeInBalance,SmallWeighBigWeigh,ClickToAddRemoveRope_touch,MostIs4,AddDinosToRopeUntilEqual,YouKnowTheyAreEqualWhen                                                                                                                                                                   609\n",
       "Buddy_SmallCloud                                                                                                                                                                                                                                                                              604\n",
       "tryAgain0_1333                                                                                                                                                                                                                                                                                600\n",
       "Dot_UsePanBalance                                                                                                                                                                                                                                                                             598\n",
       "Buddy_RocksLogs,Buddy_TapToSwitch                                                                                                                                                                                                                                                             598\n",
       "wrong1                                                                                                                                                                                                                                                                                        595\n",
       "510                                                                                                                                                                                                                                                                                           594\n",
       "Mom_RoomTouch                                                                                                                                                                                                                                                                                 589\n",
       "FirstClickTheSpace                                                                                                                                                                                                                                                                            587\n",
       "Buddy_TapDino                                                                                                                                                                                                                                                                                 586\n",
       "RIGHTANSWER2                                                                                                                                                                                                                                                                                  585\n",
       "tryAgain1_1334                                                                                                                                                                                                                                                                                573\n",
       "502_touch                                                                                                                                                                                                                                                                                     570\n",
       "Dot_MoveDragFinger                                                                                                                                                                                                                                                                            568\n",
       "pigisheavy,chickiesarelight,idle                                                                                                                                                                                                                                                              566\n",
       "YouMovedYourDinosaur,_10,Spaces,IfYouChangeYourMind_touch                                                                                                                                                                                                                                     564\n",
       "ClickOnGo_touch                                                                                                                                                                                                                                                                               564\n",
       "Buddy_MoreThanOneEgg                                                                                                                                                                                                                                                                          559\n",
       "ROCK_IS_HEAVIER                                                                                                                                                                                                                                                                               558\n",
       "Dot_CheckRightTapHere                                                                                                                                                                                                                                                                         547\n",
       "howMany_block                                                                                                                                                                                                                                                                                 544\n",
       "Dot_PlaceBucketHere                                                                                                                                                                                                                                                                           544\n",
       "count5                                                                                                                                                                                                                                                                                        541\n",
       "Dot_PickFinger                                                                                                                                                                                                                                                                                538\n",
       "Dot_BalanceScaleTapHere                                                                                                                                                                                                                                                                       529\n",
       "clip_313_touch,number6                                                                                                                                                                                                                                                                        529\n",
       "INSTRCOMPLETE                                                                                                                                                                                                                                                                                 522\n",
       "clip_301                                                                                                                                                                                                                                                                                      518\n",
       "clip_313_touch,number3                                                                                                                                                                                                                                                                        507\n",
       "clip_306                                                                                                                                                                                                                                                                                      496\n",
       "511                                                                                                                                                                                                                                                                                           495\n",
       "AWESOME                                                                                                                                                                                                                                                                                       492\n",
       "Cleo_ArmStraight,Cleo_SameWeight                                                                                                                                                                                                                                                              491\n",
       "clip_325                                                                                                                                                                                                                                                                                      488\n",
       "clip_304                                                                                                                                                                                                                                                                                      487\n",
       "503_touch                                                                                                                                                                                                                                                                                     482\n",
       "instructions_touch                                                                                                                                                                                                                                                                            481\n",
       "clip_313_touch,number1                                                                                                                                                                                                                                                                        474\n",
       "513                                                                                                                                                                                                                                                                                           466\n",
       "504,505                                                                                                                                                                                                                                                                                       465\n",
       "TheOtherTeamWillFlyFirst                                                                                                                                                                                                                                                                      461\n",
       "Dot_TryTower                                                                                                                                                                                                                                                                                  452\n",
       "WayToGoTeam                                                                                                                                                                                                                                                                                   442\n",
       "Dot_SmallestBucket                                                                                                                                                                                                                                                                            439\n",
       "TheFurtherBackTutorial                                                                                                                                                                                                                                                                        418\n",
       "clip_305                                                                                                                                                                                                                                                                                      414\n",
       "Dot_MoldBig                                                                                                                                                                                                                                                                                   410\n",
       "sheep_tub_smaller                                                                                                                                                                                                                                                                             408\n",
       "Mom_MoveTheToy                                                                                                                                                                                                                                                                                405\n",
       "chicken_tub_smaller                                                                                                                                                                                                                                                                           398\n",
       "Mom_Count3                                                                                                                                                                                                                                                                                    398\n",
       "Dot_OkayTapBucketMost                                                                                                                                                                                                                                                                         393\n",
       "hog_tub_bigger                                                                                                                                                                                                                                                                                392\n",
       "Dot_BalancedLikeThis                                                                                                                                                                                                                                                                          391\n",
       "Dot_BiggestBucket                                                                                                                                                                                                                                                                             380\n",
       "ObjectiveCloserCliff                                                                                                                                                                                                                                                                          374\n",
       "YouMovedYourDinosaur,_3,Spaces,IfYouChangeYourMind_touch                                                                                                                                                                                                                                      374\n",
       "Dot_NiceWorkAllMatch                                                                                                                                                                                                                                                                          372\n",
       "clip_324                                                                                                                                                                                                                                                                                      370\n",
       "clip_329                                                                                                                                                                                                                                                                                      370\n",
       "Dot_EachCircleUnit,Dot_NowKnowUnits                                                                                                                                                                                                                                                           368\n",
       "chicken_water_smaller                                                                                                                                                                                                                                                                         365\n",
       "Dot_HowManyUnits,Dot_LetsCount,Dot_DragHat                                                                                                                                                                                                                                                    363\n",
       "clip_302                                                                                                                                                                                                                                                                                      355\n",
       "chicken_soap_smaller                                                                                                                                                                                                                                                                          352\n",
       "Dot_TapBucketLeast                                                                                                                                                                                                                                                                            352\n",
       "YouMovedYourDinosaur,_4,Spaces,IfYouChangeYourMind_touch                                                                                                                                                                                                                                      348\n",
       "sheep_water_smaller                                                                                                                                                                                                                                                                           340\n",
       "ClickToAddRemoveRope_touch                                                                                                                                                                                                                                                                    336\n",
       "sheep_soap_smaller                                                                                                                                                                                                                                                                            330\n",
       "PracticeRun_touch                                                                                                                                                                                                                                                                             328\n",
       "YouMovedYourDinosaur,_5,Spaces,IfYouChangeYourMind_touch                                                                                                                                                                                                                                      327\n",
       "hog_water_bigger                                                                                                                                                                                                                                                                              322\n",
       "cow_water_bigger                                                                                                                                                                                                                                                                              321\n",
       "Buddy_KeepMakingItRain                                                                                                                                                                                                                                                                        319\n",
       "pig_water_smaller                                                                                                                                                                                                                                                                             318\n",
       "YouMovedYourDinosaur,_9,Spaces,IfYouChangeYourMind_touch                                                                                                                                                                                                                                      318\n",
       "cow_tub_bigger                                                                                                                                                                                                                                                                                309\n",
       "GreatFlying                                                                                                                                                                                                                                                                                   308\n",
       "YouMovedYourDinosaur,_10,Spaces                                                                                                                                                                                                                                                               306\n",
       "pig_water_bigger                                                                                                                                                                                                                                                                              297\n",
       "YouMovedYourDinosaur,_2,Spaces,IfYouChangeYourMind_touch                                                                                                                                                                                                                                      293\n",
       "pig_tub_smaller                                                                                                                                                                                                                                                                               290\n",
       "YouMovedYourDinosaur,_6,Spaces,IfYouChangeYourMind_touch                                                                                                                                                                                                                                      289\n",
       "Dot_UseFinger                                                                                                                                                                                                                                                                                 289\n",
       "YouMovedYourDinosaur,_7,Spaces,IfYouChangeYourMind_touch                                                                                                                                                                                                                                      284\n",
       "Dot_TryWeighingAgain                                                                                                                                                                                                                                                                          284\n",
       "WeDidItOneRoundLeft                                                                                                                                                                                                                                                                           284\n",
       "ObjectiveFlyFurtherThanOther                                                                                                                                                                                                                                                                  283\n",
       "Mom_Count2,Mom_TubIsFull,Mom_JustRightAlt                                                                                                                                                                                                                                                     281\n",
       "ObjectiveBetweenCliff                                                                                                                                                                                                                                                                         268\n",
       "YouMovedYourDinosaur,_8,Spaces,IfYouChangeYourMind_touch                                                                                                                                                                                                                                      266\n",
       "ObjectiveCloseAs                                                                                                                                                                                                                                                                              266\n",
       "506                                                                                                                                                                                                                                                                                           266\n",
       "Cleo_BowlTooLight,Cleo_RememberHeavierBowl                                                                                                                                                                                                                                                    265\n",
       "SILLY                                                                                                                                                                                                                                                                                         264\n",
       "HELP_touch                                                                                                                                                                                                                                                                                    261\n",
       "clip_318_touch,number7                                                                                                                                                                                                                                                                        260\n",
       "final                                                                                                                                                                                                                                                                                         254\n",
       "hog_soap_bigger                                                                                                                                                                                                                                                                               248\n",
       "ClawStarsGetTheGold                                                                                                                                                                                                                                                                           247\n",
       "pig_tub_bigger                                                                                                                                                                                                                                                                                246\n",
       "SURPRISEANSWER                                                                                                                                                                                                                                                                                245\n",
       "clip_318_touch,number9                                                                                                                                                                                                                                                                        243\n",
       "Dot_Whoops,Dot_NotBalanced                                                                                                                                                                                                                                                                    240\n",
       "YouMovedYourDinosaur,_1,Space,IfYouChangeYourMind_touch                                                                                                                                                                                                                                       238\n",
       "clip_318_touch,number6                                                                                                                                                                                                                                                                        237\n",
       "clip_318_touch,number4                                                                                                                                                                                                                                                                        236\n",
       "ObjectiveBetweenTree                                                                                                                                                                                                                                                                          235\n",
       "piglovestriangles                                                                                                                                                                                                                                                                             231\n",
       "Mom_Count4                                                                                                                                                                                                                                                                                    230\n",
       "hog_tub_smaller                                                                                                                                                                                                                                                                               229\n",
       "clip_318_touch,number2                                                                                                                                                                                                                                                                        229\n",
       "howMany_shovel                                                                                                                                                                                                                                                                                227\n",
       "pig_soap_smaller                                                                                                                                                                                                                                                                              226\n",
       "howMany_crayon                                                                                                                                                                                                                                                                                221\n",
       "Dot_DoneTapButton                                                                                                                                                                                                                                                                             217\n",
       "Mom_Count3,Mom_TubIsFull,Mom_JustRightAlt                                                                                                                                                                                                                                                     209\n",
       "ObjectiveCloserTree                                                                                                                                                                                                                                                                           205\n",
       "TheFurtherBack                                                                                                                                                                                                                                                                                202\n",
       "Dot_NotShortToTall                                                                                                                                                                                                                                                                            193\n",
       "YouMovedYourDinosaur,_5,Spaces                                                                                                                                                                                                                                                                190\n",
       "Dot_NiceWork                                                                                                                                                                                                                                                                                  188\n",
       "dragchicks                                                                                                                                                                                                                                                                                    187\n",
       "cow_soap_bigger                                                                                                                                                                                                                                                                               184\n",
       "Dot_WhoaTreasure,Dot_HeaviestMost,SFX_completedtask                                                                                                                                                                                                                                           184\n",
       "pig_soap_bigger                                                                                                                                                                                                                                                                               182\n",
       "Mom_Count3,Mom_TooMuchWater,Mom_TooManyContainers,Mom_TubIsFull                                                                                                                                                                                                                               181\n",
       "Dot_TrySwappingBuckets                                                                                                                                                                                                                                                                        178\n",
       "YouMovedYourDinosaur,_4,Spaces                                                                                                                                                                                                                                                                174\n",
       "Dot_DragStumps                                                                                                                                                                                                                                                                                173\n",
       "YouMovedYourDinosaur,_3,Spaces                                                                                                                                                                                                                                                                167\n",
       "YouMovedYourDinosaur,_9,Spaces                                                                                                                                                                                                                                                                167\n",
       "Mom_Count5                                                                                                                                                                                                                                                                                    162\n",
       "Mom_TooManyContainers,Mom_TubIsFull                                                                                                                                                                                                                                                           156\n",
       "YouMovedYourDinosaur,_2,Spaces                                                                                                                                                                                                                                                                152\n",
       "YouMovedYourDinosaur,_6,Spaces                                                                                                                                                                                                                                                                152\n",
       "WrongOver                                                                                                                                                                                                                                                                                     150\n",
       "hog_water_smaller                                                                                                                                                                                                                                                                             146\n",
       "Mom_Count4,Mom_TooMuchWater,Mom_TooManyContainers,Mom_TubIsFull                                                                                                                                                                                                                               143\n",
       "Mom_TapContainerYouLike                                                                                                                                                                                                                                                                       139\n",
       "Dot_ThatBucketNotRight,Dot_TryAgain                                                                                                                                                                                                                                                           138\n",
       "Mom_Count7                                                                                                                                                                                                                                                                                    138\n",
       "Cleo_PlayAgain                                                                                                                                                                                                                                                                                136\n",
       "YouMovedYourDinosaur,_7,Spaces                                                                                                                                                                                                                                                                132\n",
       "Dot_TheseLinesShow                                                                                                                                                                                                                                                                            132\n",
       "wrongFewer                                                                                                                                                                                                                                                                                    124\n",
       "hog_soap_smaller                                                                                                                                                                                                                                                                              124\n",
       "YouMovedYourDinosaur,_8,Spaces                                                                                                                                                                                                                                                                122\n",
       "sheep_tub_bigger                                                                                                                                                                                                                                                                              122\n",
       "Mom_Count1,Mom_NeedMoreContainers,Mom_HereMore                                                                                                                                                                                                                                                120\n",
       "Mom_Count4,Mom_TubIsFull,Mom_JustRightAlt                                                                                                                                                                                                                                                     114\n",
       "Mom_Count6                                                                                                                                                                                                                                                                                    112\n",
       "YouMovedYourDinosaur,_1,Space                                                                                                                                                                                                                                                                 110\n",
       "Mom_TapBottomUntilFull                                                                                                                                                                                                                                                                        110\n",
       "Dot_FillTrays                                                                                                                                                                                                                                                                                 101\n",
       "WrongBetweenCliff                                                                                                                                                                                                                                                                             101\n",
       "Mom_Count2,Mom_NeedMoreContainers,Mom_HereMore                                                                                                                                                                                                                                                 97\n",
       "wrongMore                                                                                                                                                                                                                                                                                      96\n",
       "sheep_water_bigger                                                                                                                                                                                                                                                                             90\n",
       "Mom_Count5,Mom_TooMuchWater,Mom_TooManyContainers,Mom_TubIsFull                                                                                                                                                                                                                                89\n",
       "dragABottle                                                                                                                                                                                                                                                                                    88\n",
       "WrongUnder                                                                                                                                                                                                                                                                                     87\n",
       "WrongBetweenTree                                                                                                                                                                                                                                                                               87\n",
       "Mom_KeepGoing                                                                                                                                                                                                                                                                                  86\n",
       "sid_bugtank_line3                                                                                                                                                                                                                                                                              84\n",
       "Dot_TrySmallest,Dot_TryAgain                                                                                                                                                                                                                                                                   83\n",
       "Dot_StillPartyHats                                                                                                                                                                                                                                                                             82\n",
       "Mom_Count3,Mom_TubIsFull                                                                                                                                                                                                                                                                       81\n",
       "Dot_HowManyUnits,Dot_LetsCount,Dot_1Count,Dot_2Count,Dot_3Count,Dot_4Done,Dot_UhOhTooBig,Dot_1Count,Dot_2Count,Dot_3Count,Dot_4Count,Dot_5Count,Dot_6Count,Dot_7Count,Dot_8Done,Dot_HmTooSmall,Dot_1Count,Dot_2Count,Dot_3Count,Dot_4Count,Dot_5Done,Dot_UhOhTooBig,Dot_TrySwitchingHats       76\n",
       "Dot_TryBiggest,Dot_TryAgain                                                                                                                                                                                                                                                                    75\n",
       "Mom_Count9,Mom_TubIsFull                                                                                                                                                                                                                                                                       67\n",
       "Mom_Count8                                                                                                                                                                                                                                                                                     66\n",
       "Mom_Count2,Mom_TubIsFull                                                                                                                                                                                                                                                                       61\n",
       "Mom_Count6,Mom_NeedMoreContainers,Mom_HereMore                                                                                                                                                                                                                                                 60\n",
       "FINAL                                                                                                                                                                                                                                                                                          60\n",
       "516_touch                                                                                                                                                                                                                                                                                      57\n",
       "Mom_Count8,Mom_TubIsFull,Mom_JustRightAlt                                                                                                                                                                                                                                                      57\n",
       "Mom_Count9,Mom_TubIsFull,Mom_JustRightAlt                                                                                                                                                                                                                                                      54\n",
       "Mom_Count8,Mom_TubIsFull                                                                                                                                                                                                                                                                       54\n",
       "hint_touch                                                                                                                                                                                                                                                                                     45\n",
       "Mom_Count3,Mom_NeedMoreContainers,Mom_HereMore                                                                                                                                                                                                                                                 38\n",
       "Dot_OneMoreHat                                                                                                                                                                                                                                                                                 36\n",
       "Mom_Count6,Mom_TubIsFull,Mom_JustRightAlt                                                                                                                                                                                                                                                      36\n",
       "Mom_Count4,Mom_TubIsFull                                                                                                                                                                                                                                                                       34\n",
       "sheep_soap_bigger                                                                                                                                                                                                                                                                              32\n",
       "Mom_Count5,Mom_TubIsFull,Mom_JustRightAlt                                                                                                                                                                                                                                                      30\n",
       "Cleo_RememberHeavierBowl                                                                                                                                                                                                                                                                       26\n",
       "Dot_HowManyUnits,Dot_LetsCount,Dot_1Count,Dot_2Count,Dot_3Count,Dot_4Done,Dot_UhOhTooBig,Dot_1Count,Dot_2Count,Dot_3Count,Dot_4Count,Dot_5Count,Dot_6Count,Dot_7Count,Dot_8Done,Dot_1Count,Dot_2Count,Dot_3Count,Dot_4Count,Dot_5Done,Dot_HmTooSmall,Dot_TrySwitchingHats                      24\n",
       "Mom_Count8,Mom_TooMuchWater,Mom_TooManyContainers,Mom_TubIsFull                                                                                                                                                                                                                                22\n",
       "Dot_1Count,Dot_2Count,Dot_3Count,Dot_4Count,Dot_5Count,Dot_6Count,Dot_7Count,Dot_8Done,Dot_HmTooSmall,Dot_1Count,Dot_2Count,Dot_3Count,Dot_4Count,Dot_5Done,Dot_UhOhTooBig,Dot_TrySwitchingHats                                                                                                16\n",
       "Mom_Count6,Mom_TooMuchWater,Mom_TooManyContainers,Mom_TubIsFull                                                                                                                                                                                                                                16\n",
       "Cleo_WeighTwoBowls                                                                                                                                                                                                                                                                             15\n",
       "Cleo_PutBowlOtherPan                                                                                                                                                                                                                                                                           15\n",
       "Mom_Count6,Mom_TubIsFull                                                                                                                                                                                                                                                                       14\n",
       "Mom_Count7,Mom_TubIsFull,Mom_JustRightAlt                                                                                                                                                                                                                                                      12\n",
       "Mom_Count4,Mom_NeedMoreContainers,Mom_HereMore                                                                                                                                                                                                                                                 12\n",
       "Mom_Count7,Mom_TooMuchWater,Mom_TooManyContainers,Mom_TubIsFull                                                                                                                                                                                                                                12\n",
       "Cleo_ThinkWhich                                                                                                                                                                                                                                                                                12\n",
       "Mom_Count5,Mom_NeedMoreContainers,Mom_HereMore                                                                                                                                                                                                                                                 10\n",
       "Dot_RememberPlaceHere                                                                                                                                                                                                                                                                          10\n",
       "Cleo_MoveBowlToPan                                                                                                                                                                                                                                                                             10\n",
       "Mom_Count7,Mom_TubIsFull                                                                                                                                                                                                                                                                       10\n",
       "Dot_HowManyUnits,Dot_LetsCount,Dot_1Count,Dot_2Count,Dot_3Count,Dot_4Done,Dot_1Count,Dot_2Count,Dot_3Count,Dot_4Count,Dot_5Count,Dot_6Count,Dot_7Count,Dot_8Done,Dot_HmTooSmall,Dot_1Count,Dot_2Count,Dot_3Count,Dot_4Count,Dot_5Done,Dot_UhOhTooBig,Dot_TrySwitchingHats                       8\n",
       "Dot_HowManyUnits,Dot_LetsCount,Dot_1Count,Dot_2Count,Dot_3Count,Dot_4Done,Dot_UhOhTooBig,Dot_1Count,Dot_2Count,Dot_3Count,Dot_4Count,Dot_5Count,Dot_6Count,Dot_7Count,Dot_8Done,Dot_HmTooSmall,Dot_1Count,Dot_2Count,Dot_3Count,Dot_4Count,Dot_5Done,Dot_HmTooSmall,Dot_TrySwitchingHats        8\n",
       "Dot_1Count,Dot_2Count,Dot_3Count,Dot_4Done,Dot_UhOhTooBig,Dot_1Count,Dot_2Count,Dot_3Count,Dot_4Count,Dot_5Count,Dot_6Count,Dot_7Count,Dot_8Done,Dot_HmTooSmall,Dot_1Count,Dot_2Count,Dot_3Count,Dot_4Count,Dot_5Done,Dot_HmTooSmall,Dot_TrySwitchingHats                                       6\n",
       "Mom_Count5,Mom_TubIsFull                                                                                                                                                                                                                                                                        6\n",
       "Dot_1Count,Dot_2Count,Dot_3Count,Dot_4Done,Dot_UhOhTooBig,Dot_1Count,Dot_2Count,Dot_3Count,Dot_4Count,Dot_5Done,Dot_HmTooSmall,Dot_TrySwitchingHats                                                                                                                                             6\n",
       "Dot_1Count,Dot_2Count,Dot_3Count,Dot_4Done,Dot_UhOhTooBig,Dot_1Count,Dot_2Count,Dot_3Count,Dot_4Count,Dot_5Count,Dot_6Count,Dot_7Count,Dot_8Done,Dot_HmTooSmall,Dot_1Count,Dot_2Count,Dot_3Count,Dot_4Count,Dot_5Done,Dot_UhOhTooBig,Dot_TrySwitchingHats                                       4\n",
       "Dot_1Count,Dot_2Count,Dot_3Count,Dot_4Done,Dot_UhOhTooBig,Dot_1Count,Dot_2Count,Dot_3Count,Dot_4Count,Dot_5Count,Dot_6Count,Dot_7Count,Dot_8Done,Dot_HmTooSmall,Dot_TrySwitchingHats                                                                                                            2\n",
       "Dot_WontHoldRightAmount,Dot_TryAgain                                                                                                                                                                                                                                                            2\n",
       "Dot_HowManyUnits,Dot_LetsCount,Dot_1Count,Dot_2Count,Dot_3Count,Dot_4Done,Dot_UhOhTooBig,Dot_1Count,Dot_2Count,Dot_3Count,Dot_4Count,Dot_5Count,Dot_6Count,Dot_7Count,Dot_8Done,Dot_HmTooSmall,Dot_1Count,Dot_2Count,Dot_3Count,Dot_4Count,Dot_5Done,Dot_TrySwitchingHats                       2\n",
       "Name: ed.identifier, dtype: int64"
      ]
     },
     "execution_count": 19,
     "metadata": {},
     "output_type": "execute_result"
    }
   ],
   "source": [
    "test_raw['ed.identifier'].value_counts()"
   ]
  },
  {
   "cell_type": "code",
   "execution_count": 20,
   "metadata": {},
   "outputs": [
    {
     "name": "stdout",
     "output_type": "stream",
     "text": [
      "4 train_raw type=['Activity', 'Assessment', 'Clip', 'Game']\n"
     ]
    }
   ],
   "source": [
    "vs = sorted(train_raw['type'].unique())\n",
    "_log(f'{len(vs)} train_raw type={vs}')"
   ]
  },
  {
   "cell_type": "code",
   "execution_count": 21,
   "metadata": {},
   "outputs": [
    {
     "name": "stdout",
     "output_type": "stream",
     "text": [
      "4 train_raw type=['CRYSTALCAVES', 'MAGMAPEAK', 'NONE', 'TREETOPCITY']\n"
     ]
    }
   ],
   "source": [
    "vs = sorted(train_raw['world'].unique())\n",
    "_log(f'{len(vs)} train_raw type={vs}')"
   ]
  },
  {
   "cell_type": "code",
   "execution_count": 22,
   "metadata": {},
   "outputs": [
    {
     "name": "stdout",
     "output_type": "stream",
     "text": [
      "42 train_raw type=[2000, 2010, 2020, 2025, 2030, 2035, 2040, 2050, 2060, 2070, 2075, 2080, 2081, 2083, 3010, 3020, 3021, 3110, 3120, 3121, 4010, 4020, 4021, 4022, 4025, 4030, 4031, 4035, 4040, 4045, 4050, 4070, 4080, 4090, 4095, 4100, 4110, 4220, 4230, 4235, 5000, 5010]\n"
     ]
    }
   ],
   "source": [
    "vs = sorted(train_raw['event_code'].unique())\n",
    "_log(f'{len(vs)} train_raw type={vs}')"
   ]
  },
  {
   "cell_type": "code",
   "execution_count": 23,
   "metadata": {},
   "outputs": [
    {
     "name": "stdout",
     "output_type": "stream",
     "text": [
      "44 train_raw titles=['12 Monkeys', 'Air Show', 'All Star Sorting', 'Balancing Act', 'Bird Measurer (Assessment)', 'Bottle Filler (Activity)', 'Bubble Bath', 'Bug Measurer (Activity)', 'Cart Balancer (Assessment)', 'Cauldron Filler (Assessment)', 'Chest Sorter (Assessment)', 'Chicken Balancer (Activity)', 'Chow Time', 'Costume Box', 'Crystal Caves - Level 1', 'Crystal Caves - Level 2', 'Crystal Caves - Level 3', 'Crystals Rule', 'Dino Dive', 'Dino Drink', 'Egg Dropper (Activity)', 'Fireworks (Activity)', 'Flower Waterer (Activity)', 'Happy Camel', 'Heavy, Heavier, Heaviest', 'Honey Cake', 'Leaf Leader', 'Lifting Heavy Things', 'Magma Peak - Level 1', 'Magma Peak - Level 2', 'Mushroom Sorter (Assessment)', 'Ordering Spheres', 'Pan Balance', \"Pirate's Tale\", 'Rulers', 'Sandcastle Builder (Activity)', 'Scrub-A-Dub', 'Slop Problem', 'Treasure Map', 'Tree Top City - Level 1', 'Tree Top City - Level 2', 'Tree Top City - Level 3', 'Watering Hole (Activity)', 'Welcome to Lost Lagoon!']\n"
     ]
    }
   ],
   "source": [
    "vs = sorted(train_raw['title'].unique())\n",
    "_log(f'{len(vs)} train_raw titles={vs}')"
   ]
  },
  {
   "cell_type": "code",
   "execution_count": 24,
   "metadata": {},
   "outputs": [
    {
     "name": "stdout",
     "output_type": "stream",
     "text": [
      "44 test titles=['12 Monkeys', 'Air Show', 'All Star Sorting', 'Balancing Act', 'Bird Measurer (Assessment)', 'Bottle Filler (Activity)', 'Bubble Bath', 'Bug Measurer (Activity)', 'Cart Balancer (Assessment)', 'Cauldron Filler (Assessment)', 'Chest Sorter (Assessment)', 'Chicken Balancer (Activity)', 'Chow Time', 'Costume Box', 'Crystal Caves - Level 1', 'Crystal Caves - Level 2', 'Crystal Caves - Level 3', 'Crystals Rule', 'Dino Dive', 'Dino Drink', 'Egg Dropper (Activity)', 'Fireworks (Activity)', 'Flower Waterer (Activity)', 'Happy Camel', 'Heavy, Heavier, Heaviest', 'Honey Cake', 'Leaf Leader', 'Lifting Heavy Things', 'Magma Peak - Level 1', 'Magma Peak - Level 2', 'Mushroom Sorter (Assessment)', 'Ordering Spheres', 'Pan Balance', \"Pirate's Tale\", 'Rulers', 'Sandcastle Builder (Activity)', 'Scrub-A-Dub', 'Slop Problem', 'Treasure Map', 'Tree Top City - Level 1', 'Tree Top City - Level 2', 'Tree Top City - Level 3', 'Watering Hole (Activity)', 'Welcome to Lost Lagoon!']\n"
     ]
    }
   ],
   "source": [
    "vs = sorted(test_raw['title'].unique())\n",
    "_log(f'{len(vs)} test titles={vs}')"
   ]
  },
  {
   "cell_type": "code",
   "execution_count": 25,
   "metadata": {},
   "outputs": [],
   "source": [
    "def _transform_timestamp(df):\n",
    "    df['timestamp'] = pd.to_datetime(df['timestamp'])\n",
    "    return df\n",
    "\n",
    "\n",
    "train_raw = _transform_timestamp(train_raw)\n",
    "test_raw = _transform_timestamp(test_raw)"
   ]
  },
  {
   "cell_type": "code",
   "execution_count": 26,
   "metadata": {},
   "outputs": [
    {
     "name": "stdout",
     "output_type": "stream",
     "text": [
      "Wall time: 1min 21s\n"
     ]
    }
   ],
   "source": [
    "%%time\n",
    "def _set_string_type(df, cols):\n",
    "    df[cols] = df[cols].fillna(NAN).astype(str)\n",
    "    return df\n",
    "\n",
    "\n",
    "cols = ['event_code', 'timestamp', 'ed.identifier', 'ed.source']\n",
    "train_raw = _set_string_type(train_raw, cols=cols)\n",
    "test_raw = _set_string_type(test_raw, cols=cols)"
   ]
  },
  {
   "cell_type": "code",
   "execution_count": 27,
   "metadata": {},
   "outputs": [
    {
     "name": "stdout",
     "output_type": "stream",
     "text": [
      "Wall time: 26.6 s\n"
     ]
    }
   ],
   "source": [
    "%%time\n",
    "def _sort_it(df):\n",
    "    return df.sort_values(by=['installation_id', 'timestamp'])\n",
    "\n",
    "\n",
    "train_raw = _sort_it(train_raw)\n",
    "test_raw = _sort_it(test_raw)"
   ]
  },
  {
   "cell_type": "markdown",
   "metadata": {},
   "source": [
    "# Multiple accuracy groups per installation id\n",
    "In the train set, there are multiple accuracy groups per installation id. The task is to predict the accuracy group of the **last** assessment for a given installation id."
   ]
  },
  {
   "cell_type": "code",
   "execution_count": 28,
   "metadata": {},
   "outputs": [
    {
     "data": {
      "text/plain": [
       "installation_id\n",
       "0006a69f    3\n",
       "0006c192    3\n",
       "00129856    1\n",
       "001d0ed0    3\n",
       "00225f67    1\n",
       "           ..\n",
       "ff9305d7    2\n",
       "ff9715db    4\n",
       "ffc90c32    2\n",
       "ffd2871d    1\n",
       "ffeb0b1b    2\n",
       "Name: accuracy_group, Length: 3614, dtype: int64"
      ]
     },
     "execution_count": 28,
     "metadata": {},
     "output_type": "execute_result"
    }
   ],
   "source": [
    "vs = train_raw[train_raw[TARGET].notna()].groupby('installation_id')[TARGET].nunique()\n",
    "vs"
   ]
  },
  {
   "cell_type": "code",
   "execution_count": 29,
   "metadata": {},
   "outputs": [],
   "source": [
    "def _log_smoothing(df, cols):\n",
    "    for col in cols:\n",
    "        df[col] = np.log(df[col] + 1)\n",
    "    return df\n",
    "\n",
    "\n",
    "#cols = ['event_count', 'game_time']\n",
    "#train = _log_smoothing(train, cols)\n",
    "#test = _log_smoothing(test, cols)"
   ]
  },
  {
   "cell_type": "markdown",
   "metadata": {},
   "source": [
    "# Train-test split not by time\n",
    "Both train and test sets span the same time period."
   ]
  },
  {
   "cell_type": "code",
   "execution_count": 30,
   "metadata": {},
   "outputs": [
    {
     "name": "stdout",
     "output_type": "stream",
     "text": [
      "train_raw[timestamp] is from 2019-07-23 14:38:25.256000+00:00 to 2019-10-14 21:57:26.930000+00:00\n",
      "test_raw[timestamp] is from 2019-07-24 00:04:25.361000+00:00 to 2019-10-14 21:00:34.858000+00:00\n"
     ]
    }
   ],
   "source": [
    "_log(f'train_raw[timestamp] is from {train_raw.timestamp.min()} to {train_raw.timestamp.max()}')\n",
    "_log(f'test_raw[timestamp] is from {test_raw.timestamp.min()} to {test_raw.timestamp.max()}')"
   ]
  },
  {
   "cell_type": "code",
   "execution_count": 31,
   "metadata": {},
   "outputs": [
    {
     "name": "stdout",
     "output_type": "stream",
     "text": [
      "<class 'pandas.core.frame.DataFrame'>\n",
      "Int64Index: 7734558 entries, 0 to 7734557\n",
      "Data columns (total 21 columns):\n",
      "event_id             object\n",
      "game_session         object\n",
      "timestamp            object\n",
      "event_data           object\n",
      "installation_id      object\n",
      "event_count          int64\n",
      "event_code           object\n",
      "game_time            int64\n",
      "title                object\n",
      "type                 object\n",
      "world                object\n",
      "accuracy_group       float64\n",
      "ed.identifier        object\n",
      "ed.duration          float64\n",
      "ed.level             float64\n",
      "ed.round             float64\n",
      "ed.correct           object\n",
      "ed.misses            float64\n",
      "ed.weight            float64\n",
      "ed.total_duration    float64\n",
      "ed.source            object\n",
      "dtypes: float64(7), int64(2), object(12)\n",
      "memory usage: 1.3+ GB\n"
     ]
    }
   ],
   "source": [
    "train_raw.info()"
   ]
  },
  {
   "cell_type": "markdown",
   "metadata": {},
   "source": [
    "# Feature Engineering"
   ]
  },
  {
   "cell_type": "code",
   "execution_count": 36,
   "metadata": {},
   "outputs": [
    {
     "name": "stdout",
     "output_type": "stream",
     "text": [
      "ratio denominators={'game_time_p50_game_session': array([160867]), 'game_time_p50_game_sessiontype': array([160867]), 'game_time_p50_game_sessionworld': array([160867]), 'game_time_p50_game_sessiontitle': array([160867]), 'event_count_p50_game_session': array([134]), 'event_count_p50_game_sessiontype': array([134]), 'event_count_p50_game_sessionworld': array([134]), 'event_count_p50_game_sessiontitle': array([134])}\n"
     ]
    }
   ],
   "source": [
    "def _key(s):\n",
    "    return re.sub(r'[\\W\\s]', '', s).lower()\n",
    "\n",
    "\n",
    "def _cutoff(df, TARGET):\n",
    "    return df[df[TARGET].notna()]['timestamp'].max()\n",
    "\n",
    "\n",
    "def _trim_events_after_last_assessment(df, cutoff):\n",
    "    res = df[df['timestamp'] <= cutoff]\n",
    "    #_log(f'cutoff: before={df.shape}, after={res.shape}')\n",
    "    return res\n",
    "    \n",
    "    \n",
    "def _target_variable(df, cutoff, TARGET):\n",
    "    vs = df[df['timestamp'] == cutoff][TARGET].values\n",
    "    assert len(set(vs)) == 1\n",
    "    return int(float(vs[0]))\n",
    "    \n",
    "    \n",
    "def _game_session_stats(df, col, suffix, denominators={}):\n",
    "    res = {}\n",
    "    groups = [\n",
    "        ['game_session'],\n",
    "        ['game_session', 'type'],\n",
    "        ['game_session', 'world'],\n",
    "        ['game_session', 'title']\n",
    "    ]\n",
    "    for g in groups:\n",
    "        vs = df.groupby(g)[col].transform('max')\n",
    "        qs = vs.quantile([0.25, 0.5, 0.75], interpolation='lower').to_numpy()\n",
    "        g_key = _key(''.join(g))\n",
    "        k = f'{col}_p50_{g_key}{suffix}'\n",
    "        res[k] = np.int32([qs[1]])\n",
    "        if k in denominators:\n",
    "            ratio_key = f'{col}_p50_{g_key}_ratio{suffix}'\n",
    "            res[ratio_key] = np.float32([res[k][0] / denominators[k][0]])\n",
    "        #res[f'{col}_max_{k}{suffix}'] = np.int32([vs.max()])\n",
    "        #res[f'{col}_std_{k}{suffix}'] = np.float32([vs.std(ddof=0)])\n",
    "        #res[f'{col}_iqr_{k}{suffix}'] = np.int32([qs[2] - qs[0]])\n",
    "    return res\n",
    "\n",
    "\n",
    "def _event_id_features(df, EVENT_IDS, TITLES, TYPES, WORLDS, suffix):\n",
    "    res = {}\n",
    "    # initialize counts\n",
    "    for eid in EVENT_IDS:\n",
    "        res[f'eid_{eid}{suffix}'] = np.int32([0])      \n",
    "        for t in TYPES:\n",
    "            res[f'eid_{eid}_{_key(t)}{suffix}'] = np.int32([0])\n",
    "        \n",
    "        for t in WORLDS:\n",
    "            res[f'eid_{eid}_{_key(t)}{suffix}'] = np.int32([0])\n",
    "            \n",
    "        for t in TITLES:\n",
    "            res[f'eid_{eid}_{_key(t)}{suffix}'] = np.int32([0])\n",
    "                      \n",
    "    tmp = df.groupby(['event_id'], as_index=False).count()\n",
    "    for row in tmp.itertuples(index=False):\n",
    "        res[f'eid_{row[0]}{suffix}'] = np.int32([row[1]])\n",
    "        \n",
    "    if len(TYPES) != 0:\n",
    "        tmp = df.groupby(['event_id', 'type'], as_index=False).count()\n",
    "        for row in tmp.itertuples(index=False):\n",
    "            res[f'eid_{row[0]}_{_key(row[1])}{suffix}'] = np.int32([row[2]])\n",
    "\n",
    "    if len(WORLDS) != 0:\n",
    "        tmp = df.groupby(['event_id', 'world'], as_index=False).count()\n",
    "        for row in tmp.itertuples(index=False):\n",
    "            res[f'eid_{row[0]}_{_key(row[1])}{suffix}'] = np.int32([row[2]])\n",
    "\n",
    "    if len(TITLES) != 0:\n",
    "        tmp = df.groupby(['event_id', 'title'], as_index=False).count()\n",
    "        for row in tmp.itertuples(index=False):\n",
    "            res[f'eid_{row[0]}_{_key(row[1])}{suffix}'] = np.int32([row[2]])\n",
    "        \n",
    "    return res\n",
    "\n",
    "\n",
    "def _event_code_features(df, EVENT_CODES, TITLES, TYPES, WORLDS, suffix):\n",
    "    res = {}\n",
    "    for code in EVENT_CODES:\n",
    "        res[f'event_{code}{suffix}'] = np.int32([0])      \n",
    "        for t in TYPES:\n",
    "            res[f'event_{code}_{_key(t)}{suffix}'] = np.int32([0])\n",
    "        \n",
    "        for t in WORLDS:\n",
    "            res[f'event_{code}_{_key(t)}{suffix}'] = np.int32([0])\n",
    "            \n",
    "        for t in TITLES:\n",
    "            res[f'event_{code}_{_key(t)}{suffix}'] = np.int32([0])\n",
    "        \n",
    "    tmp = df.groupby(['event_code'], as_index=False).count()\n",
    "    for row in tmp.itertuples(index=False):\n",
    "        res[f'event_{row[0]}{suffix}'] = np.int32([row[1]])\n",
    "        \n",
    "    if len(TYPES) != 0:\n",
    "        tmp = df.groupby(['event_code', 'type'], as_index=False).count()\n",
    "        for row in tmp.itertuples(index=False):\n",
    "            res[f'event_{row[0]}_{_key(row[1])}{suffix}'] = np.int32([row[2]])\n",
    "\n",
    "    if len(WORLDS) != 0:\n",
    "        tmp = df.groupby(['event_code', 'world'], as_index=False).count()\n",
    "        for row in tmp.itertuples(index=False):\n",
    "            res[f'event_{row[0]}_{_key(row[1])}{suffix}'] = np.int32([row[2]])\n",
    "\n",
    "    if len(TITLES) != 0:\n",
    "        tmp = df.groupby(['event_code', 'title'], as_index=False).count()\n",
    "        for row in tmp.itertuples(index=False):\n",
    "            res[f'event_{row[0]}_{_key(row[1])}{suffix}'] = np.int32([row[2]])\n",
    "        \n",
    "    return res\n",
    "\n",
    "\n",
    "def _event_data_features(df, suffix):\n",
    "    res = {}\n",
    "    res[f'ed_duration{suffix}'] = np.int32(df['ed.duration'].fillna(0).max())\n",
    "    res[f'ed_total_duration{suffix}'] = np.int32(df['ed.total_duration'].fillna(0).max())\n",
    "    res[f'ed_level{suffix}'] = np.int32(df['ed.level'].fillna(0).max())\n",
    "    res[f'ed_round{suffix}'] = np.int32(df['ed.round'].fillna(0).max())\n",
    "    res[f'ed_correct{suffix}'] = np.int32(df['ed.correct'].fillna(0).max())\n",
    "    res[f'ed_misses{suffix}'] = np.int32(df['ed.misses'].fillna(0).max())\n",
    "    res[f'ed_weight{suffix}'] = np.int32(df['ed.weight'].fillna(0).max())\n",
    "    res[f'ed_source_resources{suffix}'] = np.int32([sum(df['ed.source'] == 'resources')])\n",
    "    res[f'ed_source_right{suffix}'] = np.int32([sum(df['ed.source'] == 'right')])\n",
    "    res[f'ed_source_left{suffix}'] = np.int32([sum(df['ed.source'] == 'left')])\n",
    "    res[f'ed_source_scale{suffix}'] = np.int32([sum(df['ed.source'] == 'scale')])\n",
    "    res[f'ed_source_middle{suffix}'] = np.int32([sum(df['ed.source'] == 'middle')])\n",
    "    res[f'ed_source_heaviest{suffix}'] = np.int32([sum(df['ed.source'] == 'Heaviest')])\n",
    "    res[f'ed_source_heavy{suffix}'] = np.int32([sum(df['ed.source'] == 'Heavy')])\n",
    "    res[f'ed_source_lightest{suffix}'] = np.int32([sum(df['ed.source'] == 'Lightest')])\n",
    "    n = 0\n",
    "    for i in range(1, 13):\n",
    "        n += sum(df['ed.source'] == str(i))\n",
    "    res[f'ed_source_numbered{suffix}'] = np.int32([n])\n",
    "    res[f'ed_id_dot{suffix}'] = np.int32([sum(df['ed.identifier'].str.contains('Dot_', regex=False))])\n",
    "    res[f'ed_id_buddy{suffix}'] = np.int32([sum(df['ed.identifier'].str.contains('Buddy_', regex=False))])\n",
    "    res[f'ed_id_cleo{suffix}'] = np.int32([sum(df['ed.identifier'].str.contains('Cleo_', regex=False))])\n",
    "    res[f'ed_id_mom{suffix}'] = np.int32([sum(df['ed.identifier'].str.contains('Mom_', regex=False))])\n",
    "    res[f'ed_id_sid{suffix}'] = np.int32([sum(df['ed.identifier'].str.contains('sid_', regex=False))])\n",
    "    positives = {'Dot_SoCool', 'Dot_GreatJob', 'ohWow', 'wowSoCool', 'thatLooksSoCool', 'tub_success', \n",
    "                 'water_success', 'soap_success', 'Dot_Amazing', 'Dot_WhoaSoCool', 'Dot_ThatsIt', 'youDidIt_1305',\n",
    "                 'SFX_completedtask', 'Cleo_AmazingPowers', 'RIGHTANSWER1', 'Dot_Awesome', 'greatJob_1306', 'YouDidIt',\n",
    "                 'RIGHTANSWER3', 'RIGHTANSWER2', 'INSTRCOMPLETE', 'AWESOME', 'WayToGoTeam', 'Dot_NiceWorkAllMatch',\n",
    "                 'GreatFlying', 'WeDidItOneRoundLeft', 'Cleo_AweOfYourSkills', 'Dot_NiceWork'}\n",
    "    n_pos = 0\n",
    "    for p in positives:\n",
    "        n_pos += sum(df['ed.identifier'].str.contains(p, regex=False))\n",
    "    res[f'ed_id_positive{suffix}'] = np.int32([n_pos])\n",
    "    negatives = {'Dot_Uhoh', 'Dot_UhOh', 'Dot_NeedTryAgain', 'IncorrectTooHeavy', 'Dot_GoLower', 'Buddy_TryDifferentNest',\n",
    "                 'Cleo_BowlTooLight', 'Dot_GoHigher', 'Dot_SoLow', 'Dot_SoHigh', 'Dot_WhoopsTooShort', 'IncorrectTooLight',\n",
    "                 'NOT_THAT_HEAVY', 'Dot_UhOhTooTall', 'ADD_MORE_WEIGHT', 'wrong1', 'tryAgain1', 'Dot_TryWeighingAgain',\n",
    "                 'Cleo_RememberHeavierBowl', 'Dot_Whoops', 'Dot_NotBalanced', 'Mom_TooManyContainers',\n",
    "                 'WrongOver', 'Mom_TooMuchWater', 'Dot_ThatBucketNotRight', 'Dot_TryAgain', 'wrongFewer', 'WrongBetweenCliff',\n",
    "                 'Mom_NeedMoreContainers', 'Dot_Try', 'Dot_HmTooSmall'}\n",
    "    n_neg = 1\n",
    "    for ne in negatives:\n",
    "        n_neg += sum(df['ed.identifier'].str.contains(ne, regex=False))\n",
    "    res[f'ed_id_negative{suffix}'] = np.int32([n_neg])\n",
    "    res[f'ed_id_positive_ratio{suffix}'] = np.float32([n_pos / n_neg])\n",
    "    return res\n",
    "    \n",
    "\n",
    "def _features_map(df, EVENT_CODES, EVENT_IDS, TITLES, TYPES, WORLDS, denominators, suffix=''):\n",
    "    res = {}\n",
    "    for t in TYPES:\n",
    "        res[f'type_{_key(t)}{suffix}'] = np.int32([sum(df['type'] == t)])\n",
    "    \n",
    "    for t in WORLDS:\n",
    "        res[f'world_{_key(t)}{suffix}'] = np.int32([sum(df['world'] == t)])\n",
    "    \n",
    "    for t in TITLES:\n",
    "        res[f'title_{_key(t)}{suffix}'] = np.int32([sum(df['title'] == t)])\n",
    "    \n",
    "    cols = ['game_time', 'event_count']\n",
    "    for col in cols:\n",
    "        res.update(_game_session_stats(df, col, suffix, denominators=denominators))\n",
    "    \n",
    "    res.update(_event_code_features(df, EVENT_CODES, TITLES=TITLES, TYPES=TYPES, WORLDS=WORLDS, suffix=suffix))\n",
    "    res.update(_event_id_features(df, EVENT_IDS, TITLES=TITLES, TYPES=TYPES, WORLDS=WORLDS, suffix=suffix))\n",
    "    #res.update(_event_data_features(df, suffix))\n",
    "    return res\n",
    "\n",
    "\n",
    "def _features(df, installation_id, EVENT_CODES, EVENT_IDS, TITLES, TYPES, WORLDS, denominators):\n",
    "    res = {}\n",
    "    iid = df[df['installation_id'] == installation_id].copy()\n",
    "    if TARGET in df.columns:\n",
    "        cutoff = _cutoff(iid, TARGET)\n",
    "        iid = _trim_events_after_last_assessment(iid, cutoff)\n",
    "        res[TARGET] = _target_variable(iid, cutoff, TARGET)\n",
    "    res['installation_id'] = [installation_id]    \n",
    "    res.update(_features_map(iid, EVENT_CODES, EVENT_IDS, TITLES, TYPES, WORLDS, denominators))\n",
    "    return pd.DataFrame.from_dict(res)\n",
    "\n",
    "\n",
    "def _preprocess(raw, EVENT_CODES, EVENT_IDS, TITLES, TYPES, WORLDS, denominators):\n",
    "    res = pd.DataFrame()\n",
    "    iids = raw['installation_id'].unique()\n",
    "    prev_len = None\n",
    "    for iid in tqdm(iids):\n",
    "        tmp = _features(raw, iid, EVENT_CODES, EVENT_IDS, TITLES, TYPES, WORLDS, denominators)\n",
    "        prev_len = len(tmp.columns) if prev_len is None else prev_len\n",
    "        assert len(tmp.columns) == prev_len\n",
    "        prev_len = len(tmp.columns)\n",
    "        res = pd.concat([res, tmp], ignore_index=True)\n",
    "    return res\n",
    "\n",
    "\n",
    "denominators = {}\n",
    "cols = ['game_time', 'event_count']\n",
    "for col in cols:\n",
    "    denominators.update(_game_session_stats(train_raw, col, suffix=''))\n",
    "_log(f'ratio denominators={denominators}')"
   ]
  },
  {
   "cell_type": "code",
   "execution_count": 37,
   "metadata": {},
   "outputs": [
    {
     "name": "stderr",
     "output_type": "stream",
     "text": [
      "\n",
      "  0%|                                                         | 0/3614 [00:00<?, ?it/s]\u001b[A\n",
      "  0%|                                               | 1/3614 [00:01<1:47:47,  1.79s/it]\u001b[A\n",
      "  0%|                                               | 2/3614 [00:03<1:47:51,  1.79s/it]\u001b[A\n",
      "  0%|                                               | 3/3614 [00:05<1:47:53,  1.79s/it]\u001b[A\n",
      "  0%|                                               | 4/3614 [00:07<1:47:30,  1.79s/it]\u001b[A\n",
      "  0%|                                               | 5/3614 [00:08<1:47:55,  1.79s/it]\u001b[A\n",
      "  0%|                                               | 6/3614 [00:10<1:48:11,  1.80s/it]\u001b[A\n",
      "  0%|                                               | 7/3614 [00:12<1:48:36,  1.81s/it]\u001b[A\n",
      "  0%|                                               | 8/3614 [00:14<1:49:06,  1.82s/it]\u001b[A\n",
      "  0%|                                               | 9/3614 [00:16<1:48:15,  1.80s/it]\u001b[A\n",
      "  0%|▏                                             | 10/3614 [00:18<1:48:14,  1.80s/it]\u001b[A\n",
      "  0%|▏                                             | 11/3614 [00:19<1:47:45,  1.79s/it]\u001b[A\n",
      "  0%|▏                                             | 12/3614 [00:21<1:47:49,  1.80s/it]\u001b[A\n",
      "  0%|▏                                             | 13/3614 [00:23<1:48:01,  1.80s/it]\u001b[A\n",
      "  0%|▏                                             | 14/3614 [00:25<1:47:17,  1.79s/it]\u001b[A\n",
      "  0%|▏                                             | 15/3614 [00:26<1:47:43,  1.80s/it]\u001b[A\n",
      "  0%|▏                                             | 16/3614 [00:28<1:47:06,  1.79s/it]\u001b[A\n",
      "  0%|▏                                             | 17/3614 [00:30<1:46:46,  1.78s/it]\u001b[A\n",
      "  0%|▏                                             | 18/3614 [00:32<1:47:37,  1.80s/it]\u001b[A\n",
      "  1%|▏                                             | 19/3614 [00:34<1:47:38,  1.80s/it]\u001b[A\n",
      "  1%|▎                                             | 20/3614 [00:36<1:48:56,  1.82s/it]\u001b[A\n",
      "  1%|▎                                             | 21/3614 [00:37<1:49:58,  1.84s/it]\u001b[A\n",
      "  1%|▎                                             | 22/3614 [00:39<1:49:35,  1.83s/it]\u001b[A\n",
      "  1%|▎                                             | 23/3614 [00:41<1:48:33,  1.81s/it]\u001b[A\n",
      "  1%|▎                                             | 24/3614 [00:43<1:48:12,  1.81s/it]\u001b[A\n",
      "  1%|▎                                             | 25/3614 [00:45<1:49:08,  1.82s/it]\u001b[A\n",
      "  1%|▎                                             | 26/3614 [00:46<1:49:12,  1.83s/it]\u001b[A\n",
      "  1%|▎                                             | 27/3614 [00:48<1:49:48,  1.84s/it]\u001b[A\n",
      "  1%|▎                                             | 28/3614 [00:50<1:48:45,  1.82s/it]\u001b[A\n",
      "  1%|▎                                             | 29/3614 [00:52<1:48:23,  1.81s/it]\u001b[A\n",
      "  1%|▍                                             | 30/3614 [00:54<1:49:53,  1.84s/it]\u001b[A\n",
      "  1%|▍                                             | 31/3614 [00:56<1:51:22,  1.87s/it]\u001b[A\n",
      "  1%|▍                                             | 32/3614 [00:58<1:50:22,  1.85s/it]\u001b[A\n",
      "  1%|▍                                             | 33/3614 [00:59<1:51:13,  1.86s/it]\u001b[A\n",
      "  1%|▍                                             | 34/3614 [01:01<1:52:57,  1.89s/it]\u001b[A\n",
      "  1%|▍                                             | 35/3614 [01:03<1:53:46,  1.91s/it]\u001b[A\n",
      "  1%|▍                                             | 36/3614 [01:05<1:53:16,  1.90s/it]\u001b[A\n",
      "  1%|▍                                             | 37/3614 [01:07<1:51:48,  1.88s/it]\u001b[A\n",
      "  1%|▍                                             | 38/3614 [01:09<1:51:11,  1.87s/it]\u001b[A\n",
      "  1%|▍                                             | 39/3614 [01:11<1:50:41,  1.86s/it]\u001b[A\n",
      "  1%|▌                                             | 40/3614 [01:13<1:49:30,  1.84s/it]\u001b[A\n",
      "  1%|▌                                             | 41/3614 [01:14<1:51:52,  1.88s/it]\u001b[A\n",
      "  1%|▌                                             | 42/3614 [01:16<1:51:42,  1.88s/it]\u001b[A\n",
      "  1%|▌                                             | 43/3614 [01:18<1:51:02,  1.87s/it]\u001b[A\n",
      "  1%|▌                                             | 44/3614 [01:20<1:50:29,  1.86s/it]\u001b[A\n",
      "  1%|▌                                             | 45/3614 [01:22<1:49:47,  1.85s/it]\u001b[A\n",
      "  1%|▌                                             | 46/3614 [01:24<1:51:59,  1.88s/it]\u001b[A\n",
      "  1%|▌                                             | 47/3614 [01:26<1:54:29,  1.93s/it]\u001b[A\n",
      "  1%|▌                                             | 48/3614 [01:28<1:58:02,  1.99s/it]\u001b[A\n",
      "  1%|▌                                             | 49/3614 [01:30<1:57:18,  1.97s/it]\u001b[A\n",
      "  1%|▋                                             | 50/3614 [01:32<1:55:32,  1.95s/it]\u001b[A\n",
      "  1%|▋                                             | 51/3614 [01:34<1:53:59,  1.92s/it]\u001b[A\n",
      "  1%|▋                                             | 52/3614 [01:36<1:55:05,  1.94s/it]\u001b[A\n",
      "  1%|▋                                             | 53/3614 [01:38<1:54:34,  1.93s/it]\u001b[A\n",
      "  1%|▋                                             | 54/3614 [01:39<1:53:08,  1.91s/it]\u001b[A\n",
      "  2%|▋                                             | 55/3614 [01:41<1:52:53,  1.90s/it]\u001b[A\n",
      "  2%|▋                                             | 56/3614 [01:43<1:51:22,  1.88s/it]\u001b[A\n",
      "  2%|▋                                             | 57/3614 [01:45<1:50:50,  1.87s/it]\u001b[A\n",
      "  2%|▋                                             | 58/3614 [01:47<1:49:31,  1.85s/it]\u001b[A\n",
      "  2%|▊                                             | 59/3614 [01:49<1:49:52,  1.85s/it]\u001b[A\n",
      "  2%|▊                                             | 60/3614 [01:50<1:49:29,  1.85s/it]\u001b[A\n",
      "  2%|▊                                             | 61/3614 [01:52<1:48:35,  1.83s/it]\u001b[A\n",
      "  2%|▊                                             | 62/3614 [01:54<1:47:56,  1.82s/it]\u001b[A\n",
      "  2%|▊                                             | 63/3614 [01:56<1:48:03,  1.83s/it]\u001b[A\n",
      "  2%|▊                                             | 64/3614 [01:58<1:47:39,  1.82s/it]\u001b[A\n",
      "  2%|▊                                             | 65/3614 [01:59<1:47:08,  1.81s/it]\u001b[A\n",
      "  2%|▊                                             | 66/3614 [02:01<1:47:43,  1.82s/it]\u001b[A\n",
      "  2%|▊                                             | 67/3614 [02:03<1:47:10,  1.81s/it]\u001b[A"
     ]
    },
    {
     "ename": "AssertionError",
     "evalue": "",
     "output_type": "error",
     "traceback": [
      "\u001b[1;31m---------------------------------------------------------------------------\u001b[0m",
      "\u001b[1;31mAssertionError\u001b[0m                            Traceback (most recent call last)",
      "\u001b[1;32m<ipython-input-37-055c6bb746b9>\u001b[0m in \u001b[0;36m<module>\u001b[1;34m\u001b[0m\n\u001b[0;32m      1\u001b[0m \u001b[1;31m# budget of 5 seconds per iteration\u001b[0m\u001b[1;33m\u001b[0m\u001b[1;33m\u001b[0m\u001b[1;33m\u001b[0m\u001b[0m\n\u001b[1;32m----> 2\u001b[1;33m \u001b[0mtrain\u001b[0m \u001b[1;33m=\u001b[0m \u001b[0m_preprocess\u001b[0m\u001b[1;33m(\u001b[0m\u001b[0mtrain_raw\u001b[0m\u001b[1;33m,\u001b[0m \u001b[0mEVENT_CODES\u001b[0m\u001b[1;33m,\u001b[0m \u001b[0mEVENT_IDS\u001b[0m\u001b[1;33m,\u001b[0m \u001b[0mTITLES\u001b[0m\u001b[1;33m,\u001b[0m \u001b[0mTYPES\u001b[0m\u001b[1;33m,\u001b[0m \u001b[0mWORLDS\u001b[0m\u001b[1;33m,\u001b[0m \u001b[0mdenominators\u001b[0m\u001b[1;33m)\u001b[0m\u001b[1;33m\u001b[0m\u001b[1;33m\u001b[0m\u001b[0m\n\u001b[0m",
      "\u001b[1;32m<ipython-input-36-afa3b7ef14b2>\u001b[0m in \u001b[0;36m_preprocess\u001b[1;34m(raw, EVENT_CODES, EVENT_IDS, TITLES, TYPES, WORLDS, denominators)\u001b[0m\n\u001b[0;32m    202\u001b[0m         \u001b[0mtmp\u001b[0m \u001b[1;33m=\u001b[0m \u001b[0m_features\u001b[0m\u001b[1;33m(\u001b[0m\u001b[0mraw\u001b[0m\u001b[1;33m,\u001b[0m \u001b[0miid\u001b[0m\u001b[1;33m,\u001b[0m \u001b[0mEVENT_CODES\u001b[0m\u001b[1;33m,\u001b[0m \u001b[0mEVENT_IDS\u001b[0m\u001b[1;33m,\u001b[0m \u001b[0mTITLES\u001b[0m\u001b[1;33m,\u001b[0m \u001b[0mTYPES\u001b[0m\u001b[1;33m,\u001b[0m \u001b[0mWORLDS\u001b[0m\u001b[1;33m,\u001b[0m \u001b[0mdenominators\u001b[0m\u001b[1;33m)\u001b[0m\u001b[1;33m\u001b[0m\u001b[1;33m\u001b[0m\u001b[0m\n\u001b[0;32m    203\u001b[0m         \u001b[0mprev_len\u001b[0m \u001b[1;33m=\u001b[0m \u001b[0mlen\u001b[0m\u001b[1;33m(\u001b[0m\u001b[0mtmp\u001b[0m\u001b[1;33m.\u001b[0m\u001b[0mcolumns\u001b[0m\u001b[1;33m)\u001b[0m \u001b[1;32mif\u001b[0m \u001b[0mprev_len\u001b[0m \u001b[1;32mis\u001b[0m \u001b[1;32mNone\u001b[0m \u001b[1;32melse\u001b[0m \u001b[0mprev_len\u001b[0m\u001b[1;33m\u001b[0m\u001b[1;33m\u001b[0m\u001b[0m\n\u001b[1;32m--> 204\u001b[1;33m         \u001b[1;32massert\u001b[0m \u001b[0mlen\u001b[0m\u001b[1;33m(\u001b[0m\u001b[0mtmp\u001b[0m\u001b[1;33m.\u001b[0m\u001b[0mcolumns\u001b[0m\u001b[1;33m)\u001b[0m \u001b[1;33m==\u001b[0m \u001b[0mprev_len\u001b[0m\u001b[1;33m\u001b[0m\u001b[1;33m\u001b[0m\u001b[0m\n\u001b[0m\u001b[0;32m    205\u001b[0m         \u001b[0mprev_len\u001b[0m \u001b[1;33m=\u001b[0m \u001b[0mlen\u001b[0m\u001b[1;33m(\u001b[0m\u001b[0mtmp\u001b[0m\u001b[1;33m.\u001b[0m\u001b[0mcolumns\u001b[0m\u001b[1;33m)\u001b[0m\u001b[1;33m\u001b[0m\u001b[1;33m\u001b[0m\u001b[0m\n\u001b[0;32m    206\u001b[0m         \u001b[0mres\u001b[0m \u001b[1;33m=\u001b[0m \u001b[0mpd\u001b[0m\u001b[1;33m.\u001b[0m\u001b[0mconcat\u001b[0m\u001b[1;33m(\u001b[0m\u001b[1;33m[\u001b[0m\u001b[0mres\u001b[0m\u001b[1;33m,\u001b[0m \u001b[0mtmp\u001b[0m\u001b[1;33m]\u001b[0m\u001b[1;33m,\u001b[0m \u001b[0mignore_index\u001b[0m\u001b[1;33m=\u001b[0m\u001b[1;32mTrue\u001b[0m\u001b[1;33m)\u001b[0m\u001b[1;33m\u001b[0m\u001b[1;33m\u001b[0m\u001b[0m\n",
      "\u001b[1;31mAssertionError\u001b[0m: "
     ]
    }
   ],
   "source": [
    "# budget of 5 seconds per iteration\n",
    "train = _preprocess(train_raw, EVENT_CODES, EVENT_IDS, TITLES, TYPES, WORLDS, denominators)"
   ]
  },
  {
   "cell_type": "code",
   "execution_count": null,
   "metadata": {},
   "outputs": [],
   "source": [
    "train.info(max_cols=9999)"
   ]
  },
  {
   "cell_type": "code",
   "execution_count": null,
   "metadata": {},
   "outputs": [],
   "source": [
    "assert train.notna().all(axis=None)\n",
    "train.head(10)"
   ]
  },
  {
   "cell_type": "code",
   "execution_count": null,
   "metadata": {},
   "outputs": [],
   "source": [
    "test = _preprocess(test_raw, EVENT_CODES, EVENT_IDS, TITLES, TYPES, WORLDS, denominators)"
   ]
  },
  {
   "cell_type": "code",
   "execution_count": null,
   "metadata": {},
   "outputs": [],
   "source": [
    "test.info(max_cols=9999)"
   ]
  },
  {
   "cell_type": "code",
   "execution_count": null,
   "metadata": {
    "scrolled": false
   },
   "outputs": [],
   "source": [
    "assert test.notna().all(axis=None)\n",
    "test.head(20)"
   ]
  },
  {
   "cell_type": "code",
   "execution_count": null,
   "metadata": {},
   "outputs": [],
   "source": [
    "train.to_parquet('train.parquet')\n",
    "test.to_parquet('test.parquet')\n",
    "_log(os.listdir(\".\"))"
   ]
  },
  {
   "cell_type": "markdown",
   "metadata": {},
   "source": [
    "# Train Model\n",
    "Approach: Stacking two models\n",
    "1. Binary classification - was the assessment solved or not?\n",
    "1. Regression on the number of attempts taken to solve the assessment\n",
    "\n",
    "Reason: `accuracy_group` labels '1', '2' and '3' are ordinal but not '0'. See https://www.kaggle.com/c/data-science-bowl-2019/discussion/124836"
   ]
  },
  {
   "cell_type": "code",
   "execution_count": null,
   "metadata": {},
   "outputs": [],
   "source": [
    "%%time\n",
    "train = pd.read_parquet('train.parquet')\n",
    "test = pd.read_parquet('test.parquet')"
   ]
  },
  {
   "cell_type": "code",
   "execution_count": null,
   "metadata": {},
   "outputs": [],
   "source": [
    "train['is_solved'] = -1\n",
    "train['solved_attempts'] = -1\n",
    "train.loc[train[TARGET] == 0, ['is_solved']] = 0\n",
    "train.loc[train[TARGET] != 0, ['is_solved']] = 1\n",
    "train.loc[train[TARGET] == 3, ['solved_attempts']] = 1\n",
    "train.loc[train[TARGET] == 2, ['solved_attempts']] = 2\n",
    "train.loc[train[TARGET] == 1, ['solved_attempts']] = 3"
   ]
  },
  {
   "cell_type": "code",
   "execution_count": null,
   "metadata": {},
   "outputs": [],
   "source": [
    "def _log_transform(df, cols):\n",
    "    df[cols] = np.float32(np.log(df[cols] + 1))\n",
    "\n",
    "\n",
    "#cols = list(set(test.columns.values) - {'installation_id'})\n",
    "#_log_transform(train, cols)\n",
    "#_log_transform(test, cols)\n",
    "#train.head()"
   ]
  },
  {
   "cell_type": "code",
   "execution_count": null,
   "metadata": {},
   "outputs": [],
   "source": [
    "%%time\n",
    "def _scaling(dfs, cols, scaler=None):\n",
    "    scaler = sklearn.preprocessing.RobustScaler() if scaler is None else scaler\n",
    "    scaler.fit(dfs[0][cols])\n",
    "    for df in dfs:\n",
    "        df[cols] = np.float32(scaler.transform(df[cols]))\n",
    "        assert df.notna().all(axis=None)\n",
    "\n",
    "\n",
    "#scaler = sklearn.preprocessing.PowerTransformer()\n",
    "cols = list(set(test.columns.values) - {'installation_id'})\n",
    "_scaling([train, test], cols)\n",
    "train.head()"
   ]
  },
  {
   "cell_type": "markdown",
   "metadata": {},
   "source": [
    "# Feature selection\n",
    "[KS Test](https://en.wikipedia.org/wiki/Kolmogorov%E2%80%93Smirnov_test)"
   ]
  },
  {
   "cell_type": "code",
   "execution_count": null,
   "metadata": {},
   "outputs": [],
   "source": [
    "def _select_features(df1, df2, features, alpha):\n",
    "    res = []\n",
    "    for f in tqdm(features):\n",
    "        if ks_2samp(df1[f], df2[f]).pvalue > alpha:\n",
    "            res.append(f)\n",
    "    return res\n",
    "\n",
    "\n",
    "ALPHA = float('1e-04')\n",
    "features = set(test.columns.values) - {'installation_id'}\n",
    "PREDICTORS = _select_features(train, test, features, ALPHA)"
   ]
  },
  {
   "cell_type": "code",
   "execution_count": null,
   "metadata": {},
   "outputs": [],
   "source": [
    "dropped = sorted(list(features - set(PREDICTORS)))\n",
    "PREDICTORS = sorted(PREDICTORS)\n",
    "_log(f'alpha={ALPHA}, keep {len(PREDICTORS)}/{len(features)} features, drop {len(dropped)} features.\\nkeep={PREDICTORS}')"
   ]
  },
  {
   "cell_type": "code",
   "execution_count": null,
   "metadata": {},
   "outputs": [],
   "source": [
    "_log(f'drop={dropped}')"
   ]
  },
  {
   "cell_type": "markdown",
   "metadata": {},
   "source": [
    "# Classify whether assessment was solved or not"
   ]
  },
  {
   "cell_type": "code",
   "execution_count": null,
   "metadata": {},
   "outputs": [],
   "source": [
    "%%time\n",
    "y_train_cls = train['is_solved']\n",
    "x_train_cls = train[PREDICTORS]\n",
    "model = lgb.LGBMClassifier(n_estimators=ESTIMATORS, reg_alpha=1)\n",
    "pipe = Pipeline([('model', model)])\n",
    "param_grid = {\n",
    "    'model__learning_rate': [0.01],\n",
    "    'model__num_leaves': [16],\n",
    "    'model__min_child_samples': [200],\n",
    "    'model__colsample_bytree': [0.5]\n",
    "}\n",
    "cls = GridSearchCV(pipe, cv=FOLDS, param_grid=param_grid, scoring='f1')\n",
    "#cv.fit(x_train, y_train, model__early_stopping_rounds=200, model__verbose=500)\n",
    "cls.fit(x_train_cls, y_train_cls)\n",
    "assert cls.best_estimator_['model'].n_classes_ == 2\n",
    "_log(f'F1\\nbest_params_={cls.best_params_}\\nbest_score_={cls.best_score_:.5f}')"
   ]
  },
  {
   "cell_type": "code",
   "execution_count": null,
   "metadata": {},
   "outputs": [],
   "source": [
    "lgb.plot_importance(cls.best_estimator_['model'], max_num_features=100, figsize=(10, 30), title='Classification feature importance')"
   ]
  },
  {
   "cell_type": "markdown",
   "metadata": {},
   "source": [
    "# Regression on the number of attempts to solve the assessment"
   ]
  },
  {
   "cell_type": "code",
   "execution_count": null,
   "metadata": {},
   "outputs": [],
   "source": [
    "def _rmse(y, y_pred):\n",
    "    return sqrt(mean_squared_error(y, y_pred))\n",
    "\n",
    "\n",
    "SCORING = make_scorer(_rmse, greater_is_better = False)"
   ]
  },
  {
   "cell_type": "code",
   "execution_count": null,
   "metadata": {},
   "outputs": [],
   "source": [
    "%%time\n",
    "tmp = train[train['is_solved'] == 1]\n",
    "y_train = tmp['solved_attempts']\n",
    "x_train = tmp[PREDICTORS]\n",
    "model = lgb.LGBMRegressor(n_estimators=ESTIMATORS, reg_alpha=1)\n",
    "pipe = Pipeline([('model', model)])\n",
    "param_grid = {\n",
    "    'model__learning_rate': [0.01],\n",
    "    'model__num_leaves': [16],\n",
    "    'model__min_child_samples': [200],\n",
    "    'model__colsample_bytree': [0.5]\n",
    "}\n",
    "cv = GridSearchCV(pipe, cv=FOLDS, param_grid=param_grid, scoring=SCORING)\n",
    "#cv.fit(x_train, y_train, model__early_stopping_rounds=200, model__verbose=500)\n",
    "cv.fit(x_train, y_train)\n",
    "_log(f'RMSE\\nbest_params_={cv.best_params_}\\nbest_score_={cv.best_score_:.5f}')"
   ]
  },
  {
   "cell_type": "code",
   "execution_count": null,
   "metadata": {},
   "outputs": [],
   "source": [
    "# plot_metric only works with early stopping rounds\n",
    "#lgb.plot_metric(cv.best_estimator_['model'])"
   ]
  },
  {
   "cell_type": "code",
   "execution_count": null,
   "metadata": {},
   "outputs": [],
   "source": [
    "lgb.plot_importance(cv.best_estimator_['model'], max_num_features=100, figsize=(10, 30), title='Regression feature importance')"
   ]
  },
  {
   "cell_type": "markdown",
   "metadata": {},
   "source": [
    "# Predict out of fold"
   ]
  },
  {
   "cell_type": "code",
   "execution_count": null,
   "metadata": {},
   "outputs": [],
   "source": [
    "%%time\n",
    "def _predict(df, classifier, regressor):\n",
    "    res = df[['installation_id']].copy()\n",
    "    res[TARGET] = np.nan\n",
    "    x_cls = df[PREDICTORS]\n",
    "    res['is_solved'] = classifier.predict(x_cls)\n",
    "    iids = set(res[res['is_solved'] == 1]['installation_id'].values)\n",
    "    cols = ['installation_id'] + PREDICTORS\n",
    "    tmp = df[df['installation_id'].isin(iids)][cols].copy()\n",
    "    x = tmp[PREDICTORS]\n",
    "    tmp['solved_attempts_raw'] = regressor.predict(x)\n",
    "    tmp = tmp[['installation_id', 'solved_attempts_raw']]\n",
    "    res = res.merge(tmp, on='installation_id', how='left')\n",
    "    res['solved_attempts'] = np.int16(np.round(res['solved_attempts_raw']))\n",
    "    res.loc[res['is_solved'] == 0, [TARGET]] = 0\n",
    "    res.loc[(res['is_solved'] == 1) & (res['solved_attempts'] >= 3), [TARGET]] = 1\n",
    "    res.loc[(res['is_solved'] == 1) & (res['solved_attempts'] == 2), [TARGET]] = 2\n",
    "    res.loc[(res['is_solved'] == 1) & (res['solved_attempts'] <= 1), [TARGET]] = 3\n",
    "    assert res[TARGET].notna().all(axis=None)\n",
    "    res[TARGET] = np.int16(res[TARGET])\n",
    "    return res\n",
    "\n",
    "\n",
    "oof = _predict(train, classifier=cls, regressor=cv)\n",
    "oof.head(10)"
   ]
  },
  {
   "cell_type": "code",
   "execution_count": null,
   "metadata": {},
   "outputs": [],
   "source": [
    "plt.title('oof solved_attempts predict')\n",
    "oof['solved_attempts_raw'].plot(kind='hist')"
   ]
  },
  {
   "cell_type": "code",
   "execution_count": null,
   "metadata": {},
   "outputs": [],
   "source": [
    "oof = oof.sort_values(by=['installation_id'])\n",
    "train = train.sort_values(by=['installation_id'])\n",
    "score = cohen_kappa_score(oof[TARGET], train[TARGET], weights='quadratic')\n",
    "_log(f'oof score={score:.5f}')"
   ]
  },
  {
   "cell_type": "markdown",
   "metadata": {},
   "source": [
    "# Predict on Test set"
   ]
  },
  {
   "cell_type": "code",
   "execution_count": null,
   "metadata": {},
   "outputs": [],
   "source": [
    "%%time\n",
    "sub = _predict(test, classifier=cls, regressor=cv)\n",
    "sub = sub[['installation_id', TARGET]]\n",
    "sub.head()"
   ]
  },
  {
   "cell_type": "code",
   "execution_count": null,
   "metadata": {},
   "outputs": [],
   "source": [
    "plt.subplot(1, 3, 1)\n",
    "plt.title('test predict')\n",
    "sub[TARGET].plot(kind='hist')\n",
    "plt.subplot(1, 3, 2)\n",
    "plt.title('oof predict')\n",
    "oof[TARGET].plot(kind='hist')\n",
    "plt.subplot(1, 3, 3)\n",
    "plt.title('oof truth')\n",
    "tmp = train[TARGET].copy()\n",
    "tmp = tmp.astype(int)\n",
    "tmp.plot(kind='hist')\n",
    "plt.tight_layout()"
   ]
  },
  {
   "cell_type": "code",
   "execution_count": null,
   "metadata": {},
   "outputs": [],
   "source": [
    "sub.to_csv('submission.csv', index=False)\n",
    "_log(os.listdir(\".\"))"
   ]
  }
 ],
 "metadata": {
  "kernelspec": {
   "display_name": "Python 3",
   "language": "python",
   "name": "python3"
  },
  "language_info": {
   "codemirror_mode": {
    "name": "ipython",
    "version": 3
   },
   "file_extension": ".py",
   "mimetype": "text/x-python",
   "name": "python",
   "nbconvert_exporter": "python",
   "pygments_lexer": "ipython3",
   "version": "3.7.1"
  }
 },
 "nbformat": 4,
 "nbformat_minor": 1
}
