{
 "cells": [
  {
   "cell_type": "code",
   "execution_count": 17,
   "metadata": {
    "_cell_guid": "b1076dfc-b9ad-4769-8c92-a6c4dae69d19",
    "_uuid": "8f2839f25d086af736a60e9eeb907d3b93b6e0e5"
   },
   "outputs": [],
   "source": [
    "import os\n",
    "import random\n",
    "from math import sqrt\n",
    "import json\n",
    "import numpy as np\n",
    "import pandas as pd\n",
    "import lightgbm as lgb\n",
    "import sklearn\n",
    "from sklearn.pipeline import Pipeline\n",
    "from sklearn.metrics import cohen_kappa_score, make_scorer, mean_squared_error\n",
    "from sklearn.model_selection import GridSearchCV\n",
    "import matplotlib.pyplot as plt\n",
    "import seaborn as sns\n",
    "from tqdm import tqdm"
   ]
  },
  {
   "cell_type": "code",
   "execution_count": 18,
   "metadata": {},
   "outputs": [],
   "source": [
    "def _log(str):\n",
    "    os.system(f'echo \\\"{str}\\\"')\n",
    "    print(str)"
   ]
  },
  {
   "cell_type": "code",
   "execution_count": 19,
   "metadata": {},
   "outputs": [],
   "source": [
    "NAN = '__NAN__'\n",
    "INPUT_ROOT = '../input/data-science-bowl-2019'\n",
    "JOIN_KEY = ['installation_id', 'game_session', 'title']\n",
    "TARGET = 'accuracy_group'\n",
    "FEATURES = {\n",
    "    'event_id', \n",
    "    'game_session', \n",
    "    'timestamp', \n",
    "    'installation_id', \n",
    "    'event_count',\n",
    "    'event_code', \n",
    "    'game_time', \n",
    "    'title', \n",
    "    'type', \n",
    "    'world',\n",
    "    'event_data'\n",
    "}\n",
    "EVENT_CODES = ['2000', '2010', '2020', '2025', '2030', '2035', '2040', '2050', '2060', '2070', '2075', '2080', '2081', '2083', '3010', '3020', '3021', '3110', '3120', '3121', '4010', '4020', '4021', '4022', '4025', '4030', '4031', '4035', '4040', '4045', '4050', '4070', '4080', '4090', '4095', '4100', '4110', '4220', '4230', '4235', '5000', '5010']\n",
    "SEED = 31\n",
    "FOLDS = 3\n",
    "ESTIMATORS = 1000"
   ]
  },
  {
   "cell_type": "code",
   "execution_count": 20,
   "metadata": {},
   "outputs": [],
   "source": [
    "def _init():\n",
    "    # Characters such as empty strings '' or numpy.inf are considered NA values\n",
    "    pd.set_option('use_inf_as_na', True)\n",
    "    pd.set_option('display.max_columns', 999)\n",
    "    pd.set_option('display.max_rows', 999)\n",
    "    \n",
    "    \n",
    "_init()"
   ]
  },
  {
   "cell_type": "code",
   "execution_count": 21,
   "metadata": {},
   "outputs": [],
   "source": [
    "def seed_everything(seed):\n",
    "    random.seed(seed)\n",
    "    os.environ['PYTHONHASHSEED'] = str(seed)\n",
    "    np.random.seed(seed)\n",
    "\n",
    "\n",
    "seed_everything(SEED)"
   ]
  },
  {
   "cell_type": "code",
   "execution_count": 22,
   "metadata": {},
   "outputs": [
    {
     "name": "stdout",
     "output_type": "stream",
     "text": [
      "../input/data-science-bowl-2019\\sample_submission.csv\n",
      "../input/data-science-bowl-2019\\test.csv\n",
      "../input/data-science-bowl-2019\\test.csv.zip\n",
      "../input/data-science-bowl-2019\\train.csv\n",
      "../input/data-science-bowl-2019\\train.csv.zip\n",
      "../input/data-science-bowl-2019\\train_labels.csv\n",
      "../input/data-science-bowl-2019\\train_labels.csv.zip\n"
     ]
    }
   ],
   "source": [
    "# Input data files are available in the \"../input/\" directory.\n",
    "# For example, running this (by clicking run or pressing Shift+Enter) will list all files under the input directory\n",
    "\n",
    "for dirname, _, filenames in os.walk(INPUT_ROOT):\n",
    "    for filename in filenames:\n",
    "        _log(os.path.join(dirname, filename))\n",
    "\n",
    "# Any results you write to the current directory are saved as output."
   ]
  },
  {
   "cell_type": "code",
   "execution_count": 23,
   "metadata": {
    "_cell_guid": "79c7e3d0-c299-4dcb-8224-4455121ee9b0",
    "_uuid": "d629ff2d2480ee46fbb7e2d37f6b5fab8052498a"
   },
   "outputs": [
    {
     "name": "stdout",
     "output_type": "stream",
     "text": [
      "<class 'pandas.core.frame.DataFrame'>\n",
      "RangeIndex: 17690 entries, 0 to 17689\n",
      "Data columns (total 4 columns):\n",
      "game_session       17690 non-null object\n",
      "installation_id    17690 non-null object\n",
      "title              17690 non-null object\n",
      "accuracy_group     17690 non-null int64\n",
      "dtypes: int64(1), object(3)\n",
      "memory usage: 552.9+ KB\n",
      "Wall time: 1min 10s\n"
     ]
    }
   ],
   "source": [
    "%%time\n",
    "train_raw = pd.read_csv(f'{INPUT_ROOT}/train.csv', usecols=FEATURES)\n",
    "train_labels = pd.read_csv(f'{INPUT_ROOT}/train_labels.csv', usecols=JOIN_KEY + [TARGET])\n",
    "test_raw = pd.read_csv(f'{INPUT_ROOT}/test.csv', usecols=FEATURES)\n",
    "train_labels.info()"
   ]
  },
  {
   "cell_type": "markdown",
   "metadata": {},
   "source": [
    "# Add labels to train data"
   ]
  },
  {
   "cell_type": "code",
   "execution_count": 24,
   "metadata": {},
   "outputs": [],
   "source": [
    "def _remove_unlabelled_data(train_raw, train_labels):\n",
    "    return train_raw[train_raw['installation_id'].isin(train_labels['installation_id'].unique())]\n",
    "\n",
    "\n",
    "train_raw = _remove_unlabelled_data(train_raw, train_labels)"
   ]
  },
  {
   "cell_type": "code",
   "execution_count": 25,
   "metadata": {},
   "outputs": [
    {
     "name": "stdout",
     "output_type": "stream",
     "text": [
      "Wall time: 4.73 s\n"
     ]
    }
   ],
   "source": [
    "%%time\n",
    "def _add_labels(train_raw, train_labels, on):\n",
    "    return pd.merge(train_raw, train_labels, on=on, how='left')\n",
    "\n",
    "\n",
    "train_raw = _add_labels(train_raw, train_labels, on=JOIN_KEY)\n",
    "del train_labels"
   ]
  },
  {
   "cell_type": "markdown",
   "metadata": {},
   "source": [
    "# Extract event data JSON"
   ]
  },
  {
   "cell_type": "code",
   "execution_count": 26,
   "metadata": {},
   "outputs": [
    {
     "name": "stderr",
     "output_type": "stream",
     "text": [
      "100%|████████████████████████████████████████████████████| 8/8 [10:34<00:00, 79.33s/it]\n",
      "100%|████████████████████████████████████████████████████| 2/2 [01:43<00:00, 51.61s/it]\n"
     ]
    }
   ],
   "source": [
    "def _concat_columns(df1, df2):\n",
    "    \"\"\"Concatenate the columns of two pandas dataframes in the order of the operands.\n",
    "    Both dataframes must have the same number of rows.\n",
    "    \"\"\"\n",
    "    assert len(df1) == len(df2)\n",
    "    res = pd.concat([df1, df2.reindex(df1.index)], axis=1, join='inner')\n",
    "    assert len(res) == len(df1)\n",
    "    return res\n",
    "    \n",
    "\n",
    "def _extract_event_data(df, keep_cols, chunk_size=1000000):\n",
    "    res = pd.DataFrame()\n",
    "    _len = len(df)\n",
    "    for i in tqdm(range(0, _len, chunk_size)):\n",
    "        if i + chunk_size < _len:\n",
    "            chunk = df[i:i + chunk_size].copy()\n",
    "        else:\n",
    "            chunk = df[i:].copy()\n",
    "        ed = pd.io.json.json_normalize(chunk['event_data'].apply(json.loads)).add_prefix('ed.')\n",
    "        ed = ed[keep_cols]\n",
    "        chunk = _concat_columns(chunk, ed)\n",
    "        res = pd.concat([res, chunk], ignore_index=True, sort=False)\n",
    "    assert len(df) == len(res)\n",
    "    return res\n",
    "\n",
    "\n",
    "keep_cols = ['ed.identifier', 'ed.duration', 'ed.level', 'ed.round', 'ed.correct', 'ed.misses',\n",
    "            'ed.weight', 'ed.total_duration', 'ed.source']\n",
    "train_raw = _extract_event_data(train_raw, keep_cols)\n",
    "test_raw = _extract_event_data(test_raw, keep_cols)"
   ]
  },
  {
   "cell_type": "code",
   "execution_count": 27,
   "metadata": {},
   "outputs": [
    {
     "name": "stdout",
     "output_type": "stream",
     "text": [
      "<class 'pandas.core.frame.DataFrame'>\n",
      "RangeIndex: 1156414 entries, 0 to 1156413\n",
      "Data columns (total 20 columns):\n",
      "event_id             1156414 non-null object\n",
      "game_session         1156414 non-null object\n",
      "timestamp            1156414 non-null object\n",
      "event_data           1156414 non-null object\n",
      "installation_id      1156414 non-null object\n",
      "event_count          1156414 non-null int64\n",
      "event_code           1156414 non-null int64\n",
      "game_time            1156414 non-null int64\n",
      "title                1156414 non-null object\n",
      "type                 1156414 non-null object\n",
      "world                1156414 non-null object\n",
      "ed.identifier        337810 non-null object\n",
      "ed.duration          336619 non-null float64\n",
      "ed.level             84208 non-null float64\n",
      "ed.round             598718 non-null float64\n",
      "ed.correct           69806 non-null object\n",
      "ed.misses            23658 non-null float64\n",
      "ed.weight            50353 non-null float64\n",
      "ed.total_duration    170228 non-null float64\n",
      "ed.source            144623 non-null object\n",
      "dtypes: float64(6), int64(3), object(11)\n",
      "memory usage: 176.5+ MB\n"
     ]
    }
   ],
   "source": [
    "test_raw.info(max_cols=999)"
   ]
  },
  {
   "cell_type": "code",
   "execution_count": 28,
   "metadata": {},
   "outputs": [
    {
     "name": "stdout",
     "output_type": "stream",
     "text": [
      "<class 'pandas.core.frame.DataFrame'>\n",
      "RangeIndex: 7734558 entries, 0 to 7734557\n",
      "Data columns (total 21 columns):\n",
      "event_id             object\n",
      "game_session         object\n",
      "timestamp            object\n",
      "event_data           object\n",
      "installation_id      object\n",
      "event_count          int64\n",
      "event_code           int64\n",
      "game_time            int64\n",
      "title                object\n",
      "type                 object\n",
      "world                object\n",
      "accuracy_group       float64\n",
      "ed.identifier        object\n",
      "ed.duration          float64\n",
      "ed.level             float64\n",
      "ed.round             float64\n",
      "ed.correct           object\n",
      "ed.misses            float64\n",
      "ed.weight            float64\n",
      "ed.total_duration    float64\n",
      "ed.source            object\n",
      "dtypes: float64(7), int64(3), object(11)\n",
      "memory usage: 1.2+ GB\n"
     ]
    }
   ],
   "source": [
    "train_raw.info(max_cols=999)"
   ]
  },
  {
   "cell_type": "code",
   "execution_count": 29,
   "metadata": {},
   "outputs": [
    {
     "name": "stdout",
     "output_type": "stream",
     "text": [
      "0 event_ids exist in test set but not train set.\n"
     ]
    }
   ],
   "source": [
    "# All event ids in test set also exist in train set\n",
    "test_set = set(test_raw['event_id'])\n",
    "train_set = set(train_raw['event_id'])\n",
    "vs = test_set - train_set\n",
    "_log(f'{len(vs)} event_ids exist in test set but not train set.')"
   ]
  },
  {
   "cell_type": "code",
   "execution_count": 30,
   "metadata": {},
   "outputs": [
    {
     "name": "stdout",
     "output_type": "stream",
     "text": [
      "0 EVENT_IDS=set()\n"
     ]
    }
   ],
   "source": [
    "EVENT_IDS = sorted(test_raw['event_id'].unique())\n",
    "_log(f'{len(EVENT_IDS)} EVENT_IDS={EVENT_IDS}')"
   ]
  },
  {
   "cell_type": "code",
   "execution_count": 74,
   "metadata": {},
   "outputs": [
    {
     "data": {
      "text/plain": [
       "resources    72049\n",
       "right        12162\n",
       "left          9345\n",
       "scale         8370\n",
       "7             6044\n",
       "9             5100\n",
       "8             4304\n",
       "N/A           4276\n",
       "2             4147\n",
       "11            3855\n",
       "10            3670\n",
       "4             3244\n",
       "5             3044\n",
       "1             2474\n",
       "12            2404\n",
       "3             1751\n",
       "6             1594\n",
       "middle        1490\n",
       "Heaviest      1181\n",
       "Heavy          921\n",
       "Lightest       736\n",
       "Name: ed.source, dtype: int64"
      ]
     },
     "execution_count": 74,
     "metadata": {},
     "output_type": "execute_result"
    }
   ],
   "source": [
    "test_raw['ed.source'].value_counts()"
   ]
  },
  {
   "cell_type": "code",
   "execution_count": 75,
   "metadata": {},
   "outputs": [
    {
     "data": {
      "text/plain": [
       "1438                                                                                                                                                                                                                                                                                        14812\n",
       "1437                                                                                                                                                                                                                                                                                         6738\n",
       "Dot_SoCool                                                                                                                                                                                                                                                                                   6594\n",
       "507                                                                                                                                                                                                                                                                                          6327\n",
       "Buddy_Incoming                                                                                                                                                                                                                                                                               5416\n",
       "Dot_AllDoneTapThis                                                                                                                                                                                                                                                                           5284\n",
       "sid_1                                                                                                                                                                                                                                                                                        5217\n",
       "sid_2                                                                                                                                                                                                                                                                                        5204\n",
       "1408                                                                                                                                                                                                                                                                                         5038\n",
       "count1                                                                                                                                                                                                                                                                                       4495\n",
       "count2                                                                                                                                                                                                                                                                                       4488\n",
       "sid_bugtank_line22                                                                                                                                                                                                                                                                           4007\n",
       "sid_3                                                                                                                                                                                                                                                                                        3804\n",
       "clip_307_touch                                                                                                                                                                                                                                                                               3570\n",
       "addToYourCollection                                                                                                                                                                                                                                                                          3566\n",
       "andItsFull                                                                                                                                                                                                                                                                                   3543\n",
       "count3                                                                                                                                                                                                                                                                                       3479\n",
       "1434                                                                                                                                                                                                                                                                                         3443\n",
       "Dot_FillItUp                                                                                                                                                                                                                                                                                 3435\n",
       "Dot_GreatJob                                                                                                                                                                                                                                                                                 3358\n",
       "sid_bugtank_line21                                                                                                                                                                                                                                                                           3265\n",
       "Buddy_EggsWentToOtherNest                                                                                                                                                                                                                                                                    3092\n",
       "Dot_SoHigh                                                                                                                                                                                                                                                                                   2759\n",
       "Buddy_NoWaterLeft,Buddy_FillClouds                                                                                                                                                                                                                                                           2619\n",
       "ohWow                                                                                                                                                                                                                                                                                        2526\n",
       "wowSoCool                                                                                                                                                                                                                                                                                    2490\n",
       "oohStripes                                                                                                                                                                                                                                                                                   2453\n",
       "Dot_CheckTapHere                                                                                                                                                                                                                                                                             2444\n",
       "sid_4                                                                                                                                                                                                                                                                                        2416\n",
       "thatLooksSoCool                                                                                                                                                                                                                                                                              2401\n",
       "Dot_GoLower                                                                                                                                                                                                                                                                                  2391\n",
       "niceJob                                                                                                                                                                                                                                                                                      2390\n",
       "Mom_ToPlayAgainTouch                                                                                                                                                                                                                                                                         2362\n",
       "NEXTSTONE                                                                                                                                                                                                                                                                                    2319\n",
       "Dot_TryWall                                                                                                                                                                                                                                                                                  2290\n",
       "Mom_HowManyAltogether,Mom_LetsEstimate                                                                                                                                                                                                                                                       2223\n",
       "clip_328                                                                                                                                                                                                                                                                                     2216\n",
       "1431,1401b                                                                                                                                                                                                                                                                                   2209\n",
       "tub_question                                                                                                                                                                                                                                                                                 2167\n",
       "Buddy_TryDifferentNest                                                                                                                                                                                                                                                                       2157\n",
       "Mom_ChooseTheContainer                                                                                                                                                                                                                                                                       2049\n",
       "Mom_TapTheContainer                                                                                                                                                                                                                                                                          2008\n",
       "intro_1331REVA                                                                                                                                                                                                                                                                               1985\n",
       "Cleo_WhichHasToys                                                                                                                                                                                                                                                                            1984\n",
       "Mom_ThatsHowMuchWater                                                                                                                                                                                                                                                                        1930\n",
       "count4                                                                                                                                                                                                                                                                                       1928\n",
       "dragAsc_3101                                                                                                                                                                                                                                                                                 1908\n",
       "Dot_TrySomethingNew                                                                                                                                                                                                                                                                          1899\n",
       "Mom_TapEachContainer,Mom_ThisOneThenLine                                                                                                                                                                                                                                                     1882\n",
       "tub_success                                                                                                                                                                                                                                                                                  1816\n",
       "water_question                                                                                                                                                                                                                                                                               1778\n",
       "sid_5                                                                                                                                                                                                                                                                                        1763\n",
       "dragDesc_3102                                                                                                                                                                                                                                                                                1752\n",
       "tallflower                                                                                                                                                                                                                                                                                   1729\n",
       "water_success                                                                                                                                                                                                                                                                                1726\n",
       "soap_question                                                                                                                                                                                                                                                                                1704\n",
       "sid_bugtank_line20                                                                                                                                                                                                                                                                           1700\n",
       "watchtheseesaw,idle                                                                                                                                                                                                                                                                          1681\n",
       "soap_success                                                                                                                                                                                                                                                                                 1651\n",
       "right1                                                                                                                                                                                                                                                                                       1590\n",
       "Dot_Amazing                                                                                                                                                                                                                                                                                  1576\n",
       "right2                                                                                                                                                                                                                                                                                       1518\n",
       "1434,1435REVA,3200                                                                                                                                                                                                                                                                           1486\n",
       "Dot_WhoaSoCool                                                                                                                                                                                                                                                                               1483\n",
       "Dot_LetsSandcastle,Dot_FillMold,Dot_MoldShape                                                                                                                                                                                                                                                1473\n",
       "Cleo_TipsHeavier,Cleo_ThinkWhich                                                                                                                                                                                                                                                             1465\n",
       "1409                                                                                                                                                                                                                                                                                         1458\n",
       "Cleo_SeePansMove,Cleo_PutBowlOtherPan                                                                                                                                                                                                                                                        1434\n",
       "Dot_Wow                                                                                                                                                                                                                                                                                      1409\n",
       "hello,takeTheSand,useAnyColors,dragABottle                                                                                                                                                                                                                                                   1329\n",
       "Dot_DragMoldPlace                                                                                                                                                                                                                                                                            1308\n",
       "lookAtItGo,idle                                                                                                                                                                                                                                                                              1306\n",
       "ifYouWantToTry                                                                                                                                                                                                                                                                               1303\n",
       "Cleo_BowlTooLight                                                                                                                                                                                                                                                                            1281\n",
       "plantastic                                                                                                                                                                                                                                                                                   1257\n",
       "leangreen                                                                                                                                                                                                                                                                                    1247\n",
       "Dot_LetsFireworks,Dot_DragAnyHeight                                                                                                                                                                                                                                                          1225\n",
       "Dot_GoHigher                                                                                                                                                                                                                                                                                 1202\n",
       "Buddy_BigCloud                                                                                                                                                                                                                                                                               1186\n",
       "greenthumb                                                                                                                                                                                                                                                                                   1184\n",
       "Dot_SoLow                                                                                                                                                                                                                                                                                    1163\n",
       "Dot_Uhoh,Dot_NeedTryAgain                                                                                                                                                                                                                                                                    1137\n",
       "hog_whichtub                                                                                                                                                                                                                                                                                 1122\n",
       "howMany_paperclip                                                                                                                                                                                                                                                                            1114\n",
       "clip_326                                                                                                                                                                                                                                                                                     1101\n",
       "chicken_whichtub                                                                                                                                                                                                                                                                             1075\n",
       "howMany_dice                                                                                                                                                                                                                                                                                 1066\n",
       "509                                                                                                                                                                                                                                                                                          1036\n",
       "pig,whathappens,idle                                                                                                                                                                                                                                                                         1012\n",
       "IncorrectTooHeavy_touch                                                                                                                                                                                                                                                                      1010\n",
       "Dot_DragShovel                                                                                                                                                                                                                                                                               1008\n",
       "Cleo_EpidermisToy,Cleo_PanBalance,Cleo_MoveBowlToPan                                                                                                                                                                                                                                         1005\n",
       "thatsIt_1303                                                                                                                                                                                                                                                                                  995\n",
       "pig_whichtub                                                                                                                                                                                                                                                                                  994\n",
       "Dot_PutRightBucket,Dot_MatchBucket                                                                                                                                                                                                                                                            993\n",
       "intro,wateringcan                                                                                                                                                                                                                                                                             992\n",
       "sheep_whichtub                                                                                                                                                                                                                                                                                979\n",
       "Dot_BalanceScale,Dot_FillTrays,Dot_UseFingerDragGems                                                                                                                                                                                                                                          973\n",
       "cow_whichtub                                                                                                                                                                                                                                                                                  959\n",
       "sid_6                                                                                                                                                                                                                                                                                         955\n",
       "sid_7                                                                                                                                                                                                                                                                                         949\n",
       "Buddy_DinosaursAwfullyThirsty,Buddy_FillClouds                                                                                                                                                                                                                                                949\n",
       "Dot_WhoopsTooShort                                                                                                                                                                                                                                                                            937\n",
       "Cleo_AweOfYourSkills                                                                                                                                                                                                                                                                          915\n",
       "pig_whichwater                                                                                                                                                                                                                                                                                885\n",
       "Dot_PullMushrooms                                                                                                                                                                                                                                                                             883\n",
       "Cleo_NowThreeBowls,Cleo_EpidermisToy,Cleo_WeighTwoBowls                                                                                                                                                                                                                                       877\n",
       "IncorrectTooLight                                                                                                                                                                                                                                                                             873\n",
       "Dot_MoldSmall                                                                                                                                                                                                                                                                                 873\n",
       "501                                                                                                                                                                                                                                                                                           849\n",
       "basket                                                                                                                                                                                                                                                                                        848\n",
       "cow_whichwater                                                                                                                                                                                                                                                                                842\n",
       "Buddy_TaptoStartShower                                                                                                                                                                                                                                                                        837\n",
       "clip_303_touch                                                                                                                                                                                                                                                                                828\n",
       "Dot_ThatsOne                                                                                                                                                                                                                                                                                  818\n",
       "youDidIt_1305                                                                                                                                                                                                                                                                                 815\n",
       "Dot_ThatsIt                                                                                                                                                                                                                                                                                   814\n",
       "Dot_Two                                                                                                                                                                                                                                                                                       808\n",
       "Mom_Count1                                                                                                                                                                                                                                                                                    800\n",
       "Dot_ShortHereTallHere                                                                                                                                                                                                                                                                         798\n",
       "Dot_AndThree                                                                                                                                                                                                                                                                                  798\n",
       "clip_312                                                                                                                                                                                                                                                                                      795\n",
       "Cleo_EpidermisSoHappy                                                                                                                                                                                                                                                                         794\n",
       "Dot_EachBucketRight                                                                                                                                                                                                                                                                           792\n",
       "chicken_whichwater                                                                                                                                                                                                                                                                            792\n",
       "512                                                                                                                                                                                                                                                                                           787\n",
       "clip_300                                                                                                                                                                                                                                                                                      774\n",
       "lookatem,dragchicks                                                                                                                                                                                                                                                                           774\n",
       "NOT_THAT_HEAVY                                                                                                                                                                                                                                                                                767\n",
       "cow_whichsoap                                                                                                                                                                                                                                                                                 766\n",
       "sheep_whichwater                                                                                                                                                                                                                                                                              765\n",
       "chicken_whichsoap                                                                                                                                                                                                                                                                             764\n",
       "pig_whichsoap                                                                                                                                                                                                                                                                                 761\n",
       "Cleo_NowFourBowls,Cleo_EpidermisToy                                                                                                                                                                                                                                                           759\n",
       "Mom_YouFound                                                                                                                                                                                                                                                                                  752\n",
       "wrong2                                                                                                                                                                                                                                                                                        742\n",
       "sheep_whichsoap                                                                                                                                                                                                                                                                               732\n",
       "Dot_YouDidIt,SFX_completedtask                                                                                                                                                                                                                                                                731\n",
       "walk_in,sid_bugtank_line1,sid_bugtank_line2,sid_bugtank_line3                                                                                                                                                                                                                                 730\n",
       "hog_whichwater                                                                                                                                                                                                                                                                                721\n",
       "Dot_UhOhTooTall                                                                                                                                                                                                                                                                               712\n",
       "sid_bugtank_line6,idle                                                                                                                                                                                                                                                                        710\n",
       "Cleo_AmazingPowers                                                                                                                                                                                                                                                                            697\n",
       "clip_327                                                                                                                                                                                                                                                                                      696\n",
       "RIGHTANSWER1                                                                                                                                                                                                                                                                                  692\n",
       "hog_whichsoap                                                                                                                                                                                                                                                                                 688\n",
       "Dot_AlrightThisLittleThisBig                                                                                                                                                                                                                                                                  688\n",
       "REMOVE_WEIGHT                                                                                                                                                                                                                                                                                 675\n",
       "clip_311                                                                                                                                                                                                                                                                                      669\n",
       "Dot_Awesome                                                                                                                                                                                                                                                                                   668\n",
       "morechicksheavier                                                                                                                                                                                                                                                                             667\n",
       "ADD_MORE_WEIGHT                                                                                                                                                                                                                                                                               652\n",
       "greatJob_1306                                                                                                                                                                                                                                                                                 647\n",
       "ThereGoesTheOther                                                                                                                                                                                                                                                                             639\n",
       "YouDidIt                                                                                                                                                                                                                                                                                      635\n",
       "clip_317                                                                                                                                                                                                                                                                                      632\n",
       "howMany_toothbrush                                                                                                                                                                                                                                                                            629\n",
       "1434a                                                                                                                                                                                                                                                                                         629\n",
       "sid_bugtank_line8_ALT                                                                                                                                                                                                                                                                         628\n",
       "Dot_OrderChests                                                                                                                                                                                                                                                                               622\n",
       "Dot_UseCaterpillars,Dot_PullCaterpillarsFinger                                                                                                                                                                                                                                                621\n",
       "515                                                                                                                                                                                                                                                                                           618\n",
       "RIGHTANSWER3                                                                                                                                                                                                                                                                                  615\n",
       "Mom_Count2                                                                                                                                                                                                                                                                                    612\n",
       "WeveGotToBeInBalance,SmallWeighBigWeigh,ClickToAddRemoveRope_touch,MostIs4,AddDinosToRopeUntilEqual,YouKnowTheyAreEqualWhen                                                                                                                                                                   609\n",
       "Buddy_SmallCloud                                                                                                                                                                                                                                                                              604\n",
       "tryAgain0_1333                                                                                                                                                                                                                                                                                600\n",
       "Buddy_RocksLogs,Buddy_TapToSwitch                                                                                                                                                                                                                                                             598\n",
       "Dot_UsePanBalance                                                                                                                                                                                                                                                                             598\n",
       "wrong1                                                                                                                                                                                                                                                                                        595\n",
       "510                                                                                                                                                                                                                                                                                           594\n",
       "Mom_RoomTouch                                                                                                                                                                                                                                                                                 589\n",
       "FirstClickTheSpace                                                                                                                                                                                                                                                                            587\n",
       "Buddy_TapDino                                                                                                                                                                                                                                                                                 586\n",
       "RIGHTANSWER2                                                                                                                                                                                                                                                                                  585\n",
       "tryAgain1_1334                                                                                                                                                                                                                                                                                573\n",
       "502_touch                                                                                                                                                                                                                                                                                     570\n",
       "Dot_MoveDragFinger                                                                                                                                                                                                                                                                            568\n",
       "pigisheavy,chickiesarelight,idle                                                                                                                                                                                                                                                              566\n",
       "YouMovedYourDinosaur,_10,Spaces,IfYouChangeYourMind_touch                                                                                                                                                                                                                                     564\n",
       "ClickOnGo_touch                                                                                                                                                                                                                                                                               564\n",
       "Buddy_MoreThanOneEgg                                                                                                                                                                                                                                                                          559\n",
       "ROCK_IS_HEAVIER                                                                                                                                                                                                                                                                               558\n",
       "Dot_CheckRightTapHere                                                                                                                                                                                                                                                                         547\n",
       "howMany_block                                                                                                                                                                                                                                                                                 544\n",
       "Dot_PlaceBucketHere                                                                                                                                                                                                                                                                           544\n",
       "count5                                                                                                                                                                                                                                                                                        541\n",
       "Dot_PickFinger                                                                                                                                                                                                                                                                                538\n",
       "clip_313_touch,number6                                                                                                                                                                                                                                                                        529\n",
       "Dot_BalanceScaleTapHere                                                                                                                                                                                                                                                                       529\n",
       "INSTRCOMPLETE                                                                                                                                                                                                                                                                                 522\n",
       "clip_301                                                                                                                                                                                                                                                                                      518\n",
       "clip_313_touch,number3                                                                                                                                                                                                                                                                        507\n",
       "clip_306                                                                                                                                                                                                                                                                                      496\n",
       "511                                                                                                                                                                                                                                                                                           495\n",
       "AWESOME                                                                                                                                                                                                                                                                                       492\n",
       "Cleo_ArmStraight,Cleo_SameWeight                                                                                                                                                                                                                                                              491\n",
       "clip_325                                                                                                                                                                                                                                                                                      488\n",
       "clip_304                                                                                                                                                                                                                                                                                      487\n",
       "503_touch                                                                                                                                                                                                                                                                                     482\n",
       "instructions_touch                                                                                                                                                                                                                                                                            481\n",
       "clip_313_touch,number1                                                                                                                                                                                                                                                                        474\n",
       "513                                                                                                                                                                                                                                                                                           466\n",
       "504,505                                                                                                                                                                                                                                                                                       465\n",
       "TheOtherTeamWillFlyFirst                                                                                                                                                                                                                                                                      461\n",
       "Dot_TryTower                                                                                                                                                                                                                                                                                  452\n",
       "WayToGoTeam                                                                                                                                                                                                                                                                                   442\n",
       "Dot_SmallestBucket                                                                                                                                                                                                                                                                            439\n",
       "TheFurtherBackTutorial                                                                                                                                                                                                                                                                        418\n",
       "clip_305                                                                                                                                                                                                                                                                                      414\n",
       "Dot_MoldBig                                                                                                                                                                                                                                                                                   410\n",
       "sheep_tub_smaller                                                                                                                                                                                                                                                                             408\n",
       "Mom_MoveTheToy                                                                                                                                                                                                                                                                                405\n",
       "Mom_Count3                                                                                                                                                                                                                                                                                    398\n",
       "chicken_tub_smaller                                                                                                                                                                                                                                                                           398\n",
       "Dot_OkayTapBucketMost                                                                                                                                                                                                                                                                         393\n",
       "hog_tub_bigger                                                                                                                                                                                                                                                                                392\n",
       "Dot_BalancedLikeThis                                                                                                                                                                                                                                                                          391\n",
       "Dot_BiggestBucket                                                                                                                                                                                                                                                                             380\n",
       "YouMovedYourDinosaur,_3,Spaces,IfYouChangeYourMind_touch                                                                                                                                                                                                                                      374\n",
       "ObjectiveCloserCliff                                                                                                                                                                                                                                                                          374\n",
       "Dot_NiceWorkAllMatch                                                                                                                                                                                                                                                                          372\n",
       "clip_329                                                                                                                                                                                                                                                                                      370\n",
       "clip_324                                                                                                                                                                                                                                                                                      370\n",
       "Dot_EachCircleUnit,Dot_NowKnowUnits                                                                                                                                                                                                                                                           368\n",
       "chicken_water_smaller                                                                                                                                                                                                                                                                         365\n",
       "Dot_HowManyUnits,Dot_LetsCount,Dot_DragHat                                                                                                                                                                                                                                                    363\n",
       "clip_302                                                                                                                                                                                                                                                                                      355\n",
       "Dot_TapBucketLeast                                                                                                                                                                                                                                                                            352\n",
       "chicken_soap_smaller                                                                                                                                                                                                                                                                          352\n",
       "YouMovedYourDinosaur,_4,Spaces,IfYouChangeYourMind_touch                                                                                                                                                                                                                                      348\n",
       "sheep_water_smaller                                                                                                                                                                                                                                                                           340\n",
       "ClickToAddRemoveRope_touch                                                                                                                                                                                                                                                                    336\n",
       "sheep_soap_smaller                                                                                                                                                                                                                                                                            330\n",
       "PracticeRun_touch                                                                                                                                                                                                                                                                             328\n",
       "YouMovedYourDinosaur,_5,Spaces,IfYouChangeYourMind_touch                                                                                                                                                                                                                                      327\n",
       "hog_water_bigger                                                                                                                                                                                                                                                                              322\n",
       "cow_water_bigger                                                                                                                                                                                                                                                                              321\n",
       "Buddy_KeepMakingItRain                                                                                                                                                                                                                                                                        319\n",
       "pig_water_smaller                                                                                                                                                                                                                                                                             318\n",
       "YouMovedYourDinosaur,_9,Spaces,IfYouChangeYourMind_touch                                                                                                                                                                                                                                      318\n",
       "cow_tub_bigger                                                                                                                                                                                                                                                                                309\n",
       "GreatFlying                                                                                                                                                                                                                                                                                   308\n",
       "YouMovedYourDinosaur,_10,Spaces                                                                                                                                                                                                                                                               306\n",
       "pig_water_bigger                                                                                                                                                                                                                                                                              297\n",
       "YouMovedYourDinosaur,_2,Spaces,IfYouChangeYourMind_touch                                                                                                                                                                                                                                      293\n",
       "pig_tub_smaller                                                                                                                                                                                                                                                                               290\n",
       "Dot_UseFinger                                                                                                                                                                                                                                                                                 289\n",
       "YouMovedYourDinosaur,_6,Spaces,IfYouChangeYourMind_touch                                                                                                                                                                                                                                      289\n",
       "WeDidItOneRoundLeft                                                                                                                                                                                                                                                                           284\n",
       "Dot_TryWeighingAgain                                                                                                                                                                                                                                                                          284\n",
       "YouMovedYourDinosaur,_7,Spaces,IfYouChangeYourMind_touch                                                                                                                                                                                                                                      284\n",
       "ObjectiveFlyFurtherThanOther                                                                                                                                                                                                                                                                  283\n",
       "Mom_Count2,Mom_TubIsFull,Mom_JustRightAlt                                                                                                                                                                                                                                                     281\n",
       "ObjectiveBetweenCliff                                                                                                                                                                                                                                                                         268\n",
       "ObjectiveCloseAs                                                                                                                                                                                                                                                                              266\n",
       "506                                                                                                                                                                                                                                                                                           266\n",
       "YouMovedYourDinosaur,_8,Spaces,IfYouChangeYourMind_touch                                                                                                                                                                                                                                      266\n",
       "Cleo_BowlTooLight,Cleo_RememberHeavierBowl                                                                                                                                                                                                                                                    265\n",
       "SILLY                                                                                                                                                                                                                                                                                         264\n",
       "HELP_touch                                                                                                                                                                                                                                                                                    261\n",
       "clip_318_touch,number7                                                                                                                                                                                                                                                                        260\n",
       "final                                                                                                                                                                                                                                                                                         254\n",
       "hog_soap_bigger                                                                                                                                                                                                                                                                               248\n",
       "ClawStarsGetTheGold                                                                                                                                                                                                                                                                           247\n",
       "pig_tub_bigger                                                                                                                                                                                                                                                                                246\n",
       "SURPRISEANSWER                                                                                                                                                                                                                                                                                245\n",
       "clip_318_touch,number9                                                                                                                                                                                                                                                                        243\n",
       "Dot_Whoops,Dot_NotBalanced                                                                                                                                                                                                                                                                    240\n",
       "YouMovedYourDinosaur,_1,Space,IfYouChangeYourMind_touch                                                                                                                                                                                                                                       238\n",
       "clip_318_touch,number6                                                                                                                                                                                                                                                                        237\n",
       "clip_318_touch,number4                                                                                                                                                                                                                                                                        236\n",
       "ObjectiveBetweenTree                                                                                                                                                                                                                                                                          235\n",
       "piglovestriangles                                                                                                                                                                                                                                                                             231\n",
       "Mom_Count4                                                                                                                                                                                                                                                                                    230\n",
       "hog_tub_smaller                                                                                                                                                                                                                                                                               229\n",
       "clip_318_touch,number2                                                                                                                                                                                                                                                                        229\n",
       "howMany_shovel                                                                                                                                                                                                                                                                                227\n",
       "pig_soap_smaller                                                                                                                                                                                                                                                                              226\n",
       "howMany_crayon                                                                                                                                                                                                                                                                                221\n",
       "Dot_DoneTapButton                                                                                                                                                                                                                                                                             217\n",
       "Mom_Count3,Mom_TubIsFull,Mom_JustRightAlt                                                                                                                                                                                                                                                     209\n",
       "ObjectiveCloserTree                                                                                                                                                                                                                                                                           205\n",
       "TheFurtherBack                                                                                                                                                                                                                                                                                202\n",
       "Dot_NotShortToTall                                                                                                                                                                                                                                                                            193\n",
       "YouMovedYourDinosaur,_5,Spaces                                                                                                                                                                                                                                                                190\n",
       "Dot_NiceWork                                                                                                                                                                                                                                                                                  188\n",
       "dragchicks                                                                                                                                                                                                                                                                                    187\n",
       "cow_soap_bigger                                                                                                                                                                                                                                                                               184\n",
       "Dot_WhoaTreasure,Dot_HeaviestMost,SFX_completedtask                                                                                                                                                                                                                                           184\n",
       "pig_soap_bigger                                                                                                                                                                                                                                                                               182\n",
       "Mom_Count3,Mom_TooMuchWater,Mom_TooManyContainers,Mom_TubIsFull                                                                                                                                                                                                                               181\n",
       "Dot_TrySwappingBuckets                                                                                                                                                                                                                                                                        178\n",
       "YouMovedYourDinosaur,_4,Spaces                                                                                                                                                                                                                                                                174\n",
       "Dot_DragStumps                                                                                                                                                                                                                                                                                173\n",
       "YouMovedYourDinosaur,_9,Spaces                                                                                                                                                                                                                                                                167\n",
       "YouMovedYourDinosaur,_3,Spaces                                                                                                                                                                                                                                                                167\n",
       "Mom_Count5                                                                                                                                                                                                                                                                                    162\n",
       "Mom_TooManyContainers,Mom_TubIsFull                                                                                                                                                                                                                                                           156\n",
       "YouMovedYourDinosaur,_6,Spaces                                                                                                                                                                                                                                                                152\n",
       "YouMovedYourDinosaur,_2,Spaces                                                                                                                                                                                                                                                                152\n",
       "WrongOver                                                                                                                                                                                                                                                                                     150\n",
       "hog_water_smaller                                                                                                                                                                                                                                                                             146\n",
       "Mom_Count4,Mom_TooMuchWater,Mom_TooManyContainers,Mom_TubIsFull                                                                                                                                                                                                                               143\n",
       "Mom_TapContainerYouLike                                                                                                                                                                                                                                                                       139\n",
       "Mom_Count7                                                                                                                                                                                                                                                                                    138\n",
       "Dot_ThatBucketNotRight,Dot_TryAgain                                                                                                                                                                                                                                                           138\n",
       "Cleo_PlayAgain                                                                                                                                                                                                                                                                                136\n",
       "YouMovedYourDinosaur,_7,Spaces                                                                                                                                                                                                                                                                132\n",
       "Dot_TheseLinesShow                                                                                                                                                                                                                                                                            132\n",
       "hog_soap_smaller                                                                                                                                                                                                                                                                              124\n",
       "wrongFewer                                                                                                                                                                                                                                                                                    124\n",
       "sheep_tub_bigger                                                                                                                                                                                                                                                                              122\n",
       "YouMovedYourDinosaur,_8,Spaces                                                                                                                                                                                                                                                                122\n",
       "Mom_Count1,Mom_NeedMoreContainers,Mom_HereMore                                                                                                                                                                                                                                                120\n",
       "Mom_Count4,Mom_TubIsFull,Mom_JustRightAlt                                                                                                                                                                                                                                                     114\n",
       "Mom_Count6                                                                                                                                                                                                                                                                                    112\n",
       "Mom_TapBottomUntilFull                                                                                                                                                                                                                                                                        110\n",
       "YouMovedYourDinosaur,_1,Space                                                                                                                                                                                                                                                                 110\n",
       "Dot_FillTrays                                                                                                                                                                                                                                                                                 101\n",
       "WrongBetweenCliff                                                                                                                                                                                                                                                                             101\n",
       "Mom_Count2,Mom_NeedMoreContainers,Mom_HereMore                                                                                                                                                                                                                                                 97\n",
       "wrongMore                                                                                                                                                                                                                                                                                      96\n",
       "sheep_water_bigger                                                                                                                                                                                                                                                                             90\n",
       "Mom_Count5,Mom_TooMuchWater,Mom_TooManyContainers,Mom_TubIsFull                                                                                                                                                                                                                                89\n",
       "dragABottle                                                                                                                                                                                                                                                                                    88\n",
       "WrongUnder                                                                                                                                                                                                                                                                                     87\n",
       "WrongBetweenTree                                                                                                                                                                                                                                                                               87\n",
       "Mom_KeepGoing                                                                                                                                                                                                                                                                                  86\n",
       "sid_bugtank_line3                                                                                                                                                                                                                                                                              84\n",
       "Dot_TrySmallest,Dot_TryAgain                                                                                                                                                                                                                                                                   83\n",
       "Dot_StillPartyHats                                                                                                                                                                                                                                                                             82\n",
       "Mom_Count3,Mom_TubIsFull                                                                                                                                                                                                                                                                       81\n",
       "Dot_HowManyUnits,Dot_LetsCount,Dot_1Count,Dot_2Count,Dot_3Count,Dot_4Done,Dot_UhOhTooBig,Dot_1Count,Dot_2Count,Dot_3Count,Dot_4Count,Dot_5Count,Dot_6Count,Dot_7Count,Dot_8Done,Dot_HmTooSmall,Dot_1Count,Dot_2Count,Dot_3Count,Dot_4Count,Dot_5Done,Dot_UhOhTooBig,Dot_TrySwitchingHats       76\n",
       "Dot_TryBiggest,Dot_TryAgain                                                                                                                                                                                                                                                                    75\n",
       "Mom_Count9,Mom_TubIsFull                                                                                                                                                                                                                                                                       67\n",
       "Mom_Count8                                                                                                                                                                                                                                                                                     66\n",
       "Mom_Count2,Mom_TubIsFull                                                                                                                                                                                                                                                                       61\n",
       "Mom_Count6,Mom_NeedMoreContainers,Mom_HereMore                                                                                                                                                                                                                                                 60\n",
       "FINAL                                                                                                                                                                                                                                                                                          60\n",
       "Mom_Count8,Mom_TubIsFull,Mom_JustRightAlt                                                                                                                                                                                                                                                      57\n",
       "516_touch                                                                                                                                                                                                                                                                                      57\n",
       "Mom_Count8,Mom_TubIsFull                                                                                                                                                                                                                                                                       54\n",
       "Mom_Count9,Mom_TubIsFull,Mom_JustRightAlt                                                                                                                                                                                                                                                      54\n",
       "hint_touch                                                                                                                                                                                                                                                                                     45\n",
       "Mom_Count3,Mom_NeedMoreContainers,Mom_HereMore                                                                                                                                                                                                                                                 38\n",
       "Dot_OneMoreHat                                                                                                                                                                                                                                                                                 36\n",
       "Mom_Count6,Mom_TubIsFull,Mom_JustRightAlt                                                                                                                                                                                                                                                      36\n",
       "Mom_Count4,Mom_TubIsFull                                                                                                                                                                                                                                                                       34\n",
       "sheep_soap_bigger                                                                                                                                                                                                                                                                              32\n",
       "Mom_Count5,Mom_TubIsFull,Mom_JustRightAlt                                                                                                                                                                                                                                                      30\n",
       "Cleo_RememberHeavierBowl                                                                                                                                                                                                                                                                       26\n",
       "Dot_HowManyUnits,Dot_LetsCount,Dot_1Count,Dot_2Count,Dot_3Count,Dot_4Done,Dot_UhOhTooBig,Dot_1Count,Dot_2Count,Dot_3Count,Dot_4Count,Dot_5Count,Dot_6Count,Dot_7Count,Dot_8Done,Dot_1Count,Dot_2Count,Dot_3Count,Dot_4Count,Dot_5Done,Dot_HmTooSmall,Dot_TrySwitchingHats                      24\n",
       "Mom_Count8,Mom_TooMuchWater,Mom_TooManyContainers,Mom_TubIsFull                                                                                                                                                                                                                                22\n",
       "Dot_1Count,Dot_2Count,Dot_3Count,Dot_4Count,Dot_5Count,Dot_6Count,Dot_7Count,Dot_8Done,Dot_HmTooSmall,Dot_1Count,Dot_2Count,Dot_3Count,Dot_4Count,Dot_5Done,Dot_UhOhTooBig,Dot_TrySwitchingHats                                                                                                16\n",
       "Mom_Count6,Mom_TooMuchWater,Mom_TooManyContainers,Mom_TubIsFull                                                                                                                                                                                                                                16\n",
       "Cleo_WeighTwoBowls                                                                                                                                                                                                                                                                             15\n",
       "Cleo_PutBowlOtherPan                                                                                                                                                                                                                                                                           15\n",
       "Mom_Count6,Mom_TubIsFull                                                                                                                                                                                                                                                                       14\n",
       "Mom_Count7,Mom_TooMuchWater,Mom_TooManyContainers,Mom_TubIsFull                                                                                                                                                                                                                                12\n",
       "Mom_Count4,Mom_NeedMoreContainers,Mom_HereMore                                                                                                                                                                                                                                                 12\n",
       "Mom_Count7,Mom_TubIsFull,Mom_JustRightAlt                                                                                                                                                                                                                                                      12\n",
       "Cleo_ThinkWhich                                                                                                                                                                                                                                                                                12\n",
       "Mom_Count7,Mom_TubIsFull                                                                                                                                                                                                                                                                       10\n",
       "Dot_RememberPlaceHere                                                                                                                                                                                                                                                                          10\n",
       "Mom_Count5,Mom_NeedMoreContainers,Mom_HereMore                                                                                                                                                                                                                                                 10\n",
       "Cleo_MoveBowlToPan                                                                                                                                                                                                                                                                             10\n",
       "Dot_HowManyUnits,Dot_LetsCount,Dot_1Count,Dot_2Count,Dot_3Count,Dot_4Done,Dot_UhOhTooBig,Dot_1Count,Dot_2Count,Dot_3Count,Dot_4Count,Dot_5Count,Dot_6Count,Dot_7Count,Dot_8Done,Dot_HmTooSmall,Dot_1Count,Dot_2Count,Dot_3Count,Dot_4Count,Dot_5Done,Dot_HmTooSmall,Dot_TrySwitchingHats        8\n",
       "Dot_HowManyUnits,Dot_LetsCount,Dot_1Count,Dot_2Count,Dot_3Count,Dot_4Done,Dot_1Count,Dot_2Count,Dot_3Count,Dot_4Count,Dot_5Count,Dot_6Count,Dot_7Count,Dot_8Done,Dot_HmTooSmall,Dot_1Count,Dot_2Count,Dot_3Count,Dot_4Count,Dot_5Done,Dot_UhOhTooBig,Dot_TrySwitchingHats                       8\n",
       "Dot_1Count,Dot_2Count,Dot_3Count,Dot_4Done,Dot_UhOhTooBig,Dot_1Count,Dot_2Count,Dot_3Count,Dot_4Count,Dot_5Count,Dot_6Count,Dot_7Count,Dot_8Done,Dot_HmTooSmall,Dot_1Count,Dot_2Count,Dot_3Count,Dot_4Count,Dot_5Done,Dot_HmTooSmall,Dot_TrySwitchingHats                                       6\n",
       "Dot_1Count,Dot_2Count,Dot_3Count,Dot_4Done,Dot_UhOhTooBig,Dot_1Count,Dot_2Count,Dot_3Count,Dot_4Count,Dot_5Done,Dot_HmTooSmall,Dot_TrySwitchingHats                                                                                                                                             6\n",
       "Mom_Count5,Mom_TubIsFull                                                                                                                                                                                                                                                                        6\n",
       "Dot_1Count,Dot_2Count,Dot_3Count,Dot_4Done,Dot_UhOhTooBig,Dot_1Count,Dot_2Count,Dot_3Count,Dot_4Count,Dot_5Count,Dot_6Count,Dot_7Count,Dot_8Done,Dot_HmTooSmall,Dot_1Count,Dot_2Count,Dot_3Count,Dot_4Count,Dot_5Done,Dot_UhOhTooBig,Dot_TrySwitchingHats                                       4\n",
       "Dot_WontHoldRightAmount,Dot_TryAgain                                                                                                                                                                                                                                                            2\n",
       "Dot_HowManyUnits,Dot_LetsCount,Dot_1Count,Dot_2Count,Dot_3Count,Dot_4Done,Dot_UhOhTooBig,Dot_1Count,Dot_2Count,Dot_3Count,Dot_4Count,Dot_5Count,Dot_6Count,Dot_7Count,Dot_8Done,Dot_HmTooSmall,Dot_1Count,Dot_2Count,Dot_3Count,Dot_4Count,Dot_5Done,Dot_TrySwitchingHats                       2\n",
       "Dot_1Count,Dot_2Count,Dot_3Count,Dot_4Done,Dot_UhOhTooBig,Dot_1Count,Dot_2Count,Dot_3Count,Dot_4Count,Dot_5Count,Dot_6Count,Dot_7Count,Dot_8Done,Dot_HmTooSmall,Dot_TrySwitchingHats                                                                                                            2\n",
       "Name: ed.identifier, dtype: int64"
      ]
     },
     "execution_count": 75,
     "metadata": {},
     "output_type": "execute_result"
    }
   ],
   "source": [
    "test_raw['ed.identifier'].value_counts()"
   ]
  },
  {
   "cell_type": "code",
   "execution_count": 31,
   "metadata": {},
   "outputs": [
    {
     "name": "stdout",
     "output_type": "stream",
     "text": [
      "4 train_raw type=['Activity', 'Assessment', 'Clip', 'Game']\n"
     ]
    }
   ],
   "source": [
    "vs = sorted(train_raw['type'].unique())\n",
    "_log(f'{len(vs)} train_raw type={vs}')"
   ]
  },
  {
   "cell_type": "code",
   "execution_count": 32,
   "metadata": {},
   "outputs": [
    {
     "name": "stdout",
     "output_type": "stream",
     "text": [
      "4 train_raw type=['CRYSTALCAVES', 'MAGMAPEAK', 'NONE', 'TREETOPCITY']\n"
     ]
    }
   ],
   "source": [
    "vs = sorted(train_raw['world'].unique())\n",
    "_log(f'{len(vs)} train_raw type={vs}')"
   ]
  },
  {
   "cell_type": "code",
   "execution_count": 33,
   "metadata": {},
   "outputs": [
    {
     "name": "stdout",
     "output_type": "stream",
     "text": [
      "42 train_raw type=[2000, 2010, 2020, 2025, 2030, 2035, 2040, 2050, 2060, 2070, 2075, 2080, 2081, 2083, 3010, 3020, 3021, 3110, 3120, 3121, 4010, 4020, 4021, 4022, 4025, 4030, 4031, 4035, 4040, 4045, 4050, 4070, 4080, 4090, 4095, 4100, 4110, 4220, 4230, 4235, 5000, 5010]\n"
     ]
    }
   ],
   "source": [
    "vs = sorted(train_raw['event_code'].unique())\n",
    "_log(f'{len(vs)} train_raw type={vs}')"
   ]
  },
  {
   "cell_type": "code",
   "execution_count": 34,
   "metadata": {},
   "outputs": [
    {
     "name": "stdout",
     "output_type": "stream",
     "text": [
      "44 train_raw titles=['12 Monkeys', 'Air Show', 'All Star Sorting', 'Balancing Act', 'Bird Measurer (Assessment)', 'Bottle Filler (Activity)', 'Bubble Bath', 'Bug Measurer (Activity)', 'Cart Balancer (Assessment)', 'Cauldron Filler (Assessment)', 'Chest Sorter (Assessment)', 'Chicken Balancer (Activity)', 'Chow Time', 'Costume Box', 'Crystal Caves - Level 1', 'Crystal Caves - Level 2', 'Crystal Caves - Level 3', 'Crystals Rule', 'Dino Dive', 'Dino Drink', 'Egg Dropper (Activity)', 'Fireworks (Activity)', 'Flower Waterer (Activity)', 'Happy Camel', 'Heavy, Heavier, Heaviest', 'Honey Cake', 'Leaf Leader', 'Lifting Heavy Things', 'Magma Peak - Level 1', 'Magma Peak - Level 2', 'Mushroom Sorter (Assessment)', 'Ordering Spheres', 'Pan Balance', \"Pirate's Tale\", 'Rulers', 'Sandcastle Builder (Activity)', 'Scrub-A-Dub', 'Slop Problem', 'Treasure Map', 'Tree Top City - Level 1', 'Tree Top City - Level 2', 'Tree Top City - Level 3', 'Watering Hole (Activity)', 'Welcome to Lost Lagoon!']\n"
     ]
    }
   ],
   "source": [
    "vs = sorted(train_raw['title'].unique())\n",
    "_log(f'{len(vs)} train_raw titles={vs}')"
   ]
  },
  {
   "cell_type": "code",
   "execution_count": 35,
   "metadata": {},
   "outputs": [
    {
     "name": "stdout",
     "output_type": "stream",
     "text": [
      "44 test titles=['12 Monkeys', 'Air Show', 'All Star Sorting', 'Balancing Act', 'Bird Measurer (Assessment)', 'Bottle Filler (Activity)', 'Bubble Bath', 'Bug Measurer (Activity)', 'Cart Balancer (Assessment)', 'Cauldron Filler (Assessment)', 'Chest Sorter (Assessment)', 'Chicken Balancer (Activity)', 'Chow Time', 'Costume Box', 'Crystal Caves - Level 1', 'Crystal Caves - Level 2', 'Crystal Caves - Level 3', 'Crystals Rule', 'Dino Dive', 'Dino Drink', 'Egg Dropper (Activity)', 'Fireworks (Activity)', 'Flower Waterer (Activity)', 'Happy Camel', 'Heavy, Heavier, Heaviest', 'Honey Cake', 'Leaf Leader', 'Lifting Heavy Things', 'Magma Peak - Level 1', 'Magma Peak - Level 2', 'Mushroom Sorter (Assessment)', 'Ordering Spheres', 'Pan Balance', \"Pirate's Tale\", 'Rulers', 'Sandcastle Builder (Activity)', 'Scrub-A-Dub', 'Slop Problem', 'Treasure Map', 'Tree Top City - Level 1', 'Tree Top City - Level 2', 'Tree Top City - Level 3', 'Watering Hole (Activity)', 'Welcome to Lost Lagoon!']\n"
     ]
    }
   ],
   "source": [
    "vs = sorted(test_raw['title'].unique())\n",
    "_log(f'{len(vs)} test titles={vs}')"
   ]
  },
  {
   "cell_type": "code",
   "execution_count": 36,
   "metadata": {},
   "outputs": [],
   "source": [
    "def _transform_timestamp(df):\n",
    "    df['timestamp'] = pd.to_datetime(df['timestamp'])\n",
    "    return df\n",
    "\n",
    "\n",
    "train_raw = _transform_timestamp(train_raw)\n",
    "test_raw = _transform_timestamp(test_raw)"
   ]
  },
  {
   "cell_type": "code",
   "execution_count": 96,
   "metadata": {},
   "outputs": [
    {
     "name": "stdout",
     "output_type": "stream",
     "text": [
      "Wall time: 8.16 s\n"
     ]
    }
   ],
   "source": [
    "%%time\n",
    "def _set_string_type(df, cols):\n",
    "    df[cols] = df[cols].fillna(NAN).astype(str)\n",
    "    return df\n",
    "\n",
    "\n",
    "cols = ['event_code', 'timestamp', 'ed.identifier', 'ed.source']\n",
    "train_raw = _set_string_type(train_raw, cols=cols)\n",
    "test_raw = _set_string_type(test_raw, cols=cols)"
   ]
  },
  {
   "cell_type": "code",
   "execution_count": 97,
   "metadata": {},
   "outputs": [
    {
     "name": "stdout",
     "output_type": "stream",
     "text": [
      "Wall time: 23.5 s\n"
     ]
    }
   ],
   "source": [
    "%%time\n",
    "def _sort_it(df):\n",
    "    return df.sort_values(by=['installation_id', 'timestamp'])\n",
    "\n",
    "\n",
    "train_raw = _sort_it(train_raw)\n",
    "test_raw = _sort_it(test_raw)"
   ]
  },
  {
   "cell_type": "markdown",
   "metadata": {},
   "source": [
    "# Multiple accuracy groups per installation id\n",
    "In the train set, there are multiple accuracy groups per installation id. The task is to predict the accuracy group of the **last** assessment for a given installation id."
   ]
  },
  {
   "cell_type": "code",
   "execution_count": 98,
   "metadata": {},
   "outputs": [
    {
     "data": {
      "text/plain": [
       "installation_id\n",
       "0006a69f    3\n",
       "0006c192    3\n",
       "00129856    1\n",
       "001d0ed0    3\n",
       "00225f67    1\n",
       "           ..\n",
       "ff9305d7    2\n",
       "ff9715db    4\n",
       "ffc90c32    2\n",
       "ffd2871d    1\n",
       "ffeb0b1b    2\n",
       "Name: accuracy_group, Length: 3614, dtype: int64"
      ]
     },
     "execution_count": 98,
     "metadata": {},
     "output_type": "execute_result"
    }
   ],
   "source": [
    "vs = train_raw[train_raw[TARGET].notna()].groupby('installation_id')[TARGET].nunique()\n",
    "vs"
   ]
  },
  {
   "cell_type": "code",
   "execution_count": 99,
   "metadata": {},
   "outputs": [],
   "source": [
    "def _log_smoothing(df, cols):\n",
    "    for col in cols:\n",
    "        df[col] = np.log(df[col] + 1)\n",
    "    return df\n",
    "\n",
    "\n",
    "#cols = ['event_count', 'game_time']\n",
    "#train = _log_smoothing(train, cols)\n",
    "#test = _log_smoothing(test, cols)"
   ]
  },
  {
   "cell_type": "markdown",
   "metadata": {},
   "source": [
    "# Train-test split not by time\n",
    "Both train and test sets span the same time period."
   ]
  },
  {
   "cell_type": "code",
   "execution_count": 100,
   "metadata": {},
   "outputs": [
    {
     "name": "stdout",
     "output_type": "stream",
     "text": [
      "train_raw[timestamp] is from 2019-07-23 14:38:25.256000+00:00 to 2019-10-14 21:57:26.930000+00:00\n",
      "test_raw[timestamp] is from 2019-07-24 00:04:25.361000+00:00 to 2019-10-14 21:00:34.858000+00:00\n"
     ]
    }
   ],
   "source": [
    "_log(f'train_raw[timestamp] is from {train_raw.timestamp.min()} to {train_raw.timestamp.max()}')\n",
    "_log(f'test_raw[timestamp] is from {test_raw.timestamp.min()} to {test_raw.timestamp.max()}')"
   ]
  },
  {
   "cell_type": "code",
   "execution_count": 101,
   "metadata": {},
   "outputs": [
    {
     "name": "stdout",
     "output_type": "stream",
     "text": [
      "<class 'pandas.core.frame.DataFrame'>\n",
      "Int64Index: 7734558 entries, 0 to 7734557\n",
      "Data columns (total 21 columns):\n",
      "event_id             object\n",
      "game_session         object\n",
      "timestamp            object\n",
      "event_data           object\n",
      "installation_id      object\n",
      "event_count          int64\n",
      "event_code           object\n",
      "game_time            int64\n",
      "title                object\n",
      "type                 object\n",
      "world                object\n",
      "accuracy_group       float64\n",
      "ed.identifier        object\n",
      "ed.duration          float64\n",
      "ed.level             float64\n",
      "ed.round             float64\n",
      "ed.correct           object\n",
      "ed.misses            float64\n",
      "ed.weight            float64\n",
      "ed.total_duration    float64\n",
      "ed.source            object\n",
      "dtypes: float64(7), int64(2), object(12)\n",
      "memory usage: 1.3+ GB\n"
     ]
    }
   ],
   "source": [
    "train_raw.info()"
   ]
  },
  {
   "cell_type": "markdown",
   "metadata": {},
   "source": [
    "# Feature Engineering"
   ]
  },
  {
   "cell_type": "code",
   "execution_count": null,
   "metadata": {},
   "outputs": [
    {
     "name": "stderr",
     "output_type": "stream",
     "text": [
      "  0%|                                                 | 9/3614 [00:08<53:31,  1.12it/s]"
     ]
    }
   ],
   "source": [
    "def _cutoff(df, TARGET):\n",
    "    return df[df[TARGET].notna()]['timestamp'].max()\n",
    "\n",
    "\n",
    "def _trim_events_after_last_assessment(df, cutoff):\n",
    "    res = df[df['timestamp'] <= cutoff]\n",
    "    #_log(f'cutoff: before={df.shape}, after={res.shape}')\n",
    "    return res\n",
    "    \n",
    "    \n",
    "def _target_variable(df, cutoff, TARGET):\n",
    "    vs = df[df['timestamp'] == cutoff][TARGET].values\n",
    "    assert len(set(vs)) == 1\n",
    "    return int(float(vs[0]))\n",
    "    \n",
    "    \n",
    "def _game_session_stats(df, col):\n",
    "    vs = df.groupby(['game_session'])[col].transform('max')\n",
    "    return (vs.median(), vs.max())\n",
    "\n",
    "\n",
    "def _event_code_counts(df, code):\n",
    "    total = np.int32([sum(df['event_code'] == code)])\n",
    "    activity = np.int32([sum((df['event_code'] == code) & (df['type'] == 'Activity'))])\n",
    "    assessment = np.int32([sum((df['event_code'] == code) & (df['type'] == 'Assessment'))])\n",
    "    clip = np.int32([sum((df['event_code'] == code) & (df['type'] == 'Clip'))])\n",
    "    game = np.int32([sum((df['event_code'] == code) & (df['type'] == 'Game'))])\n",
    "    return (total, activity, assessment, clip, game)\n",
    "\n",
    "\n",
    "def _event_data_features(df, suffix):\n",
    "    res = {}\n",
    "    res[f'ed_duration{suffix}'] = np.int32(df['ed.duration'].fillna(0).max())\n",
    "    res[f'ed_total_duration{suffix}'] = np.int32(df['ed.total_duration'].fillna(0).max())\n",
    "    res[f'ed_level{suffix}'] = np.int32(df['ed.level'].fillna(0).max())\n",
    "    res[f'ed_round{suffix}'] = np.int32(df['ed.round'].fillna(0).max())\n",
    "    res[f'ed_correct{suffix}'] = np.int32(df['ed.correct'].fillna(0).max())\n",
    "    res[f'ed_misses{suffix}'] = np.int32(df['ed.misses'].fillna(0).max())\n",
    "    res[f'ed_weight{suffix}'] = np.int32(df['ed.weight'].fillna(0).max())\n",
    "    res[f'ed_source_resources{suffix}'] = np.int32([sum(df['ed.source'] == 'resources')])\n",
    "    res[f'ed_source_right{suffix}'] = np.int32([sum(df['ed.source'] == 'right')])\n",
    "    res[f'ed_source_left{suffix}'] = np.int32([sum(df['ed.source'] == 'left')])\n",
    "    res[f'ed_source_scale{suffix}'] = np.int32([sum(df['ed.source'] == 'scale')])\n",
    "    res[f'ed_source_middle{suffix}'] = np.int32([sum(df['ed.source'] == 'middle')])\n",
    "    res[f'ed_source_heaviest{suffix}'] = np.int32([sum(df['ed.source'] == 'Heaviest')])\n",
    "    res[f'ed_source_heavy{suffix}'] = np.int32([sum(df['ed.source'] == 'Heavy')])\n",
    "    res[f'ed_source_lightest{suffix}'] = np.int32([sum(df['ed.source'] == 'Lightest')])\n",
    "    n = 0\n",
    "    for i in range(1, 13):\n",
    "        n += sum(df['ed.source'] == str(i))\n",
    "    res[f'ed_source_numbered{suffix}'] = np.int32([n])\n",
    "    res[f'ed_id_dot{suffix}'] = np.int32([sum(df['ed.identifier'].str.contains('Dot_', regex=False))])\n",
    "    res[f'ed_id_buddy{suffix}'] = np.int32([sum(df['ed.identifier'].str.contains('Buddy_', regex=False))])\n",
    "    res[f'ed_id_cleo{suffix}'] = np.int32([sum(df['ed.identifier'].str.contains('Cleo_', regex=False))])\n",
    "    res[f'ed_id_mom{suffix}'] = np.int32([sum(df['ed.identifier'].str.contains('Mom_', regex=False))])\n",
    "    res[f'ed_id_sid{suffix}'] = np.int32([sum(df['ed.identifier'].str.contains('sid_', regex=False))])\n",
    "    positives = {'Dot_SoCool', 'Dot_GreatJob', 'ohWow', 'wowSoCool', 'thatLooksSoCool', 'tub_success', \n",
    "                 'water_success', 'soap_success', 'Dot_Amazing', 'Dot_WhoaSoCool', 'Dot_ThatsIt', 'youDidIt_1305',\n",
    "                 'SFX_completedtask', 'Cleo_AmazingPowers', 'RIGHTANSWER1', 'Dot_Awesome', 'greatJob_1306', 'YouDidIt',\n",
    "                 'RIGHTANSWER3', 'RIGHTANSWER2', 'INSTRCOMPLETE', 'AWESOME', 'WayToGoTeam', 'Dot_NiceWorkAllMatch',\n",
    "                 'GreatFlying', 'WeDidItOneRoundLeft'}\n",
    "    n = 0\n",
    "    for p in positives:\n",
    "        n += sum(df['ed.identifier'].str.contains(p, regex=False))\n",
    "    res[f'ed_id_positive{suffix}'] = np.int32([n])\n",
    "    return res\n",
    "\n",
    "\n",
    "def _features_map(df, EVENT_CODES, EVENT_IDS, suffix=''):\n",
    "    res = {}\n",
    "    res[f'type_activity{suffix}'] = np.int32([sum(df['type'] == 'Activity')])\n",
    "    res[f'type_assessment{suffix}'] = np.int32([sum(df['type'] == 'Assessment')])\n",
    "    res[f'type_clip{suffix}'] = np.int32([sum(df['type'] == 'Clip')])\n",
    "    res[f'type_game{suffix}'] = np.int32([sum(df['type'] == 'Game')])\n",
    "    assert len(df) == res[f'type_activity{suffix}'][0] + res[f'type_assessment{suffix}'][0] + res[f'type_clip{suffix}'][0] + res[f'type_game{suffix}'][0]\n",
    "    res[f'world_crystalcaves{suffix}'] = np.int32([sum(df['world'] == 'CRYSTALCAVES')])\n",
    "    res[f'world_magmapeak{suffix}'] = np.int32([sum(df['world'] == 'MAGMAPEAK')])\n",
    "    res[f'world_treetopcity{suffix}'] = np.int32([sum(df['world'] == 'TREETOPCITY')])\n",
    "    res[f'world_none{suffix}'] = np.int32([sum(df['world'] == 'NONE')])\n",
    "    res[f'title_12_monkeys{suffix}'] = np.int32([sum(df['title'] == '12 Monkeys')])\n",
    "    res[f'title_air_show{suffix}'] = np.int32([sum(df['title'] == 'Air Show')])\n",
    "    res[f'title_all_star_sorting{suffix}'] = np.int32([sum(df['title'] == 'All Star Sorting')])\n",
    "    res[f'title_balancing_act{suffix}'] = np.int32([sum(df['title'] == 'Balancing Act')])\n",
    "    res[f'title_bird_measurer{suffix}'] = np.int32([sum(df['title'] == 'Bird Measurer (Assessment)')])\n",
    "    res[f'title_bottle_filler{suffix}'] = np.int32([sum(df['title'] == 'Bottle Filler (Activity)')])\n",
    "    res[f'title_bubble_bath{suffix}'] = np.int32([sum(df['title'] == 'Bubble Bath')])\n",
    "    res[f'title_bug_measurer{suffix}'] = np.int32([sum(df['title'] == 'Bug Measurer (Activity)')])\n",
    "    res[f'title_cart_balancer{suffix}'] = np.int32([sum(df['title'] == 'Cart Balancer (Assessment)')])\n",
    "    res[f'title_cauldron_filler{suffix}'] = np.int32([sum(df['title'] == 'Cauldron Filler (Assessment)')])\n",
    "    res[f'title_chest_sorter{suffix}'] = np.int32([sum(df['title'] == 'Chest Sorter (Assessment)')])\n",
    "    res[f'title_chicken_balancer{suffix}'] = np.int32([sum(df['title'] == 'Chicken Balancer (Activity)')])\n",
    "    res[f'title_chow_time{suffix}'] = np.int32([sum(df['title'] == 'Chow Time')])\n",
    "    res[f'title_costume_box{suffix}'] = np.int32([sum(df['title'] == 'Costume Box')])\n",
    "    res[f'title_crystal_caves_1{suffix}'] = np.int32([sum(df['title'] == 'Crystal Caves - Level 1')])\n",
    "    res[f'title_crystal_caves_2{suffix}'] = np.int32([sum(df['title'] == 'Crystal Caves - Level 2')])\n",
    "    res[f'title_crystal_caves_3{suffix}'] = np.int32([sum(df['title'] == 'Crystal Caves - Level 3')])\n",
    "    res[f'title_crystals_rule{suffix}'] = np.int32([sum(df['title'] == 'Crystals Rule')])\n",
    "    res[f'title_dino_dive{suffix}'] = np.int32([sum(df['title'] == 'Dino Dive')])\n",
    "    res[f'title_dino_drink{suffix}'] = np.int32([sum(df['title'] == 'Dino Drink')])\n",
    "    res[f'title_egg_dropper{suffix}'] = np.int32([sum(df['title'] == 'Egg Dropper (Activity)')])\n",
    "    res[f'title_fireworks{suffix}'] = np.int32([sum(df['title'] == 'Fireworks (Activity)')])\n",
    "    res[f'title_flower_waterer{suffix}'] = np.int32([sum(df['title'] == 'Flower Waterer (Activity)')])\n",
    "    res[f'title_happy_camel{suffix}'] = np.int32([sum(df['title'] == 'Happy Camel')])\n",
    "    res[f'title_heavy{suffix}'] = np.int32([sum(df['title'] == 'Heavy, Heavier, Heaviest')])\n",
    "    res[f'title_honey_cake{suffix}'] = np.int32([sum(df['title'] == 'Honey Cake')])\n",
    "    res[f'title_leaf_leader{suffix}'] = np.int32([sum(df['title'] == 'Leaf Leader')])\n",
    "    res[f'title_lifting{suffix}'] = np.int32([sum(df['title'] == 'Lifting Heavy Things')])\n",
    "    res[f'title_magma_peak_1{suffix}'] = np.int32([sum(df['title'] == 'Magma Peak - Level 1')])\n",
    "    res[f'title_magma_peak_2{suffix}'] = np.int32([sum(df['title'] == 'Magma Peak - Level 2')])\n",
    "    res[f'title_mushroom_sorter{suffix}'] = np.int32([sum(df['title'] == 'Mushroom Sorter (Assessment)')])\n",
    "    res[f'title_ordering_spheres{suffix}'] = np.int32([sum(df['title'] == 'Ordering Spheres')])\n",
    "    res[f'title_pan_balance{suffix}'] = np.int32([sum(df['title'] == 'Pan Balance')])\n",
    "    res[f'title_pirate_tale{suffix}'] = np.int32([sum(df['title'] == \"Pirate's Tale\")])\n",
    "    res[f'title_rulers{suffix}'] = np.int32([sum(df['title'] == 'Rulers')])\n",
    "    res[f'title_sandcastle{suffix}'] = np.int32([sum(df['title'] == 'Sandcastle Builder (Activity)')])\n",
    "    res[f'title_scrub{suffix}'] = np.int32([sum(df['title'] == 'Scrub-A-Dub')])\n",
    "    res[f'title_slop{suffix}'] = np.int32([sum(df['title'] == 'Slop Problem')])\n",
    "    res[f'title_treasure_map{suffix}'] = np.int32([sum(df['title'] == 'Treasure Map')])\n",
    "    res[f'title_treetop_city_1{suffix}'] = np.int32([sum(df['title'] == 'Tree Top City - Level 1')])\n",
    "    res[f'title_treetop_city_2{suffix}'] = np.int32([sum(df['title'] == 'Tree Top City - Level 2')])\n",
    "    res[f'title_treetop_city_3{suffix}'] = np.int32([sum(df['title'] == 'Tree Top City - Level 3')])\n",
    "    res[f'title_watering_hole{suffix}'] = np.int32([sum(df['title'] == 'Watering Hole (Activity)')])\n",
    "    res[f'title_welcome{suffix}'] = np.int32([sum(df['title'] == 'Welcome to Lost Lagoon!')])\n",
    "    \n",
    "    for code in EVENT_CODES:\n",
    "        (total, activity, assessment, clip, game) = _event_code_counts(df, code)\n",
    "        res[f'event_{code}{suffix}'] = total\n",
    "        res[f'event_{code}_activity{suffix}'] = activity\n",
    "        res[f'event_{code}_assessment{suffix}'] = assessment\n",
    "        res[f'event_{code}_clip{suffix}'] = clip\n",
    "        res[f'event_{code}_game{suffix}'] = game\n",
    "    \n",
    "    for eid in EVENT_IDS:\n",
    "        res[f'eid_{eid}{suffix}'] = np.int32([sum(df['event_id'] == eid)])\n",
    "    \n",
    "    res[f'game_time{suffix}'] = np.int32(df['game_time'].max())\n",
    "    res[f'event_count{suffix}'] = np.int32(df['event_count'].max())\n",
    "    res.update(_event_data_features(df, suffix))\n",
    "    return res\n",
    "\n",
    "\n",
    "def _features(df, installation_id, EVENT_CODES, EVENT_IDS):\n",
    "    res = {}\n",
    "    iid = df[df['installation_id'] == installation_id].copy()\n",
    "    if TARGET in df.columns:\n",
    "        cutoff = _cutoff(iid, TARGET)\n",
    "        iid = _trim_events_after_last_assessment(iid, cutoff)\n",
    "        res[TARGET] = _target_variable(iid, cutoff, TARGET)\n",
    "    res['installation_id'] = [installation_id]\n",
    "    cols = ['game_time', 'event_count']\n",
    "    for col in cols:\n",
    "        (_median, _max) = np.int32(_game_session_stats(iid, col))\n",
    "        res[f'{col}_p50'] = _median\n",
    "        res[f'{col}_max'] = _max\n",
    "    res.update(_features_map(iid, EVENT_CODES, EVENT_IDS))\n",
    "    return pd.DataFrame.from_dict(res)\n",
    "\n",
    "\n",
    "def _preprocess(raw, EVENT_CODES, EVENT_IDS):\n",
    "    res = pd.DataFrame()\n",
    "    iids = raw['installation_id'].unique()\n",
    "    for iid in tqdm(iids):\n",
    "        res = pd.concat([res, _features(raw, iid, EVENT_CODES, EVENT_IDS)], ignore_index=True)\n",
    "    return res\n",
    "\n",
    "\n",
    "train = _preprocess(train_raw, EVENT_CODES, EVENT_IDS)\n",
    "train.info(max_cols=999)"
   ]
  },
  {
   "cell_type": "code",
   "execution_count": null,
   "metadata": {},
   "outputs": [],
   "source": [
    "train.head(10)"
   ]
  },
  {
   "cell_type": "code",
   "execution_count": null,
   "metadata": {},
   "outputs": [],
   "source": [
    "test = _preprocess(test_raw, EVENT_CODES, EVENT_IDS)\n",
    "test.info(max_cols=999)"
   ]
  },
  {
   "cell_type": "code",
   "execution_count": null,
   "metadata": {
    "scrolled": false
   },
   "outputs": [],
   "source": [
    "test.head(20)"
   ]
  },
  {
   "cell_type": "code",
   "execution_count": null,
   "metadata": {},
   "outputs": [],
   "source": [
    "train.to_parquet('train.parquet')\n",
    "test.to_parquet('test.parquet')\n",
    "_log(os.listdir(\".\"))"
   ]
  },
  {
   "cell_type": "markdown",
   "metadata": {},
   "source": [
    "# Train Model"
   ]
  },
  {
   "cell_type": "code",
   "execution_count": null,
   "metadata": {},
   "outputs": [],
   "source": [
    "train = pd.read_parquet('train.parquet')\n",
    "test = pd.read_parquet('test.parquet')"
   ]
  },
  {
   "cell_type": "code",
   "execution_count": null,
   "metadata": {},
   "outputs": [],
   "source": [
    "PREDICTORS = sorted(list(set(test.columns.values) - {'installation_id'}))\n",
    "_log(f'{len(PREDICTORS)} predictors={PREDICTORS}')"
   ]
  },
  {
   "cell_type": "code",
   "execution_count": null,
   "metadata": {},
   "outputs": [],
   "source": [
    "def _rmse(y, y_pred):\n",
    "    return sqrt(mean_squared_error(y, y_pred))\n",
    "\n",
    "\n",
    "SCORING = make_scorer(_rmse, greater_is_better = False)"
   ]
  },
  {
   "cell_type": "code",
   "execution_count": null,
   "metadata": {},
   "outputs": [],
   "source": [
    "%%time\n",
    "y_train = train[TARGET].astype(int)\n",
    "x_train = train[PREDICTORS]\n",
    "model = lgb.LGBMRegressor(n_estimators=ESTIMATORS, reg_alpha=1)\n",
    "pipe = Pipeline([('model', model)])\n",
    "param_grid = {\n",
    "    'model__learning_rate': [0.01],\n",
    "    'model__num_leaves': [80],\n",
    "    'model__min_child_samples': [200],\n",
    "    'model__colsample_bytree': [0.5]\n",
    "}\n",
    "cv = GridSearchCV(pipe, cv=FOLDS, param_grid=param_grid, scoring=SCORING)\n",
    "#cv.fit(x_train, y_train, model__early_stopping_rounds=200, model__verbose=500)\n",
    "cv.fit(x_train, y_train)\n",
    "#assert cv.best_estimator_['model'].n_classes_ == 4\n",
    "_log(f'best_params_={cv.best_params_}\\nbest_score_={cv.best_score_:.5f}')"
   ]
  },
  {
   "cell_type": "code",
   "execution_count": null,
   "metadata": {},
   "outputs": [],
   "source": [
    "# plot_metric only works with early stopping rounds\n",
    "#lgb.plot_metric(cv.best_estimator_['model'])"
   ]
  },
  {
   "cell_type": "code",
   "execution_count": null,
   "metadata": {},
   "outputs": [],
   "source": [
    "lgb.plot_importance(cv.best_estimator_['model'], max_num_features=100, figsize=(10, 30))"
   ]
  },
  {
   "cell_type": "markdown",
   "metadata": {},
   "source": [
    "# Predict out of fold"
   ]
  },
  {
   "cell_type": "code",
   "execution_count": null,
   "metadata": {},
   "outputs": [],
   "source": [
    "oof = train[['installation_id']].copy()\n",
    "oof[TARGET] = cv.predict(x_train)\n",
    "assert oof[TARGET].min() > -0.5\n",
    "assert oof[TARGET].max() < 3.5\n",
    "oof[TARGET] = np.round(oof[TARGET]).astype(int)\n",
    "oof.head()"
   ]
  },
  {
   "cell_type": "code",
   "execution_count": null,
   "metadata": {},
   "outputs": [],
   "source": [
    "score = cohen_kappa_score(oof[TARGET], y_train, weights='quadratic')\n",
    "_log(f'oof score={score:.5f}')"
   ]
  },
  {
   "cell_type": "markdown",
   "metadata": {},
   "source": [
    "# Predict on Test set"
   ]
  },
  {
   "cell_type": "code",
   "execution_count": null,
   "metadata": {},
   "outputs": [],
   "source": [
    "x_test = test[PREDICTORS]\n",
    "sub = test[['installation_id']].copy()\n",
    "sub[TARGET] = cv.predict(x_test)\n",
    "assert sub[TARGET].min() > -0.5\n",
    "assert sub[TARGET].max() < 3.5\n",
    "sub[TARGET] = np.round(sub[TARGET]).astype(int)\n",
    "sub.head()"
   ]
  },
  {
   "cell_type": "code",
   "execution_count": null,
   "metadata": {},
   "outputs": [],
   "source": [
    "plt.subplot(1, 3, 1)\n",
    "plt.title('test predict')\n",
    "sub[TARGET].plot(kind='hist')\n",
    "plt.subplot(1, 3, 2)\n",
    "plt.title('oof predict')\n",
    "oof[TARGET].plot(kind='hist')\n",
    "plt.subplot(1, 3, 3)\n",
    "plt.title('oof truth')\n",
    "tmp = train[TARGET].copy()\n",
    "tmp = tmp.astype(int)\n",
    "tmp.plot(kind='hist')\n",
    "plt.tight_layout()"
   ]
  },
  {
   "cell_type": "code",
   "execution_count": null,
   "metadata": {},
   "outputs": [],
   "source": [
    "sub.to_csv('submission.csv', index=False)\n",
    "_log(os.listdir(\".\"))"
   ]
  }
 ],
 "metadata": {
  "kernelspec": {
   "display_name": "Python 3",
   "language": "python",
   "name": "python3"
  },
  "language_info": {
   "codemirror_mode": {
    "name": "ipython",
    "version": 3
   },
   "file_extension": ".py",
   "mimetype": "text/x-python",
   "name": "python",
   "nbconvert_exporter": "python",
   "pygments_lexer": "ipython3",
   "version": "3.7.1"
  }
 },
 "nbformat": 4,
 "nbformat_minor": 1
}
