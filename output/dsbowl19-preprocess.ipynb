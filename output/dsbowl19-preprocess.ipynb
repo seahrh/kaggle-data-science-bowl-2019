{
 "cells": [
  {
   "cell_type": "code",
   "execution_count": 14,
   "metadata": {
    "_cell_guid": "b1076dfc-b9ad-4769-8c92-a6c4dae69d19",
    "_uuid": "8f2839f25d086af736a60e9eeb907d3b93b6e0e5"
   },
   "outputs": [],
   "source": [
    "import os\n",
    "import random\n",
    "import json\n",
    "import numpy as np\n",
    "import pandas as pd\n",
    "import lightgbm as lgb\n",
    "import sklearn\n",
    "from sklearn.pipeline import Pipeline\n",
    "from sklearn.metrics import cohen_kappa_score, make_scorer\n",
    "from sklearn.model_selection import GridSearchCV\n",
    "import matplotlib.pyplot as plt\n",
    "import seaborn as sns\n",
    "from tqdm import tqdm"
   ]
  },
  {
   "cell_type": "code",
   "execution_count": 15,
   "metadata": {},
   "outputs": [],
   "source": [
    "def _log(str):\n",
    "    os.system(f'echo \\\"{str}\\\"')\n",
    "    print(str)"
   ]
  },
  {
   "cell_type": "code",
   "execution_count": 16,
   "metadata": {},
   "outputs": [],
   "source": [
    "NAN = '__NAN__'\n",
    "INPUT_ROOT = '../input/data-science-bowl-2019'\n",
    "JOIN_KEY = ['installation_id', 'game_session', 'title']\n",
    "TARGET = 'accuracy_group'\n",
    "FEATURES = {\n",
    "    'event_id', \n",
    "    'game_session', \n",
    "    'timestamp', \n",
    "    'installation_id', \n",
    "    'event_count',\n",
    "    'event_code', \n",
    "    'game_time', \n",
    "    'title', \n",
    "    'type', \n",
    "    'world',\n",
    "    'event_data'\n",
    "}\n",
    "EVENT_CODES = ['2000', '2010', '2020', '2025', '2030', '2035', '2040', '2050', '2060', '2070', '2075', '2080', '2081', '2083', '3010', '3020', '3021', '3110', '3120', '3121', '4010', '4020', '4021', '4022', '4025', '4030', '4031', '4035', '4040', '4045', '4050', '4070', '4080', '4090', '4095', '4100', '4110', '4220', '4230', '4235', '5000', '5010']\n",
    "SEED = 31\n",
    "FOLDS = 3\n",
    "ESTIMATORS = 1000"
   ]
  },
  {
   "cell_type": "code",
   "execution_count": 17,
   "metadata": {},
   "outputs": [],
   "source": [
    "def _init():\n",
    "    # Characters such as empty strings '' or numpy.inf are considered NA values\n",
    "    pd.set_option('use_inf_as_na', True)\n",
    "    pd.set_option('display.max_columns', 999)\n",
    "    pd.set_option('display.max_rows', 999)\n",
    "    \n",
    "    \n",
    "_init()"
   ]
  },
  {
   "cell_type": "code",
   "execution_count": 18,
   "metadata": {},
   "outputs": [],
   "source": [
    "def seed_everything(seed):\n",
    "    random.seed(seed)\n",
    "    os.environ['PYTHONHASHSEED'] = str(seed)\n",
    "    np.random.seed(seed)\n",
    "\n",
    "\n",
    "seed_everything(SEED)"
   ]
  },
  {
   "cell_type": "code",
   "execution_count": 19,
   "metadata": {},
   "outputs": [
    {
     "name": "stdout",
     "output_type": "stream",
     "text": [
      "../input/data-science-bowl-2019\\sample_submission.csv\n",
      "../input/data-science-bowl-2019\\test.csv\n",
      "../input/data-science-bowl-2019\\test.csv.zip\n",
      "../input/data-science-bowl-2019\\train.csv\n",
      "../input/data-science-bowl-2019\\train.csv.zip\n",
      "../input/data-science-bowl-2019\\train_labels.csv\n",
      "../input/data-science-bowl-2019\\train_labels.csv.zip\n"
     ]
    }
   ],
   "source": [
    "# Input data files are available in the \"../input/\" directory.\n",
    "# For example, running this (by clicking run or pressing Shift+Enter) will list all files under the input directory\n",
    "\n",
    "for dirname, _, filenames in os.walk(INPUT_ROOT):\n",
    "    for filename in filenames:\n",
    "        _log(os.path.join(dirname, filename))\n",
    "\n",
    "# Any results you write to the current directory are saved as output."
   ]
  },
  {
   "cell_type": "code",
   "execution_count": 20,
   "metadata": {
    "_cell_guid": "79c7e3d0-c299-4dcb-8224-4455121ee9b0",
    "_uuid": "d629ff2d2480ee46fbb7e2d37f6b5fab8052498a"
   },
   "outputs": [
    {
     "name": "stdout",
     "output_type": "stream",
     "text": [
      "<class 'pandas.core.frame.DataFrame'>\n",
      "RangeIndex: 17690 entries, 0 to 17689\n",
      "Data columns (total 4 columns):\n",
      "game_session       17690 non-null object\n",
      "installation_id    17690 non-null object\n",
      "title              17690 non-null object\n",
      "accuracy_group     17690 non-null int64\n",
      "dtypes: int64(1), object(3)\n",
      "memory usage: 552.9+ KB\n",
      "Wall time: 1min 15s\n"
     ]
    }
   ],
   "source": [
    "%%time\n",
    "train_raw = pd.read_csv(f'{INPUT_ROOT}/train.csv', usecols=FEATURES)\n",
    "train_labels = pd.read_csv(f'{INPUT_ROOT}/train_labels.csv', usecols=JOIN_KEY + [TARGET])\n",
    "test_raw = pd.read_csv(f'{INPUT_ROOT}/test.csv', usecols=FEATURES)\n",
    "train_labels.info()"
   ]
  },
  {
   "cell_type": "markdown",
   "metadata": {},
   "source": [
    "# Extract event data JSON"
   ]
  },
  {
   "cell_type": "code",
   "execution_count": 39,
   "metadata": {},
   "outputs": [
    {
     "name": "stdout",
     "output_type": "stream",
     "text": [
      "<class 'pandas.core.frame.DataFrame'>\n",
      "RangeIndex: 100000 entries, 0 to 99999\n",
      "Data columns (total 132 columns):\n",
      "event.version                     1141 non-null object\n",
      "event.identifier                  34509 non-null object\n",
      "event.media_type                  34509 non-null object\n",
      "event.total_duration              17424 non-null float64\n",
      "event.duration                    33697 non-null float64\n",
      "event.coordinates.x               50548 non-null float64\n",
      "event.coordinates.y               50548 non-null float64\n",
      "event.coordinates.stage_width     50548 non-null float64\n",
      "event.coordinates.stage_height    50548 non-null float64\n",
      "event.castles_placed              528 non-null object\n",
      "event.molds                       18 non-null object\n",
      "event.size                        7033 non-null float64\n",
      "event.sand                        1088 non-null float64\n",
      "event.filled                      1462 non-null object\n",
      "event.level                       7435 non-null float64\n",
      "event.round                       60136 non-null float64\n",
      "event.movie_id                    528 non-null object\n",
      "event.options                     695 non-null object\n",
      "event.animals                     695 non-null object\n",
      "event.round_target.size           1362 non-null float64\n",
      "event.round_target.type           1362 non-null object\n",
      "event.round_target.animal         1362 non-null object\n",
      "event.item_type                   931 non-null object\n",
      "event.position                    3458 non-null float64\n",
      "event.animal                      931 non-null object\n",
      "event.correct                     6663 non-null object\n",
      "event.misses                      2167 non-null float64\n",
      "event.holding_shell               1012 non-null object\n",
      "event.has_water                   1012 non-null object\n",
      "event.shells                      103 non-null object\n",
      "event.holes                       388 non-null object\n",
      "event.shell_size                  1015 non-null float64\n",
      "event.hole_position               285 non-null float64\n",
      "event.cloud                       1072 non-null object\n",
      "event.cloud_size                  1072 non-null float64\n",
      "event.water_level                 1307 non-null float64\n",
      "event.time_played                 59 non-null float64\n",
      "event.houses                      217 non-null object\n",
      "event.dinosaurs                   2009 non-null object\n",
      "event.dinosaur                    3193 non-null object\n",
      "event.dinosaurs_placed            786 non-null object\n",
      "event.house.size                  731 non-null float64\n",
      "event.house.position              731 non-null float64\n",
      "event.rocket                      1404 non-null float64\n",
      "event.height                      1289 non-null float64\n",
      "event.launched                    678 non-null object\n",
      "event.flowers                     1276 non-null object\n",
      "event.flower                      918 non-null float64\n",
      "event.growth                      354 non-null object\n",
      "event.stumps                      301 non-null object\n",
      "event.source                      14244 non-null object\n",
      "event.destination                 769 non-null object\n",
      "event.session_duration            82 non-null float64\n",
      "event.exit_type                   16 non-null object\n",
      "event.distance                    265 non-null float64\n",
      "event.target_distances            287 non-null object\n",
      "event.round_prompt                49 non-null object\n",
      "event.target_size                 160 non-null float64\n",
      "event.resources                   3070 non-null object\n",
      "event.object_type                 370 non-null object\n",
      "event.group                       210 non-null float64\n",
      "event.bug                         954 non-null object\n",
      "event.buglength                   321 non-null float64\n",
      "event.stage_number                86 non-null float64\n",
      "event.hat                         525 non-null float64\n",
      "event.caterpillar                 672 non-null object\n",
      "event.hats                        530 non-null object\n",
      "event.caterpillars                784 non-null object\n",
      "event.bird_height                 269 non-null float64\n",
      "event.target_containers           424 non-null float64\n",
      "event.container_type              114 non-null object\n",
      "event.containers                  102 non-null float64\n",
      "event.current_containers          459 non-null float64\n",
      "event.total_containers            459 non-null float64\n",
      "event.toy_earned                  98 non-null object\n",
      "event.object                      2591 non-null object\n",
      "event.previous_jars               724 non-null object\n",
      "event.bottles                     4441 non-null object\n",
      "event.bottle.amount               4438 non-null float64\n",
      "event.bottle.color                4438 non-null object\n",
      "event.jar                         2274 non-null object\n",
      "event.jar_filled                  1626 non-null object\n",
      "event.tutorial_step               48 non-null float64\n",
      "event.hats_placed                 94 non-null object\n",
      "event.toy                         1400 non-null object\n",
      "event.diet                        349 non-null object\n",
      "event.target_weight               1441 non-null float64\n",
      "event.weight                      5958 non-null float64\n",
      "event.scale_weight                1218 non-null float64\n",
      "event.scale_contents              2756 non-null object\n",
      "event.target_water_level          120 non-null float64\n",
      "event.buckets                     308 non-null object\n",
      "event.target_bucket               72 non-null float64\n",
      "event.mode                        626 non-null object\n",
      "event.prompt                      110 non-null object\n",
      "event.round_number                88 non-null float64\n",
      "event.bucket                      260 non-null float64\n",
      "event.buckets_placed              280 non-null object\n",
      "event.cauldron                    94 non-null float64\n",
      "event.layout.left.chickens        2927 non-null float64\n",
      "event.layout.left.pig             2927 non-null object\n",
      "event.layout.right.chickens       2927 non-null float64\n",
      "event.layout.right.pig            2927 non-null object\n",
      "event.side                        1248 non-null object\n",
      "event.table_weights               1812 non-null float64\n",
      "event.starting_weights            162 non-null float64\n",
      "event.tape_length                 13 non-null float64\n",
      "event.bug_length                  13 non-null float64\n",
      "event.dwell_time                  34 non-null float64\n",
      "event.total_bowls                 95 non-null float64\n",
      "event.bowls                       95 non-null object\n",
      "event.has_toy                     1381 non-null object\n",
      "event.bowl_id                     1530 non-null float64\n",
      "event.crystals                    890 non-null object\n",
      "event.crystal_id                  838 non-null object\n",
      "event.left                        1351 non-null object\n",
      "event.right                       1351 non-null object\n",
      "event.location                    687 non-null object\n",
      "event.scale_weights               1223 non-null float64\n",
      "event.weights                     427 non-null float64\n",
      "event.layout.row1                 830 non-null object\n",
      "event.layout.row2                 830 non-null object\n",
      "event.nest                        382 non-null float64\n",
      "event.pillars                     974 non-null object\n",
      "event.max_position                4 non-null float64\n",
      "event.end_position                4 non-null float64\n",
      "event.gate.row                    410 non-null float64\n",
      "event.gate.column                 410 non-null float64\n",
      "event.gate.side                   410 non-null object\n",
      "event.dinosaur_weight             534 non-null float64\n",
      "event.dinosaur_count              535 non-null float64\n",
      "event.chests                      2 non-null object\n",
      "dtypes: float64(63), object(69)\n",
      "memory usage: 100.7+ MB\n",
      "Wall time: 13.3 s\n"
     ]
    }
   ],
   "source": [
    "%%time\n",
    "def _extract_event_data(df):\n",
    "    ed = pd.io.json.json_normalize(df['event_data'].apply(json.loads)).add_prefix('event.')\n",
    "    ed = ed.drop(columns=[\n",
    "        'event.event_code', \n",
    "        'event.event_count',\n",
    "        'event.game_time',\n",
    "        'event.description'\n",
    "    ])\n",
    "    return ed\n",
    "\n",
    "\n",
    "train_raw_tmp = _extract_event_data(train_raw[:100000])\n",
    "test_raw_tmp = _extract_event_data(test_raw[:100000])\n",
    "train_raw_tmp.info(max_cols=999)"
   ]
  },
  {
   "cell_type": "code",
   "execution_count": 40,
   "metadata": {},
   "outputs": [
    {
     "name": "stdout",
     "output_type": "stream",
     "text": [
      "<class 'pandas.core.frame.DataFrame'>\n",
      "RangeIndex: 100000 entries, 0 to 99999\n",
      "Data columns (total 130 columns):\n",
      "event.version                     1106 non-null object\n",
      "event.round                       59524 non-null float64\n",
      "event.coordinates.x               51261 non-null float64\n",
      "event.coordinates.y               51261 non-null float64\n",
      "event.coordinates.stage_width     51261 non-null float64\n",
      "event.coordinates.stage_height    51261 non-null float64\n",
      "event.identifier                  33835 non-null object\n",
      "event.media_type                  33835 non-null object\n",
      "event.total_duration              17056 non-null float64\n",
      "event.duration                    32850 non-null float64\n",
      "event.dinosaur                    2806 non-null object\n",
      "event.diet                        264 non-null object\n",
      "event.target_weight               855 non-null float64\n",
      "event.resources                   2494 non-null object\n",
      "event.weight                      4634 non-null float64\n",
      "event.source                      12665 non-null object\n",
      "event.correct                     6431 non-null object\n",
      "event.scale_weight                997 non-null float64\n",
      "event.scale_contents              2522 non-null object\n",
      "event.houses                      193 non-null object\n",
      "event.dinosaurs                   1760 non-null object\n",
      "event.size                        6313 non-null float64\n",
      "event.dinosaurs_placed            674 non-null object\n",
      "event.house.size                  621 non-null float64\n",
      "event.house.position              621 non-null float64\n",
      "event.misses                      2521 non-null float64\n",
      "event.rocket                      2405 non-null float64\n",
      "event.height                      1796 non-null float64\n",
      "event.launched                    1169 non-null object\n",
      "event.crystals                    800 non-null object\n",
      "event.crystal_id                  756 non-null object\n",
      "event.side                        1168 non-null object\n",
      "event.left                        1056 non-null object\n",
      "event.right                       1056 non-null object\n",
      "event.session_duration            86 non-null float64\n",
      "event.layout.row1                 509 non-null object\n",
      "event.layout.row2                 509 non-null object\n",
      "event.gate.row                    235 non-null float64\n",
      "event.gate.column                 235 non-null float64\n",
      "event.gate.side                   235 non-null object\n",
      "event.nest                        250 non-null float64\n",
      "event.bug                         922 non-null object\n",
      "event.sand                        700 non-null float64\n",
      "event.filled                      916 non-null object\n",
      "event.castles_placed              328 non-null object\n",
      "event.target_water_level          140 non-null float64\n",
      "event.water_level                 971 non-null float64\n",
      "event.level                       12452 non-null float64\n",
      "event.movie_id                    738 non-null object\n",
      "event.time_played                 130 non-null float64\n",
      "event.options                     1062 non-null object\n",
      "event.animals                     1062 non-null object\n",
      "event.round_target.size           2084 non-null float64\n",
      "event.round_target.type           2084 non-null object\n",
      "event.round_target.animal         2084 non-null object\n",
      "event.item_type                   1614 non-null object\n",
      "event.position                    4090 non-null float64\n",
      "event.animal                      1614 non-null object\n",
      "event.cloud                       958 non-null object\n",
      "event.cloud_size                  958 non-null float64\n",
      "event.holding_shell               1087 non-null object\n",
      "event.has_water                   1087 non-null object\n",
      "event.tutorial_step               62 non-null float64\n",
      "event.shells                      80 non-null object\n",
      "event.holes                       295 non-null object\n",
      "event.shell_size                  897 non-null float64\n",
      "event.hole_position               215 non-null float64\n",
      "event.target_containers           652 non-null float64\n",
      "event.container_type              172 non-null object\n",
      "event.containers                  155 non-null float64\n",
      "event.current_containers          607 non-null float64\n",
      "event.total_containers            607 non-null float64\n",
      "event.toy_earned                  148 non-null object\n",
      "event.object                      1891 non-null object\n",
      "event.previous_jars               564 non-null object\n",
      "event.bottles                     3690 non-null object\n",
      "event.bottle.amount               3685 non-null float64\n",
      "event.bottle.color                3685 non-null object\n",
      "event.jar                         1793 non-null object\n",
      "event.jar_filled                  1285 non-null object\n",
      "event.buckets                     659 non-null object\n",
      "event.target_bucket               122 non-null float64\n",
      "event.mode                        465 non-null object\n",
      "event.prompt                      182 non-null object\n",
      "event.round_number                148 non-null float64\n",
      "event.bucket                      568 non-null float64\n",
      "event.buckets_placed              605 non-null object\n",
      "event.destination                 635 non-null object\n",
      "event.cauldron                    178 non-null float64\n",
      "event.layout.left.chickens        2616 non-null float64\n",
      "event.layout.left.pig             2616 non-null object\n",
      "event.layout.right.chickens       2616 non-null float64\n",
      "event.layout.right.pig            2616 non-null object\n",
      "event.total_bowls                 119 non-null float64\n",
      "event.bowls                       119 non-null object\n",
      "event.has_toy                     1322 non-null object\n",
      "event.bowl_id                     1518 non-null float64\n",
      "event.dinosaur_weight             316 non-null float64\n",
      "event.dinosaur_count              317 non-null float64\n",
      "event.table_weights               919 non-null float64\n",
      "event.starting_weights            105 non-null float64\n",
      "event.scale_weights               616 non-null float64\n",
      "event.location                    329 non-null object\n",
      "event.weights                     198 non-null float64\n",
      "event.pillars                     684 non-null object\n",
      "event.flowers                     2235 non-null object\n",
      "event.flower                      1794 non-null float64\n",
      "event.growth                      438 non-null object\n",
      "event.stumps                      352 non-null object\n",
      "event.exit_type                   19 non-null object\n",
      "event.target_distances            403 non-null object\n",
      "event.round_prompt                55 non-null object\n",
      "event.distance                    357 non-null float64\n",
      "event.target_size                 130 non-null float64\n",
      "event.object_type                 288 non-null object\n",
      "event.group                       158 non-null float64\n",
      "event.buglength                   290 non-null float64\n",
      "event.stage_number                58 non-null float64\n",
      "event.hat                         328 non-null float64\n",
      "event.caterpillar                 486 non-null object\n",
      "event.hats                        339 non-null object\n",
      "event.caterpillars                538 non-null object\n",
      "event.bird_height                 211 non-null float64\n",
      "event.hats_placed                 46 non-null object\n",
      "event.toy                         402 non-null object\n",
      "event.max_position                34 non-null float64\n",
      "event.end_position                34 non-null float64\n",
      "event.molds                       8 non-null object\n",
      "event.chests                      1 non-null object\n",
      "event.dwell_time                  2 non-null float64\n",
      "dtypes: float64(61), object(69)\n",
      "memory usage: 99.2+ MB\n"
     ]
    }
   ],
   "source": [
    "test_raw_tmp.info(max_cols=999)"
   ]
  },
  {
   "cell_type": "code",
   "execution_count": 32,
   "metadata": {},
   "outputs": [
    {
     "ename": "TypeError",
     "evalue": "'<' not supported between instances of 'str' and 'float'",
     "output_type": "error",
     "traceback": [
      "\u001b[1;31m---------------------------------------------------------------------------\u001b[0m",
      "\u001b[1;31mTypeError\u001b[0m                                 Traceback (most recent call last)",
      "\u001b[1;32m<ipython-input-32-e131395a33ce>\u001b[0m in \u001b[0;36m<module>\u001b[1;34m\u001b[0m\n\u001b[1;32m----> 1\u001b[1;33m \u001b[0mvs\u001b[0m \u001b[1;33m=\u001b[0m \u001b[0msorted\u001b[0m\u001b[1;33m(\u001b[0m\u001b[0mtest_raw_tmp\u001b[0m\u001b[1;33m[\u001b[0m\u001b[1;34m'event.version'\u001b[0m\u001b[1;33m]\u001b[0m\u001b[1;33m.\u001b[0m\u001b[0munique\u001b[0m\u001b[1;33m(\u001b[0m\u001b[1;33m)\u001b[0m\u001b[1;33m)\u001b[0m\u001b[1;33m\u001b[0m\u001b[1;33m\u001b[0m\u001b[0m\n\u001b[0m\u001b[0;32m      2\u001b[0m \u001b[0m_log\u001b[0m\u001b[1;33m(\u001b[0m\u001b[1;34mf'{len(vs)} values={vs}'\u001b[0m\u001b[1;33m)\u001b[0m\u001b[1;33m\u001b[0m\u001b[1;33m\u001b[0m\u001b[0m\n",
      "\u001b[1;31mTypeError\u001b[0m: '<' not supported between instances of 'str' and 'float'"
     ]
    }
   ],
   "source": [
    "vs = sorted(test_raw_tmp['event.version'].unique())\n",
    "_log(f'{len(vs)} values={vs}')"
   ]
  },
  {
   "cell_type": "code",
   "execution_count": 103,
   "metadata": {},
   "outputs": [
    {
     "name": "stdout",
     "output_type": "stream",
     "text": [
      "<class 'pandas.core.frame.DataFrame'>\n",
      "RangeIndex: 1156414 entries, 0 to 1156413\n",
      "Data columns (total 11 columns):\n",
      "event_id           1156414 non-null object\n",
      "game_session       1156414 non-null object\n",
      "timestamp          1156414 non-null object\n",
      "event_data         1156414 non-null object\n",
      "installation_id    1156414 non-null object\n",
      "event_count        1156414 non-null int64\n",
      "event_code         1156414 non-null object\n",
      "game_time          1156414 non-null int64\n",
      "title              1156414 non-null object\n",
      "type               1156414 non-null object\n",
      "world              1156414 non-null object\n",
      "dtypes: int64(2), object(9)\n",
      "memory usage: 97.1+ MB\n"
     ]
    }
   ],
   "source": [
    "test_raw.info()"
   ]
  },
  {
   "cell_type": "code",
   "execution_count": 104,
   "metadata": {},
   "outputs": [
    {
     "name": "stdout",
     "output_type": "stream",
     "text": [
      "Wall time: 5.14 s\n"
     ]
    }
   ],
   "source": [
    "%%time\n",
    "def _set_string_type(df, cols):\n",
    "    df[cols] = df[cols].fillna(NAN).astype(str)\n",
    "    return df\n",
    "\n",
    "\n",
    "cols = ['event_code']\n",
    "train_raw = _set_string_type(train_raw, cols=cols + [TARGET])\n",
    "test_raw = _set_string_type(test_raw, cols=cols)"
   ]
  },
  {
   "cell_type": "code",
   "execution_count": 105,
   "metadata": {},
   "outputs": [
    {
     "name": "stdout",
     "output_type": "stream",
     "text": [
      "4 train_raw type=['Activity', 'Assessment', 'Clip', 'Game']\n"
     ]
    }
   ],
   "source": [
    "vs = sorted(train_raw['type'].unique())\n",
    "_log(f'{len(vs)} train_raw type={vs}')"
   ]
  },
  {
   "cell_type": "code",
   "execution_count": 106,
   "metadata": {},
   "outputs": [
    {
     "name": "stdout",
     "output_type": "stream",
     "text": [
      "4 train_raw type=['CRYSTALCAVES', 'MAGMAPEAK', 'NONE', 'TREETOPCITY']\n"
     ]
    }
   ],
   "source": [
    "vs = sorted(train_raw['world'].unique())\n",
    "_log(f'{len(vs)} train_raw type={vs}')"
   ]
  },
  {
   "cell_type": "code",
   "execution_count": 107,
   "metadata": {},
   "outputs": [
    {
     "name": "stdout",
     "output_type": "stream",
     "text": [
      "42 train_raw type=['2000', '2010', '2020', '2025', '2030', '2035', '2040', '2050', '2060', '2070', '2075', '2080', '2081', '2083', '3010', '3020', '3021', '3110', '3120', '3121', '4010', '4020', '4021', '4022', '4025', '4030', '4031', '4035', '4040', '4045', '4050', '4070', '4080', '4090', '4095', '4100', '4110', '4220', '4230', '4235', '5000', '5010']\n"
     ]
    }
   ],
   "source": [
    "vs = sorted(train_raw['event_code'].unique())\n",
    "_log(f'{len(vs)} train_raw type={vs}')"
   ]
  },
  {
   "cell_type": "code",
   "execution_count": 108,
   "metadata": {},
   "outputs": [
    {
     "name": "stdout",
     "output_type": "stream",
     "text": [
      "44 train_raw titles=['12 Monkeys', 'Air Show', 'All Star Sorting', 'Balancing Act', 'Bird Measurer (Assessment)', 'Bottle Filler (Activity)', 'Bubble Bath', 'Bug Measurer (Activity)', 'Cart Balancer (Assessment)', 'Cauldron Filler (Assessment)', 'Chest Sorter (Assessment)', 'Chicken Balancer (Activity)', 'Chow Time', 'Costume Box', 'Crystal Caves - Level 1', 'Crystal Caves - Level 2', 'Crystal Caves - Level 3', 'Crystals Rule', 'Dino Dive', 'Dino Drink', 'Egg Dropper (Activity)', 'Fireworks (Activity)', 'Flower Waterer (Activity)', 'Happy Camel', 'Heavy, Heavier, Heaviest', 'Honey Cake', 'Leaf Leader', 'Lifting Heavy Things', 'Magma Peak - Level 1', 'Magma Peak - Level 2', 'Mushroom Sorter (Assessment)', 'Ordering Spheres', 'Pan Balance', \"Pirate's Tale\", 'Rulers', 'Sandcastle Builder (Activity)', 'Scrub-A-Dub', 'Slop Problem', 'Treasure Map', 'Tree Top City - Level 1', 'Tree Top City - Level 2', 'Tree Top City - Level 3', 'Watering Hole (Activity)', 'Welcome to Lost Lagoon!']\n"
     ]
    }
   ],
   "source": [
    "vs = sorted(train_raw['title'].unique())\n",
    "_log(f'{len(vs)} train_raw titles={vs}')"
   ]
  },
  {
   "cell_type": "code",
   "execution_count": 109,
   "metadata": {},
   "outputs": [
    {
     "name": "stdout",
     "output_type": "stream",
     "text": [
      "44 test titles=['12 Monkeys', 'Air Show', 'All Star Sorting', 'Balancing Act', 'Bird Measurer (Assessment)', 'Bottle Filler (Activity)', 'Bubble Bath', 'Bug Measurer (Activity)', 'Cart Balancer (Assessment)', 'Cauldron Filler (Assessment)', 'Chest Sorter (Assessment)', 'Chicken Balancer (Activity)', 'Chow Time', 'Costume Box', 'Crystal Caves - Level 1', 'Crystal Caves - Level 2', 'Crystal Caves - Level 3', 'Crystals Rule', 'Dino Dive', 'Dino Drink', 'Egg Dropper (Activity)', 'Fireworks (Activity)', 'Flower Waterer (Activity)', 'Happy Camel', 'Heavy, Heavier, Heaviest', 'Honey Cake', 'Leaf Leader', 'Lifting Heavy Things', 'Magma Peak - Level 1', 'Magma Peak - Level 2', 'Mushroom Sorter (Assessment)', 'Ordering Spheres', 'Pan Balance', \"Pirate's Tale\", 'Rulers', 'Sandcastle Builder (Activity)', 'Scrub-A-Dub', 'Slop Problem', 'Treasure Map', 'Tree Top City - Level 1', 'Tree Top City - Level 2', 'Tree Top City - Level 3', 'Watering Hole (Activity)', 'Welcome to Lost Lagoon!']\n"
     ]
    }
   ],
   "source": [
    "vs = sorted(test_raw['title'].unique())\n",
    "_log(f'{len(vs)} test titles={vs}')"
   ]
  },
  {
   "cell_type": "code",
   "execution_count": 110,
   "metadata": {},
   "outputs": [
    {
     "name": "stdout",
     "output_type": "stream",
     "text": [
      "5 train_labels titles=['Bird Measurer (Assessment)', 'Cart Balancer (Assessment)', 'Cauldron Filler (Assessment)', 'Chest Sorter (Assessment)', 'Mushroom Sorter (Assessment)']\n"
     ]
    }
   ],
   "source": [
    "vs = sorted(train_labels['title'].unique())\n",
    "_log(f'{len(vs)} train_labels titles={vs}')"
   ]
  },
  {
   "cell_type": "markdown",
   "metadata": {},
   "source": [
    "# All event ids in test set also exist in train set"
   ]
  },
  {
   "cell_type": "code",
   "execution_count": 111,
   "metadata": {},
   "outputs": [
    {
     "name": "stdout",
     "output_type": "stream",
     "text": [
      "0 event_ids exist in test set but not train set.\n"
     ]
    }
   ],
   "source": [
    "test_set = set(test_raw['event_id'])\n",
    "train_set = set(train_raw['event_id'])\n",
    "vs = test_set - train_set\n",
    "_log(f'{len(vs)} event_ids exist in test set but not train set.')"
   ]
  },
  {
   "cell_type": "code",
   "execution_count": 112,
   "metadata": {},
   "outputs": [],
   "source": [
    "def _remove_unlabelled_data(train_raw, train_labels):\n",
    "    return train_raw[train_raw['installation_id'].isin(train_labels['installation_id'].unique())]\n",
    "\n",
    "\n",
    "train_raw = _remove_unlabelled_data(train_raw, train_labels)"
   ]
  },
  {
   "cell_type": "code",
   "execution_count": 113,
   "metadata": {},
   "outputs": [
    {
     "name": "stdout",
     "output_type": "stream",
     "text": [
      "Wall time: 6.59 s\n"
     ]
    }
   ],
   "source": [
    "%%time\n",
    "def _add_labels(train_raw, train_labels, on):\n",
    "    return pd.merge(train_raw, train_labels, on=on, how='left')\n",
    "\n",
    "\n",
    "train_raw = _add_labels(train_raw, train_labels, on=JOIN_KEY)\n",
    "\n",
    "#_log(f'train[\\'{TARGET}\\'] count null={train[TARGET].isna().sum()}')"
   ]
  },
  {
   "cell_type": "code",
   "execution_count": 114,
   "metadata": {},
   "outputs": [],
   "source": [
    "def _transform_timestamp(df):\n",
    "    df['timestamp'] = pd.to_datetime(df['timestamp'])\n",
    "    return df\n",
    "\n",
    "\n",
    "train_raw = _transform_timestamp(train_raw)\n",
    "test_raw = _transform_timestamp(test_raw)"
   ]
  },
  {
   "cell_type": "code",
   "execution_count": 115,
   "metadata": {},
   "outputs": [
    {
     "ename": "AttributeError",
     "evalue": "'DatetimeArray' object has no attribute '_constructor'",
     "output_type": "error",
     "traceback": [
      "\u001b[1;31m---------------------------------------------------------------------------\u001b[0m",
      "\u001b[1;31mAttributeError\u001b[0m                            Traceback (most recent call last)",
      "\u001b[1;32m<timed exec>\u001b[0m in \u001b[0;36m<module>\u001b[1;34m\u001b[0m\n",
      "\u001b[1;32m<timed exec>\u001b[0m in \u001b[0;36m_sort_it\u001b[1;34m(df)\u001b[0m\n",
      "\u001b[1;32mc:\\feng\\workspace\\kaggle-data-science-bowl-2019\\venv\\lib\\site-packages\\pandas\\core\\frame.py\u001b[0m in \u001b[0;36msort_values\u001b[1;34m(self, by, axis, ascending, inplace, kind, na_position)\u001b[0m\n\u001b[0;32m   5000\u001b[0m \u001b[1;33m\u001b[0m\u001b[0m\n\u001b[0;32m   5001\u001b[0m             \u001b[0mkeys\u001b[0m \u001b[1;33m=\u001b[0m \u001b[1;33m[\u001b[0m\u001b[0mself\u001b[0m\u001b[1;33m.\u001b[0m\u001b[0m_get_label_or_level_values\u001b[0m\u001b[1;33m(\u001b[0m\u001b[0mx\u001b[0m\u001b[1;33m,\u001b[0m \u001b[0maxis\u001b[0m\u001b[1;33m=\u001b[0m\u001b[0maxis\u001b[0m\u001b[1;33m)\u001b[0m \u001b[1;32mfor\u001b[0m \u001b[0mx\u001b[0m \u001b[1;32min\u001b[0m \u001b[0mby\u001b[0m\u001b[1;33m]\u001b[0m\u001b[1;33m\u001b[0m\u001b[1;33m\u001b[0m\u001b[0m\n\u001b[1;32m-> 5002\u001b[1;33m             \u001b[0mindexer\u001b[0m \u001b[1;33m=\u001b[0m \u001b[0mlexsort_indexer\u001b[0m\u001b[1;33m(\u001b[0m\u001b[0mkeys\u001b[0m\u001b[1;33m,\u001b[0m \u001b[0morders\u001b[0m\u001b[1;33m=\u001b[0m\u001b[0mascending\u001b[0m\u001b[1;33m,\u001b[0m \u001b[0mna_position\u001b[0m\u001b[1;33m=\u001b[0m\u001b[0mna_position\u001b[0m\u001b[1;33m)\u001b[0m\u001b[1;33m\u001b[0m\u001b[1;33m\u001b[0m\u001b[0m\n\u001b[0m\u001b[0;32m   5003\u001b[0m             \u001b[0mindexer\u001b[0m \u001b[1;33m=\u001b[0m \u001b[0mensure_platform_int\u001b[0m\u001b[1;33m(\u001b[0m\u001b[0mindexer\u001b[0m\u001b[1;33m)\u001b[0m\u001b[1;33m\u001b[0m\u001b[1;33m\u001b[0m\u001b[0m\n\u001b[0;32m   5004\u001b[0m         \u001b[1;32melse\u001b[0m\u001b[1;33m:\u001b[0m\u001b[1;33m\u001b[0m\u001b[1;33m\u001b[0m\u001b[0m\n",
      "\u001b[1;32mc:\\feng\\workspace\\kaggle-data-science-bowl-2019\\venv\\lib\\site-packages\\pandas\\core\\sorting.py\u001b[0m in \u001b[0;36mlexsort_indexer\u001b[1;34m(keys, orders, na_position)\u001b[0m\n\u001b[0;32m    207\u001b[0m         \u001b[1;31m# create the Categorical\u001b[0m\u001b[1;33m\u001b[0m\u001b[1;33m\u001b[0m\u001b[1;33m\u001b[0m\u001b[0m\n\u001b[0;32m    208\u001b[0m         \u001b[1;32melse\u001b[0m\u001b[1;33m:\u001b[0m\u001b[1;33m\u001b[0m\u001b[1;33m\u001b[0m\u001b[0m\n\u001b[1;32m--> 209\u001b[1;33m             \u001b[0mc\u001b[0m \u001b[1;33m=\u001b[0m \u001b[0mCategorical\u001b[0m\u001b[1;33m(\u001b[0m\u001b[0mkey\u001b[0m\u001b[1;33m,\u001b[0m \u001b[0mordered\u001b[0m\u001b[1;33m=\u001b[0m\u001b[1;32mTrue\u001b[0m\u001b[1;33m)\u001b[0m\u001b[1;33m\u001b[0m\u001b[1;33m\u001b[0m\u001b[0m\n\u001b[0m\u001b[0;32m    210\u001b[0m \u001b[1;33m\u001b[0m\u001b[0m\n\u001b[0;32m    211\u001b[0m         \u001b[1;32mif\u001b[0m \u001b[0mna_position\u001b[0m \u001b[1;32mnot\u001b[0m \u001b[1;32min\u001b[0m \u001b[1;33m[\u001b[0m\u001b[1;34m\"last\"\u001b[0m\u001b[1;33m,\u001b[0m \u001b[1;34m\"first\"\u001b[0m\u001b[1;33m]\u001b[0m\u001b[1;33m:\u001b[0m\u001b[1;33m\u001b[0m\u001b[1;33m\u001b[0m\u001b[0m\n",
      "\u001b[1;32mc:\\feng\\workspace\\kaggle-data-science-bowl-2019\\venv\\lib\\site-packages\\pandas\\core\\arrays\\categorical.py\u001b[0m in \u001b[0;36m__init__\u001b[1;34m(self, values, categories, ordered, dtype, fastpath)\u001b[0m\n\u001b[0;32m    375\u001b[0m                 \u001b[1;32melse\u001b[0m\u001b[1;33m:\u001b[0m\u001b[1;33m\u001b[0m\u001b[1;33m\u001b[0m\u001b[0m\n\u001b[0;32m    376\u001b[0m                     \u001b[0msanitize_dtype\u001b[0m \u001b[1;33m=\u001b[0m \u001b[1;32mNone\u001b[0m\u001b[1;33m\u001b[0m\u001b[1;33m\u001b[0m\u001b[0m\n\u001b[1;32m--> 377\u001b[1;33m                 \u001b[0mnull_mask\u001b[0m \u001b[1;33m=\u001b[0m \u001b[0misna\u001b[0m\u001b[1;33m(\u001b[0m\u001b[0mvalues\u001b[0m\u001b[1;33m)\u001b[0m\u001b[1;33m\u001b[0m\u001b[1;33m\u001b[0m\u001b[0m\n\u001b[0m\u001b[0;32m    378\u001b[0m                 \u001b[1;32mif\u001b[0m \u001b[0mnull_mask\u001b[0m\u001b[1;33m.\u001b[0m\u001b[0many\u001b[0m\u001b[1;33m(\u001b[0m\u001b[1;33m)\u001b[0m\u001b[1;33m:\u001b[0m\u001b[1;33m\u001b[0m\u001b[1;33m\u001b[0m\u001b[0m\n\u001b[0;32m    379\u001b[0m                     \u001b[0mvalues\u001b[0m \u001b[1;33m=\u001b[0m \u001b[1;33m[\u001b[0m\u001b[0mvalues\u001b[0m\u001b[1;33m[\u001b[0m\u001b[0midx\u001b[0m\u001b[1;33m]\u001b[0m \u001b[1;32mfor\u001b[0m \u001b[0midx\u001b[0m \u001b[1;32min\u001b[0m \u001b[0mnp\u001b[0m\u001b[1;33m.\u001b[0m\u001b[0mwhere\u001b[0m\u001b[1;33m(\u001b[0m\u001b[1;33m~\u001b[0m\u001b[0mnull_mask\u001b[0m\u001b[1;33m)\u001b[0m\u001b[1;33m[\u001b[0m\u001b[1;36m0\u001b[0m\u001b[1;33m]\u001b[0m\u001b[1;33m]\u001b[0m\u001b[1;33m\u001b[0m\u001b[1;33m\u001b[0m\u001b[0m\n",
      "\u001b[1;32mc:\\feng\\workspace\\kaggle-data-science-bowl-2019\\venv\\lib\\site-packages\\pandas\\core\\dtypes\\missing.py\u001b[0m in \u001b[0;36misna\u001b[1;34m(obj)\u001b[0m\n\u001b[0;32m    120\u001b[0m     \u001b[0mName\u001b[0m\u001b[1;33m:\u001b[0m \u001b[1;36m1\u001b[0m\u001b[1;33m,\u001b[0m \u001b[0mdtype\u001b[0m\u001b[1;33m:\u001b[0m \u001b[0mbool\u001b[0m\u001b[1;33m\u001b[0m\u001b[1;33m\u001b[0m\u001b[0m\n\u001b[0;32m    121\u001b[0m     \"\"\"\n\u001b[1;32m--> 122\u001b[1;33m     \u001b[1;32mreturn\u001b[0m \u001b[0m_isna\u001b[0m\u001b[1;33m(\u001b[0m\u001b[0mobj\u001b[0m\u001b[1;33m)\u001b[0m\u001b[1;33m\u001b[0m\u001b[1;33m\u001b[0m\u001b[0m\n\u001b[0m\u001b[0;32m    123\u001b[0m \u001b[1;33m\u001b[0m\u001b[0m\n\u001b[0;32m    124\u001b[0m \u001b[1;33m\u001b[0m\u001b[0m\n",
      "\u001b[1;32mc:\\feng\\workspace\\kaggle-data-science-bowl-2019\\venv\\lib\\site-packages\\pandas\\core\\dtypes\\missing.py\u001b[0m in \u001b[0;36m_isna_old\u001b[1;34m(obj)\u001b[0m\n\u001b[0;32m    177\u001b[0m         \u001b[1;32mreturn\u001b[0m \u001b[0m_isna_ndarraylike_old\u001b[0m\u001b[1;33m(\u001b[0m\u001b[0mobj\u001b[0m\u001b[1;33m)\u001b[0m\u001b[1;33m\u001b[0m\u001b[1;33m\u001b[0m\u001b[0m\n\u001b[0;32m    178\u001b[0m     \u001b[1;32melif\u001b[0m \u001b[0misinstance\u001b[0m\u001b[1;33m(\u001b[0m\u001b[0mobj\u001b[0m\u001b[1;33m,\u001b[0m \u001b[0mABCGeneric\u001b[0m\u001b[1;33m)\u001b[0m\u001b[1;33m:\u001b[0m\u001b[1;33m\u001b[0m\u001b[1;33m\u001b[0m\u001b[0m\n\u001b[1;32m--> 179\u001b[1;33m         \u001b[1;32mreturn\u001b[0m \u001b[0mobj\u001b[0m\u001b[1;33m.\u001b[0m\u001b[0m_constructor\u001b[0m\u001b[1;33m(\u001b[0m\u001b[0mobj\u001b[0m\u001b[1;33m.\u001b[0m\u001b[0m_data\u001b[0m\u001b[1;33m.\u001b[0m\u001b[0misna\u001b[0m\u001b[1;33m(\u001b[0m\u001b[0mfunc\u001b[0m\u001b[1;33m=\u001b[0m\u001b[0m_isna_old\u001b[0m\u001b[1;33m)\u001b[0m\u001b[1;33m)\u001b[0m\u001b[1;33m\u001b[0m\u001b[1;33m\u001b[0m\u001b[0m\n\u001b[0m\u001b[0;32m    180\u001b[0m     \u001b[1;32melif\u001b[0m \u001b[0misinstance\u001b[0m\u001b[1;33m(\u001b[0m\u001b[0mobj\u001b[0m\u001b[1;33m,\u001b[0m \u001b[0mlist\u001b[0m\u001b[1;33m)\u001b[0m\u001b[1;33m:\u001b[0m\u001b[1;33m\u001b[0m\u001b[1;33m\u001b[0m\u001b[0m\n\u001b[0;32m    181\u001b[0m         \u001b[1;32mreturn\u001b[0m \u001b[0m_isna_ndarraylike_old\u001b[0m\u001b[1;33m(\u001b[0m\u001b[0mnp\u001b[0m\u001b[1;33m.\u001b[0m\u001b[0masarray\u001b[0m\u001b[1;33m(\u001b[0m\u001b[0mobj\u001b[0m\u001b[1;33m,\u001b[0m \u001b[0mdtype\u001b[0m\u001b[1;33m=\u001b[0m\u001b[0mobject\u001b[0m\u001b[1;33m)\u001b[0m\u001b[1;33m)\u001b[0m\u001b[1;33m\u001b[0m\u001b[1;33m\u001b[0m\u001b[0m\n",
      "\u001b[1;31mAttributeError\u001b[0m: 'DatetimeArray' object has no attribute '_constructor'"
     ]
    }
   ],
   "source": [
    "%%time\n",
    "def _sort_it(df):\n",
    "    return df.sort_values(by=['installation_id', 'timestamp'])\n",
    "\n",
    "\n",
    "train_raw = _sort_it(train_raw)\n",
    "test_raw = _sort_it(test_raw)"
   ]
  },
  {
   "cell_type": "markdown",
   "metadata": {},
   "source": [
    "# Multiple accuracy groups per installation id\n",
    "In the train set, there are multiple accuracy groups per installation id. The task is to predict the accuracy group of the **last** assessment for a given installation id."
   ]
  },
  {
   "cell_type": "code",
   "execution_count": 116,
   "metadata": {},
   "outputs": [
    {
     "ename": "KeyError",
     "evalue": "'accuracy_group'",
     "output_type": "error",
     "traceback": [
      "\u001b[1;31m---------------------------------------------------------------------------\u001b[0m",
      "\u001b[1;31mKeyError\u001b[0m                                  Traceback (most recent call last)",
      "\u001b[1;32mc:\\feng\\workspace\\kaggle-data-science-bowl-2019\\venv\\lib\\site-packages\\pandas\\core\\indexes\\base.py\u001b[0m in \u001b[0;36mget_loc\u001b[1;34m(self, key, method, tolerance)\u001b[0m\n\u001b[0;32m   2896\u001b[0m             \u001b[1;32mtry\u001b[0m\u001b[1;33m:\u001b[0m\u001b[1;33m\u001b[0m\u001b[1;33m\u001b[0m\u001b[0m\n\u001b[1;32m-> 2897\u001b[1;33m                 \u001b[1;32mreturn\u001b[0m \u001b[0mself\u001b[0m\u001b[1;33m.\u001b[0m\u001b[0m_engine\u001b[0m\u001b[1;33m.\u001b[0m\u001b[0mget_loc\u001b[0m\u001b[1;33m(\u001b[0m\u001b[0mkey\u001b[0m\u001b[1;33m)\u001b[0m\u001b[1;33m\u001b[0m\u001b[1;33m\u001b[0m\u001b[0m\n\u001b[0m\u001b[0;32m   2898\u001b[0m             \u001b[1;32mexcept\u001b[0m \u001b[0mKeyError\u001b[0m\u001b[1;33m:\u001b[0m\u001b[1;33m\u001b[0m\u001b[1;33m\u001b[0m\u001b[0m\n",
      "\u001b[1;32mpandas/_libs/index.pyx\u001b[0m in \u001b[0;36mpandas._libs.index.IndexEngine.get_loc\u001b[1;34m()\u001b[0m\n",
      "\u001b[1;32mpandas/_libs/index.pyx\u001b[0m in \u001b[0;36mpandas._libs.index.IndexEngine.get_loc\u001b[1;34m()\u001b[0m\n",
      "\u001b[1;32mpandas/_libs/hashtable_class_helper.pxi\u001b[0m in \u001b[0;36mpandas._libs.hashtable.PyObjectHashTable.get_item\u001b[1;34m()\u001b[0m\n",
      "\u001b[1;32mpandas/_libs/hashtable_class_helper.pxi\u001b[0m in \u001b[0;36mpandas._libs.hashtable.PyObjectHashTable.get_item\u001b[1;34m()\u001b[0m\n",
      "\u001b[1;31mKeyError\u001b[0m: 'accuracy_group'",
      "\nDuring handling of the above exception, another exception occurred:\n",
      "\u001b[1;31mKeyError\u001b[0m                                  Traceback (most recent call last)",
      "\u001b[1;32m<ipython-input-116-4ce14f08c31e>\u001b[0m in \u001b[0;36m<module>\u001b[1;34m\u001b[0m\n\u001b[1;32m----> 1\u001b[1;33m \u001b[0mvs\u001b[0m \u001b[1;33m=\u001b[0m \u001b[0mtrain_raw\u001b[0m\u001b[1;33m[\u001b[0m\u001b[0mtrain_raw\u001b[0m\u001b[1;33m[\u001b[0m\u001b[0mTARGET\u001b[0m\u001b[1;33m]\u001b[0m \u001b[1;33m!=\u001b[0m \u001b[0mNAN\u001b[0m\u001b[1;33m]\u001b[0m\u001b[1;33m.\u001b[0m\u001b[0mgroupby\u001b[0m\u001b[1;33m(\u001b[0m\u001b[1;34m'installation_id'\u001b[0m\u001b[1;33m)\u001b[0m\u001b[1;33m[\u001b[0m\u001b[0mTARGET\u001b[0m\u001b[1;33m]\u001b[0m\u001b[1;33m.\u001b[0m\u001b[0mnunique\u001b[0m\u001b[1;33m(\u001b[0m\u001b[1;33m)\u001b[0m\u001b[1;33m\u001b[0m\u001b[1;33m\u001b[0m\u001b[0m\n\u001b[0m\u001b[0;32m      2\u001b[0m \u001b[0mvs\u001b[0m\u001b[1;33m\u001b[0m\u001b[1;33m\u001b[0m\u001b[0m\n",
      "\u001b[1;32mc:\\feng\\workspace\\kaggle-data-science-bowl-2019\\venv\\lib\\site-packages\\pandas\\core\\frame.py\u001b[0m in \u001b[0;36m__getitem__\u001b[1;34m(self, key)\u001b[0m\n\u001b[0;32m   2993\u001b[0m             \u001b[1;32mif\u001b[0m \u001b[0mself\u001b[0m\u001b[1;33m.\u001b[0m\u001b[0mcolumns\u001b[0m\u001b[1;33m.\u001b[0m\u001b[0mnlevels\u001b[0m \u001b[1;33m>\u001b[0m \u001b[1;36m1\u001b[0m\u001b[1;33m:\u001b[0m\u001b[1;33m\u001b[0m\u001b[1;33m\u001b[0m\u001b[0m\n\u001b[0;32m   2994\u001b[0m                 \u001b[1;32mreturn\u001b[0m \u001b[0mself\u001b[0m\u001b[1;33m.\u001b[0m\u001b[0m_getitem_multilevel\u001b[0m\u001b[1;33m(\u001b[0m\u001b[0mkey\u001b[0m\u001b[1;33m)\u001b[0m\u001b[1;33m\u001b[0m\u001b[1;33m\u001b[0m\u001b[0m\n\u001b[1;32m-> 2995\u001b[1;33m             \u001b[0mindexer\u001b[0m \u001b[1;33m=\u001b[0m \u001b[0mself\u001b[0m\u001b[1;33m.\u001b[0m\u001b[0mcolumns\u001b[0m\u001b[1;33m.\u001b[0m\u001b[0mget_loc\u001b[0m\u001b[1;33m(\u001b[0m\u001b[0mkey\u001b[0m\u001b[1;33m)\u001b[0m\u001b[1;33m\u001b[0m\u001b[1;33m\u001b[0m\u001b[0m\n\u001b[0m\u001b[0;32m   2996\u001b[0m             \u001b[1;32mif\u001b[0m \u001b[0mis_integer\u001b[0m\u001b[1;33m(\u001b[0m\u001b[0mindexer\u001b[0m\u001b[1;33m)\u001b[0m\u001b[1;33m:\u001b[0m\u001b[1;33m\u001b[0m\u001b[1;33m\u001b[0m\u001b[0m\n\u001b[0;32m   2997\u001b[0m                 \u001b[0mindexer\u001b[0m \u001b[1;33m=\u001b[0m \u001b[1;33m[\u001b[0m\u001b[0mindexer\u001b[0m\u001b[1;33m]\u001b[0m\u001b[1;33m\u001b[0m\u001b[1;33m\u001b[0m\u001b[0m\n",
      "\u001b[1;32mc:\\feng\\workspace\\kaggle-data-science-bowl-2019\\venv\\lib\\site-packages\\pandas\\core\\indexes\\base.py\u001b[0m in \u001b[0;36mget_loc\u001b[1;34m(self, key, method, tolerance)\u001b[0m\n\u001b[0;32m   2897\u001b[0m                 \u001b[1;32mreturn\u001b[0m \u001b[0mself\u001b[0m\u001b[1;33m.\u001b[0m\u001b[0m_engine\u001b[0m\u001b[1;33m.\u001b[0m\u001b[0mget_loc\u001b[0m\u001b[1;33m(\u001b[0m\u001b[0mkey\u001b[0m\u001b[1;33m)\u001b[0m\u001b[1;33m\u001b[0m\u001b[1;33m\u001b[0m\u001b[0m\n\u001b[0;32m   2898\u001b[0m             \u001b[1;32mexcept\u001b[0m \u001b[0mKeyError\u001b[0m\u001b[1;33m:\u001b[0m\u001b[1;33m\u001b[0m\u001b[1;33m\u001b[0m\u001b[0m\n\u001b[1;32m-> 2899\u001b[1;33m                 \u001b[1;32mreturn\u001b[0m \u001b[0mself\u001b[0m\u001b[1;33m.\u001b[0m\u001b[0m_engine\u001b[0m\u001b[1;33m.\u001b[0m\u001b[0mget_loc\u001b[0m\u001b[1;33m(\u001b[0m\u001b[0mself\u001b[0m\u001b[1;33m.\u001b[0m\u001b[0m_maybe_cast_indexer\u001b[0m\u001b[1;33m(\u001b[0m\u001b[0mkey\u001b[0m\u001b[1;33m)\u001b[0m\u001b[1;33m)\u001b[0m\u001b[1;33m\u001b[0m\u001b[1;33m\u001b[0m\u001b[0m\n\u001b[0m\u001b[0;32m   2900\u001b[0m         \u001b[0mindexer\u001b[0m \u001b[1;33m=\u001b[0m \u001b[0mself\u001b[0m\u001b[1;33m.\u001b[0m\u001b[0mget_indexer\u001b[0m\u001b[1;33m(\u001b[0m\u001b[1;33m[\u001b[0m\u001b[0mkey\u001b[0m\u001b[1;33m]\u001b[0m\u001b[1;33m,\u001b[0m \u001b[0mmethod\u001b[0m\u001b[1;33m=\u001b[0m\u001b[0mmethod\u001b[0m\u001b[1;33m,\u001b[0m \u001b[0mtolerance\u001b[0m\u001b[1;33m=\u001b[0m\u001b[0mtolerance\u001b[0m\u001b[1;33m)\u001b[0m\u001b[1;33m\u001b[0m\u001b[1;33m\u001b[0m\u001b[0m\n\u001b[0;32m   2901\u001b[0m         \u001b[1;32mif\u001b[0m \u001b[0mindexer\u001b[0m\u001b[1;33m.\u001b[0m\u001b[0mndim\u001b[0m \u001b[1;33m>\u001b[0m \u001b[1;36m1\u001b[0m \u001b[1;32mor\u001b[0m \u001b[0mindexer\u001b[0m\u001b[1;33m.\u001b[0m\u001b[0msize\u001b[0m \u001b[1;33m>\u001b[0m \u001b[1;36m1\u001b[0m\u001b[1;33m:\u001b[0m\u001b[1;33m\u001b[0m\u001b[1;33m\u001b[0m\u001b[0m\n",
      "\u001b[1;32mpandas/_libs/index.pyx\u001b[0m in \u001b[0;36mpandas._libs.index.IndexEngine.get_loc\u001b[1;34m()\u001b[0m\n",
      "\u001b[1;32mpandas/_libs/index.pyx\u001b[0m in \u001b[0;36mpandas._libs.index.IndexEngine.get_loc\u001b[1;34m()\u001b[0m\n",
      "\u001b[1;32mpandas/_libs/hashtable_class_helper.pxi\u001b[0m in \u001b[0;36mpandas._libs.hashtable.PyObjectHashTable.get_item\u001b[1;34m()\u001b[0m\n",
      "\u001b[1;32mpandas/_libs/hashtable_class_helper.pxi\u001b[0m in \u001b[0;36mpandas._libs.hashtable.PyObjectHashTable.get_item\u001b[1;34m()\u001b[0m\n",
      "\u001b[1;31mKeyError\u001b[0m: 'accuracy_group'"
     ]
    }
   ],
   "source": [
    "vs = train_raw[train_raw[TARGET] != NAN].groupby('installation_id')[TARGET].nunique()\n",
    "vs"
   ]
  },
  {
   "cell_type": "code",
   "execution_count": null,
   "metadata": {},
   "outputs": [],
   "source": [
    "train_raw.info()"
   ]
  },
  {
   "cell_type": "code",
   "execution_count": null,
   "metadata": {},
   "outputs": [],
   "source": [
    "def _log_smoothing(df, cols):\n",
    "    for col in cols:\n",
    "        df[col] = np.log(df[col] + 1)\n",
    "    return df\n",
    "\n",
    "\n",
    "#cols = ['event_count', 'game_time']\n",
    "#train = _log_smoothing(train, cols)\n",
    "#test = _log_smoothing(test, cols)"
   ]
  },
  {
   "cell_type": "code",
   "execution_count": null,
   "metadata": {},
   "outputs": [],
   "source": [
    "train_raw.head(40)"
   ]
  },
  {
   "cell_type": "code",
   "execution_count": null,
   "metadata": {},
   "outputs": [],
   "source": [
    "train_raw.describe(include='all')"
   ]
  },
  {
   "cell_type": "code",
   "execution_count": null,
   "metadata": {},
   "outputs": [],
   "source": [
    "test_raw.head()"
   ]
  },
  {
   "cell_type": "code",
   "execution_count": null,
   "metadata": {},
   "outputs": [],
   "source": [
    "test_raw.describe(include='all')"
   ]
  },
  {
   "cell_type": "markdown",
   "metadata": {},
   "source": [
    "# Train-test split not by time\n",
    "Both train and test sets span the same time period."
   ]
  },
  {
   "cell_type": "code",
   "execution_count": null,
   "metadata": {},
   "outputs": [],
   "source": [
    "_log(f'train[timestamp] is from {train_raw.timestamp.min()} to {train_raw.timestamp.max()}')\n",
    "_log(f'test[timestamp] is from {test_raw.timestamp.min()} to {test_raw.timestamp.max()}')"
   ]
  },
  {
   "cell_type": "markdown",
   "metadata": {},
   "source": [
    "# Feature Engineering"
   ]
  },
  {
   "cell_type": "code",
   "execution_count": null,
   "metadata": {},
   "outputs": [],
   "source": [
    "def _cutoff(df, TARGET):\n",
    "    return df[df[TARGET] != NAN]['timestamp'].max()\n",
    "\n",
    "\n",
    "def _trim_events_after_last_assessment(df, cutoff):\n",
    "    res = df[df['timestamp'] <= cutoff]\n",
    "    #_log(f'cutoff: before={df.shape}, after={res.shape}')\n",
    "    return res\n",
    "    \n",
    "    \n",
    "def _target_variable(df, cutoff, TARGET):\n",
    "    vs = df[df['timestamp'] == cutoff][TARGET].values\n",
    "    assert len(set(vs)) == 1\n",
    "    return str(int(float(vs[0])))\n",
    "    \n",
    "    \n",
    "def _game_time_median(df):\n",
    "    return df.groupby(['game_session'])['game_time'].transform('max').median()\n",
    "    \n",
    "    \n",
    "def _event_count_median(df):\n",
    "    return df.groupby(['game_session'])['event_count'].transform('max').median()\n",
    "\n",
    "\n",
    "def _event_code_counts(df, code):\n",
    "    total = np.int32([sum(df['event_code'] == code)])\n",
    "    activity = np.int32([sum((df['event_code'] == code) & (df['type'] == 'Activity'))])\n",
    "    assessment = np.int32([sum((df['event_code'] == code) & (df['type'] == 'Assessment'))])\n",
    "    clip = np.int32([sum((df['event_code'] == code) & (df['type'] == 'Clip'))])\n",
    "    game = np.int32([sum((df['event_code'] == code) & (df['type'] == 'Game'))])\n",
    "    return (total, activity, assessment, clip, game)\n",
    "\n",
    "\n",
    "def _features_map(df, EVENT_CODES, suffix=''):\n",
    "    res = {}\n",
    "    res[f'type_activity{suffix}'] = np.int32([sum(df['type'] == 'Activity')])\n",
    "    res[f'type_assessment{suffix}'] = np.int32([sum(df['type'] == 'Assessment')])\n",
    "    res[f'type_clip{suffix}'] = np.int32([sum(df['type'] == 'Clip')])\n",
    "    res[f'type_game{suffix}'] = np.int32([sum(df['type'] == 'Game')])\n",
    "    assert len(df) == res[f'type_activity{suffix}'][0] + res[f'type_assessment{suffix}'][0] + res[f'type_clip{suffix}'][0] + res[f'type_game{suffix}'][0]\n",
    "    res[f'world_crystalcaves{suffix}'] = np.int32([sum(df['world'] == 'CRYSTALCAVES')])\n",
    "    res[f'world_magmapeak{suffix}'] = np.int32([sum(df['world'] == 'MAGMAPEAK')])\n",
    "    res[f'world_treetopcity{suffix}'] = np.int32([sum(df['world'] == 'TREETOPCITY')])\n",
    "    res[f'world_none{suffix}'] = np.int32([sum(df['world'] == 'NONE')])\n",
    "    res[f'title_12_monkeys{suffix}'] = np.int32([sum(df['title'] == '12 Monkeys')])\n",
    "    res[f'title_air_show{suffix}'] = np.int32([sum(df['title'] == 'Air Show')])\n",
    "    res[f'title_all_star_sorting{suffix}'] = np.int32([sum(df['title'] == 'All Star Sorting')])\n",
    "    res[f'title_balancing_act{suffix}'] = np.int32([sum(df['title'] == 'Balancing Act')])\n",
    "    res[f'title_bird_measurer{suffix}'] = np.int32([sum(df['title'] == 'Bird Measurer (Assessment)')])\n",
    "    res[f'title_bottle_filler{suffix}'] = np.int32([sum(df['title'] == 'Bottle Filler (Activity)')])\n",
    "    res[f'title_bubble_bath{suffix}'] = np.int32([sum(df['title'] == 'Bubble Bath')])\n",
    "    res[f'title_bug_measurer{suffix}'] = np.int32([sum(df['title'] == 'Bug Measurer (Activity)')])\n",
    "    res[f'title_cart_balancer{suffix}'] = np.int32([sum(df['title'] == 'Cart Balancer (Assessment)')])\n",
    "    res[f'title_cauldron_filler{suffix}'] = np.int32([sum(df['title'] == 'Cauldron Filler (Assessment)')])\n",
    "    res[f'title_chest_sorter{suffix}'] = np.int32([sum(df['title'] == 'Chest Sorter (Assessment)')])\n",
    "    res[f'title_chicken_balancer{suffix}'] = np.int32([sum(df['title'] == 'Chicken Balancer (Activity)')])\n",
    "    res[f'title_chow_time{suffix}'] = np.int32([sum(df['title'] == 'Chow Time')])\n",
    "    res[f'title_costume_box{suffix}'] = np.int32([sum(df['title'] == 'Costume Box')])\n",
    "    res[f'title_crystal_caves_1{suffix}'] = np.int32([sum(df['title'] == 'Crystal Caves - Level 1')])\n",
    "    res[f'title_crystal_caves_2{suffix}'] = np.int32([sum(df['title'] == 'Crystal Caves - Level 2')])\n",
    "    res[f'title_crystal_caves_3{suffix}'] = np.int32([sum(df['title'] == 'Crystal Caves - Level 3')])\n",
    "    res[f'title_crystals_rule{suffix}'] = np.int32([sum(df['title'] == 'Crystals Rule')])\n",
    "    res[f'title_dino_dive{suffix}'] = np.int32([sum(df['title'] == 'Dino Dive')])\n",
    "    res[f'title_dino_drink{suffix}'] = np.int32([sum(df['title'] == 'Dino Drink')])\n",
    "    res[f'title_egg_dropper{suffix}'] = np.int32([sum(df['title'] == 'Egg Dropper (Activity)')])\n",
    "    res[f'title_fireworks{suffix}'] = np.int32([sum(df['title'] == 'Fireworks (Activity)')])\n",
    "    res[f'title_flower_waterer{suffix}'] = np.int32([sum(df['title'] == 'Flower Waterer (Activity)')])\n",
    "    res[f'title_happy_camel{suffix}'] = np.int32([sum(df['title'] == 'Happy Camel')])\n",
    "    res[f'title_heavy{suffix}'] = np.int32([sum(df['title'] == 'Heavy, Heavier, Heaviest')])\n",
    "    res[f'title_honey_cake{suffix}'] = np.int32([sum(df['title'] == 'Honey Cake')])\n",
    "    res[f'title_leaf_leader{suffix}'] = np.int32([sum(df['title'] == 'Leaf Leader')])\n",
    "    res[f'title_lifting{suffix}'] = np.int32([sum(df['title'] == 'Lifting Heavy Things')])\n",
    "    res[f'title_magma_peak_1{suffix}'] = np.int32([sum(df['title'] == 'Magma Peak - Level 1')])\n",
    "    res[f'title_magma_peak_2{suffix}'] = np.int32([sum(df['title'] == 'Magma Peak - Level 2')])\n",
    "    res[f'title_mushroom_sorter{suffix}'] = np.int32([sum(df['title'] == 'Mushroom Sorter (Assessment)')])\n",
    "    res[f'title_ordering_spheres{suffix}'] = np.int32([sum(df['title'] == 'Ordering Spheres')])\n",
    "    res[f'title_pan_balance{suffix}'] = np.int32([sum(df['title'] == 'Pan Balance')])\n",
    "    res[f'title_pirate_tale{suffix}'] = np.int32([sum(df['title'] == \"Pirate's Tale\")])\n",
    "    res[f'title_rulers{suffix}'] = np.int32([sum(df['title'] == 'Rulers')])\n",
    "    res[f'title_sandcastle{suffix}'] = np.int32([sum(df['title'] == 'Sandcastle Builder (Activity)')])\n",
    "    res[f'title_scrub{suffix}'] = np.int32([sum(df['title'] == 'Scrub-A-Dub')])\n",
    "    res[f'title_slop{suffix}'] = np.int32([sum(df['title'] == 'Slop Problem')])\n",
    "    res[f'title_treasure_map{suffix}'] = np.int32([sum(df['title'] == 'Treasure Map')])\n",
    "    res[f'title_treetop_city_1{suffix}'] = np.int32([sum(df['title'] == 'Tree Top City - Level 1')])\n",
    "    res[f'title_treetop_city_2{suffix}'] = np.int32([sum(df['title'] == 'Tree Top City - Level 2')])\n",
    "    res[f'title_treetop_city_3{suffix}'] = np.int32([sum(df['title'] == 'Tree Top City - Level 3')])\n",
    "    res[f'title_watering_hole{suffix}'] = np.int32([sum(df['title'] == 'Watering Hole (Activity)')])\n",
    "    res[f'title_welcome{suffix}'] = np.int32([sum(df['title'] == 'Welcome to Lost Lagoon!')])\n",
    "    \n",
    "    for code in EVENT_CODES:\n",
    "        (total, activity, assessment, clip, game) = _event_code_counts(df, code)\n",
    "        res[f'event_{code}{suffix}'] = total\n",
    "        res[f'event_{code}_activity{suffix}'] = activity\n",
    "        res[f'event_{code}_assessment{suffix}'] = assessment\n",
    "        res[f'event_{code}_clip{suffix}'] = clip\n",
    "        res[f'event_{code}_game{suffix}'] = game\n",
    "    \n",
    "    res[f'game_time{suffix}'] = np.int32(df['game_time'].max())\n",
    "    res[f'event_count{suffix}'] = np.int32(df['event_count'].max())\n",
    "    return res\n",
    "\n",
    "\n",
    "def _features(df, installation_id, EVENT_CODES):\n",
    "    res = {}\n",
    "    iid = df[df['installation_id'] == installation_id]\n",
    "    if TARGET in df.columns:\n",
    "        cutoff = _cutoff(iid, TARGET)\n",
    "        iid = _trim_events_after_last_assessment(iid, cutoff)\n",
    "        res[TARGET] = _target_variable(iid, cutoff, TARGET)\n",
    "    res['installation_id'] = [installation_id]\n",
    "    res['game_time_p50'] = np.int32(_game_time_median(iid))\n",
    "    res['event_count_p50'] = np.int32(_event_count_median(iid))\n",
    "    res.update(_features_map(iid, EVENT_CODES))\n",
    "    return pd.DataFrame.from_dict(res)\n",
    "\n",
    "\n",
    "def _preprocess(raw, EVENT_CODES):\n",
    "    res = pd.DataFrame()\n",
    "    iids = raw['installation_id'].unique()  #[:10]\n",
    "    for iid in tqdm(iids):\n",
    "        res = pd.concat([res, _features(raw, iid, EVENT_CODES)])\n",
    "    return res\n",
    "\n",
    "\n",
    "train = _preprocess(train_raw, EVENT_CODES)\n",
    "train.info(max_cols=999)"
   ]
  },
  {
   "cell_type": "code",
   "execution_count": null,
   "metadata": {},
   "outputs": [],
   "source": [
    "train.head(10)"
   ]
  },
  {
   "cell_type": "code",
   "execution_count": null,
   "metadata": {},
   "outputs": [],
   "source": [
    "test = _preprocess(test_raw, EVENT_CODES)\n",
    "test.info(max_cols=999)"
   ]
  },
  {
   "cell_type": "code",
   "execution_count": null,
   "metadata": {},
   "outputs": [],
   "source": [
    "test.head(20)"
   ]
  },
  {
   "cell_type": "code",
   "execution_count": null,
   "metadata": {},
   "outputs": [],
   "source": [
    "train.to_parquet('train.parquet')\n",
    "test.to_parquet('test.parquet')\n",
    "_log(os.listdir(\".\"))"
   ]
  },
  {
   "cell_type": "markdown",
   "metadata": {},
   "source": [
    "# Train Model"
   ]
  },
  {
   "cell_type": "code",
   "execution_count": null,
   "metadata": {},
   "outputs": [],
   "source": [
    "train = pd.read_parquet('train.parquet')\n",
    "test = pd.read_parquet('test.parquet')"
   ]
  },
  {
   "cell_type": "code",
   "execution_count": null,
   "metadata": {},
   "outputs": [],
   "source": [
    "PREDICTORS = set(test.columns.values) - {'installation_id'}"
   ]
  },
  {
   "cell_type": "code",
   "execution_count": null,
   "metadata": {},
   "outputs": [],
   "source": [
    "%%time\n",
    "y_train = train[TARGET].astype(int)\n",
    "x_train = train[PREDICTORS]\n",
    "model = lgb.LGBMRegressor(n_estimators=ESTIMATORS, reg_alpha=1)\n",
    "pipe = Pipeline([('model', model)])\n",
    "param_grid = {\n",
    "    'model__learning_rate': [0.01],\n",
    "    'model__num_leaves': [80],\n",
    "    'model__min_child_samples': [200],\n",
    "    'model__colsample_bytree': [0.5]\n",
    "}\n",
    "cv = GridSearchCV(pipe, cv=FOLDS, param_grid=param_grid, scoring='neg_root_mean_squared_error')\n",
    "#cv.fit(x_train, y_train, model__early_stopping_rounds=200, model__verbose=500)\n",
    "cv.fit(x_train, y_train)\n",
    "#assert cv.best_estimator_['model'].n_classes_ == 4\n",
    "_log(f'best_params_={cv.best_params_}\\nbest_score_={cv.best_score_:.5f}')"
   ]
  },
  {
   "cell_type": "code",
   "execution_count": null,
   "metadata": {},
   "outputs": [],
   "source": [
    "# plot_metric only works with early stopping rounds\n",
    "#lgb.plot_metric(cv.best_estimator_['model'])"
   ]
  },
  {
   "cell_type": "code",
   "execution_count": null,
   "metadata": {},
   "outputs": [],
   "source": [
    "lgb.plot_importance(cv.best_estimator_['model'], figsize=(20, 40))"
   ]
  },
  {
   "cell_type": "markdown",
   "metadata": {},
   "source": [
    "# Predict out of fold"
   ]
  },
  {
   "cell_type": "code",
   "execution_count": null,
   "metadata": {},
   "outputs": [],
   "source": [
    "oof = train[['installation_id']].copy()\n",
    "oof[TARGET] = cv.predict(x_train)\n",
    "assert oof[TARGET].min() >= -0.5\n",
    "assert oof[TARGET].max() <= 3.5\n",
    "oof[TARGET] = np.round(oof[TARGET]).astype(int)\n",
    "oof.head()"
   ]
  },
  {
   "cell_type": "code",
   "execution_count": null,
   "metadata": {},
   "outputs": [],
   "source": [
    "score = cohen_kappa_score(oof[TARGET], y_train, weights='quadratic')\n",
    "_log(f'oof score={score:.5f}')"
   ]
  },
  {
   "cell_type": "markdown",
   "metadata": {},
   "source": [
    "# Predict on Test set"
   ]
  },
  {
   "cell_type": "code",
   "execution_count": null,
   "metadata": {},
   "outputs": [],
   "source": [
    "x_test = test[PREDICTORS]\n",
    "sub = test[['installation_id']].copy()\n",
    "sub[TARGET] = cv.predict(x_test)\n",
    "assert sub[TARGET].min() >= -0.5\n",
    "assert sub[TARGET].max() <= 3.5\n",
    "sub[TARGET] = np.round(sub[TARGET]).astype(int)\n",
    "sub.head()"
   ]
  },
  {
   "cell_type": "code",
   "execution_count": null,
   "metadata": {},
   "outputs": [],
   "source": [
    "plt.subplot(1, 3, 1)\n",
    "plt.title('test predict')\n",
    "sub[TARGET].plot(kind='hist')\n",
    "plt.subplot(1, 3, 2)\n",
    "plt.title('oof predict')\n",
    "oof[TARGET].plot(kind='hist')\n",
    "plt.subplot(1, 3, 3)\n",
    "plt.title('oof truth')\n",
    "tmp = train[TARGET].copy()\n",
    "tmp = tmp.astype(int)\n",
    "tmp.plot(kind='hist')\n",
    "plt.tight_layout()"
   ]
  },
  {
   "cell_type": "code",
   "execution_count": null,
   "metadata": {},
   "outputs": [],
   "source": [
    "sub.to_csv('submission.csv', index=False)\n",
    "_log(os.listdir(\".\"))"
   ]
  }
 ],
 "metadata": {
  "kernelspec": {
   "display_name": "Python 3",
   "language": "python",
   "name": "python3"
  },
  "language_info": {
   "codemirror_mode": {
    "name": "ipython",
    "version": 3
   },
   "file_extension": ".py",
   "mimetype": "text/x-python",
   "name": "python",
   "nbconvert_exporter": "python",
   "pygments_lexer": "ipython3",
   "version": "3.7.1"
  }
 },
 "nbformat": 4,
 "nbformat_minor": 1
}
